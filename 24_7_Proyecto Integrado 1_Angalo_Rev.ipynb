{
 "cells": [
  {
   "cell_type": "markdown",
   "metadata": {},
   "source": [
    "¡Hola!\n",
    "\n",
    "Mi nombre es Tonatiuh Cruz. Me complace revisar tu proyecto hoy.\n",
    "\n",
    "Al identificar cualquier error inicialmente, simplemente los destacaré. Te animo a localizar y abordar los problemas de forma independiente como parte de tu preparación para un rol como data-analyst. En un entorno profesional, tu líder de equipo seguiría un enfoque similar. Si encuentras la tarea desafiante, proporcionaré una pista más específica en la próxima iteración.\n",
    "\n",
    "Encontrarás mis comentarios a continuación - **por favor no los muevas, modifiques o elimines**.\n",
    "\n",
    "Puedes encontrar mis comentarios en cajas verdes, amarillas o rojas como esta:\n",
    "\n",
    "<div class=\"alert alert-block alert-success\">\n",
    "<b>Comentario del revisor</b> <a class=\"tocSkip\"></a>\n",
    "\n",
    "Éxito. Todo está hecho correctamente.\n",
    "</div>\n",
    "\n",
    "<div class=\"alert alert-block alert-warning\">\n",
    "<b>Comentario del revisor</b> <a class=\"tocSkip\"></a>\n",
    "\n",
    "Observaciones. Algunas recomendaciones.\n",
    "</div>\n",
    "\n",
    "<div class=\"alert alert-block alert-danger\">\n",
    "<b>Comentario del revisor</b> <a class=\"tocSkip\"></a>\n",
    "\n",
    "Necesita corrección. El bloque requiere algunas correcciones. El trabajo no puede ser aceptado con comentarios en rojo.\n",
    "</div>\n",
    "\n",
    "Puedes responderme utilizando esto:\n",
    "\n",
    "<div class=\"alert alert-block alert-info\">\n",
    "<b>Respuesta del estudiante.</b> <a class=\"tocSkip\"></a>\n",
    "</div>"
   ]
  },
  {
   "cell_type": "markdown",
   "metadata": {},
   "source": [
    "<div class=\"alert alert-block alert-success\">\n",
    "<b>Revisión 2</b> <a class=\"tocSkip\"></a>\n",
    "\n",
    "¡Hola, Angel! Gran trabajo con los ajustes, agregaste una introducción para agregar contexto del análisis a desarrollar en el ejercicio, completaste valores nulos con la mediana, ajustante el periodo en tus gráficas y desarrollaste la prueba complementaria de levene! Solamente te dejo algunos comentarios adicionales para los errores que sigues presentando\n",
    "</div>"
   ]
  },
  {
   "cell_type": "markdown",
   "metadata": {},
   "source": [
    "<div class=\"alert alert-block alert-success\">\n",
    "<b>Revisión 2</b> <a class=\"tocSkip\"></a>\n",
    "\n",
    "¡Hola, Angel! Excelente trabajo con los ajustes, completaste la los valores nulos con la mediana, eliminaste los valores ausentes y reduciste el periodo en las gráficas para mostrar resultados actualizados. \n",
    "    \n",
    "Sigue con el excelente trabajo!    \n",
    "</div>"
   ]
  },
  {
   "cell_type": "markdown",
   "metadata": {},
   "source": [
    "<div class=\"alert alert-block alert-warning\">\n",
    "<b>Comentario del revisor</b> <a class=\"tocSkip\"></a>\n",
    "\n",
    "¡Hola, Angel! Recuerda que para los ejercicio de análisis de datos es necesario desarrollar la introducción, objetivo y etapas de análisis. Esto es crucial para cualquier proyecto, ya que establece una guía clara sobre los pasos a seguir. Tener estos elementos bien definidos desde el principio nos permite trabajar de manera más organizada y eficiente. En un futuro lo podrías complementar con una tabla de contenido.\n",
    "</div>"
   ]
  },
  {
   "cell_type": "markdown",
   "metadata": {},
   "source": [
    "# Proyecto Integrado 1 -Analisis de venta de videojuegos-"
   ]
  },
  {
   "cell_type": "markdown",
   "metadata": {},
   "source": [
    "## Introduccion"
   ]
  },
  {
   "cell_type": "markdown",
   "metadata": {},
   "source": [
    "Trabajas para la tienda online Ice que vende videojuegos por todo el mundo. Las reseñas de usuarios y expertos, los géneros, las plataformas (por ejemplo, Xbox o PlayStation) y los datos históricos sobre las ventas de juegos están disponibles en fuentes abiertas. Tienes que identificar patrones que determinen si un juego tiene éxito o no. Esto te permitirá detectar proyectos prometedores y planificar campañas publicitarias.\n",
    "\n",
    "Delante de ti hay datos que se remontan a 2016. Es diciembre de 2016 y estás planeando una campaña para 2017.\n",
    "\n",
    "El dataset contiene una columna \"rating\" que almacena la clasificación ESRB de cada juego. El Entertainment Software Rating Board (la Junta de clasificación de software de entretenimiento) evalúa el contenido de un juego y asigna una clasificación de edad como Adolescente o Adulto."
   ]
  },
  {
   "cell_type": "markdown",
   "metadata": {},
   "source": [
    "## Diccionario de datos"
   ]
  },
  {
   "cell_type": "markdown",
   "metadata": {},
   "source": [
    " - `Name` (Nombre de videojuego)\n",
    " - `Platform` (Plataforma)\n",
    " - `Year_of_Release` (Año de lanzamiento)\n",
    " - `Genre` (Género) \n",
    " - `NA_sales` (ventas en Norteamérica en millones de dólares estadounidenses) \n",
    " - `EU_sales` (ventas en Europa en millones de dólares estadounidenses) \n",
    " - `JP_sales` (ventas en Japón en millones de dólares estadounidenses) \n",
    " - `Other_sales` (ventas en otros países en millones de dólares estadounidenses) \n",
    " - `Critic_Score` (máximo de 100) \n",
    " - `User_Score` (máximo de 10) \n",
    " - `Rating` (ESRB)"
   ]
  },
  {
   "cell_type": "markdown",
   "metadata": {},
   "source": [
    "## Carga de librerias y conjunto de datos"
   ]
  },
  {
   "cell_type": "code",
   "execution_count": 1,
   "metadata": {},
   "outputs": [],
   "source": [
    "#Carga de liberias\n",
    "from matplotlib import pyplot as plt\n",
    "import pandas as pd\n",
    "import numpy as np\n",
    "from scipy import stats as st"
   ]
  },
  {
   "cell_type": "code",
   "execution_count": 2,
   "metadata": {},
   "outputs": [
    {
     "name": "stdout",
     "output_type": "stream",
     "text": [
      "                                        Name Platform  Year_of_Release  \\\n",
      "1347                                BioShock      PS3           2008.0   \n",
      "11509  Harry Potter and the Sorcerer's Stone       GC           2003.0   \n",
      "13978                         Minna no Chizu      PSP           2006.0   \n",
      "11674               Resident Evil 3: Nemesis       GC           2003.0   \n",
      "6971                         Starsky & Hutch       XB           2003.0   \n",
      "\n",
      "         Genre  NA_sales  EU_sales  JP_sales  Other_sales  Critic_Score  \\\n",
      "1347   Shooter      0.75      0.46      0.01         0.20          94.0   \n",
      "11509   Action      0.06      0.02      0.00         0.00          62.0   \n",
      "13978     Misc      0.00      0.00      0.04         0.00           NaN   \n",
      "11674   Action      0.06      0.02      0.00         0.00          62.0   \n",
      "6971    Racing      0.17      0.05      0.00         0.01           NaN   \n",
      "\n",
      "      User_Score Rating  \n",
      "1347         8.7      M  \n",
      "11509        8.3      E  \n",
      "13978        NaN    NaN  \n",
      "11674        8.3      M  \n",
      "6971         NaN    NaN  \n",
      "\n",
      "<class 'pandas.core.frame.DataFrame'>\n",
      "RangeIndex: 16715 entries, 0 to 16714\n",
      "Data columns (total 11 columns):\n",
      " #   Column           Non-Null Count  Dtype  \n",
      "---  ------           --------------  -----  \n",
      " 0   Name             16713 non-null  object \n",
      " 1   Platform         16715 non-null  object \n",
      " 2   Year_of_Release  16446 non-null  float64\n",
      " 3   Genre            16713 non-null  object \n",
      " 4   NA_sales         16715 non-null  float64\n",
      " 5   EU_sales         16715 non-null  float64\n",
      " 6   JP_sales         16715 non-null  float64\n",
      " 7   Other_sales      16715 non-null  float64\n",
      " 8   Critic_Score     8137 non-null   float64\n",
      " 9   User_Score       10014 non-null  object \n",
      " 10  Rating           9949 non-null   object \n",
      "dtypes: float64(6), object(5)\n",
      "memory usage: 1.4+ MB\n"
     ]
    }
   ],
   "source": [
    "#Carga de base de datos\n",
    "df_games = pd.read_csv('/datasets/games.csv')\n",
    "print(df_games.sample(5))\n",
    "print()\n",
    "df_games.info()"
   ]
  },
  {
   "cell_type": "markdown",
   "metadata": {},
   "source": [
    "\n",
    "<div class=\"alert alert-block alert-success\">\n",
    "<b>Comentario del revisor:</b> <a class=\"tocSkip\"></a>\n",
    "    \n",
    "Has realizado un excelente trabajo al importar los datos y las bibliotecas necesarias. Además, el uso de info() nos ayuda a dar información general sobre las bases con las que vamos a trabajar\n",
    "\n",
    "</div>"
   ]
  },
  {
   "cell_type": "code",
   "execution_count": 3,
   "metadata": {},
   "outputs": [
    {
     "data": {
      "text/plain": [
       "Name                  2\n",
       "Platform              0\n",
       "Year_of_Release     269\n",
       "Genre                 2\n",
       "NA_sales              0\n",
       "EU_sales              0\n",
       "JP_sales              0\n",
       "Other_sales           0\n",
       "Critic_Score       8578\n",
       "User_Score         6701\n",
       "Rating             6766\n",
       "dtype: int64"
      ]
     },
     "execution_count": 3,
     "metadata": {},
     "output_type": "execute_result"
    }
   ],
   "source": [
    "#Identificacion de valores ausentes\n",
    "df_games.isna().sum()"
   ]
  },
  {
   "cell_type": "markdown",
   "metadata": {},
   "source": [
    "**Comment:** Se identifican pocos valores ausentes en columnas como Name, Year of release y Genre, sin embargo hay muchos ausentes en columnas como Critic Score, User Score y Rating. Asi mismo se tienen tipos de datos incorrectos entre columnas numericas y de texto. La estrategia sera ir de columna por columna para analizar y ajustar correctamente los datos.  "
   ]
  },
  {
   "cell_type": "markdown",
   "metadata": {},
   "source": [
    "## Procesamiento de los datos"
   ]
  },
  {
   "cell_type": "code",
   "execution_count": 4,
   "metadata": {},
   "outputs": [
    {
     "name": "stdout",
     "output_type": "stream",
     "text": [
      "<class 'pandas.core.frame.DataFrame'>\n",
      "RangeIndex: 16715 entries, 0 to 16714\n",
      "Data columns (total 11 columns):\n",
      " #   Column           Non-Null Count  Dtype  \n",
      "---  ------           --------------  -----  \n",
      " 0   name             16713 non-null  object \n",
      " 1   platform         16715 non-null  object \n",
      " 2   year_of_release  16446 non-null  float64\n",
      " 3   genre            16713 non-null  object \n",
      " 4   na_sales         16715 non-null  float64\n",
      " 5   eu_sales         16715 non-null  float64\n",
      " 6   jp_sales         16715 non-null  float64\n",
      " 7   other_sales      16715 non-null  float64\n",
      " 8   critic_score     8137 non-null   float64\n",
      " 9   user_score       10014 non-null  object \n",
      " 10  rating           9949 non-null   object \n",
      "dtypes: float64(6), object(5)\n",
      "memory usage: 1.4+ MB\n"
     ]
    }
   ],
   "source": [
    "#Cambiar los nombres de las columnas a minusculas\n",
    "column_names = list(df_games.columns)\n",
    "new_names = [name.lower() for name in column_names]\n",
    "df_games.columns = new_names\n",
    "df_games.info()"
   ]
  },
  {
   "cell_type": "markdown",
   "metadata": {},
   "source": [
    "\n",
    "<div class=\"alert alert-block alert-success\">\n",
    "<b>Comentario del revisor:</b> <a class=\"tocSkip\"></a>\n",
    "    \n",
    "Excelente trabajo con el uso de lower(), como aprendiste en cursos anteriores es muy util cuando hacemos limpieza en las variables de las bases\n",
    "\n",
    "</div>"
   ]
  },
  {
   "cell_type": "markdown",
   "metadata": {},
   "source": [
    "### Columna 'Name'"
   ]
  },
  {
   "cell_type": "code",
   "execution_count": 5,
   "metadata": {},
   "outputs": [
    {
     "data": {
      "text/plain": [
       "Need for Speed: Most Wanted                              12\n",
       "LEGO Marvel Super Heroes                                  9\n",
       "FIFA 14                                                   9\n",
       "Madden NFL 07                                             9\n",
       "Ratatouille                                               9\n",
       "                                                         ..\n",
       "Yokai Watch 2 Ganso/Honke                                 1\n",
       "Ken to Mahou to Gakuen Mono. 2                            1\n",
       "Chopper Command                                           1\n",
       "Shin Chan Contra ¡Los Plastas!                            1\n",
       "Jim Henson's Muppets in Spy Muppets: License to Croak     1\n",
       "Name: name, Length: 11560, dtype: int64"
      ]
     },
     "execution_count": 5,
     "metadata": {},
     "output_type": "execute_result"
    }
   ],
   "source": [
    "#Valores en columna name\n",
    "df_games['name'].value_counts(dropna=False)"
   ]
  },
  {
   "cell_type": "code",
   "execution_count": 6,
   "metadata": {},
   "outputs": [
    {
     "data": {
      "text/plain": [
       "need for speed: most wanted       12\n",
       "fifa 14                            9\n",
       "madden nfl 07                      9\n",
       "lego marvel super heroes           9\n",
       "ratatouille                        9\n",
       "                                  ..\n",
       "fashion week jr. designer          1\n",
       "saihai no yukue                    1\n",
       "super smash bros. melee            1\n",
       "anima - gate of memories           1\n",
       "rugby league team manager 2015     1\n",
       "Name: name, Length: 11560, dtype: int64"
      ]
     },
     "execution_count": 6,
     "metadata": {},
     "output_type": "execute_result"
    }
   ],
   "source": [
    "#Cambiar nombres de Videojuegos a minusculas\n",
    "df_games['name'] = df_games['name'].str.lower()\n",
    "df_games['name'] = df_games['name'].str.strip()\n",
    "df_games['name'].value_counts(dropna=False)"
   ]
  },
  {
   "cell_type": "code",
   "execution_count": 7,
   "metadata": {},
   "outputs": [
    {
     "data": {
      "text/html": [
       "<div>\n",
       "<style scoped>\n",
       "    .dataframe tbody tr th:only-of-type {\n",
       "        vertical-align: middle;\n",
       "    }\n",
       "\n",
       "    .dataframe tbody tr th {\n",
       "        vertical-align: top;\n",
       "    }\n",
       "\n",
       "    .dataframe thead th {\n",
       "        text-align: right;\n",
       "    }\n",
       "</style>\n",
       "<table border=\"1\" class=\"dataframe\">\n",
       "  <thead>\n",
       "    <tr style=\"text-align: right;\">\n",
       "      <th></th>\n",
       "      <th>name</th>\n",
       "      <th>platform</th>\n",
       "      <th>year_of_release</th>\n",
       "      <th>genre</th>\n",
       "      <th>na_sales</th>\n",
       "      <th>eu_sales</th>\n",
       "      <th>jp_sales</th>\n",
       "      <th>other_sales</th>\n",
       "      <th>critic_score</th>\n",
       "      <th>user_score</th>\n",
       "      <th>rating</th>\n",
       "    </tr>\n",
       "  </thead>\n",
       "  <tbody>\n",
       "    <tr>\n",
       "      <th>659</th>\n",
       "      <td>NaN</td>\n",
       "      <td>GEN</td>\n",
       "      <td>1993.0</td>\n",
       "      <td>NaN</td>\n",
       "      <td>1.78</td>\n",
       "      <td>0.53</td>\n",
       "      <td>0.00</td>\n",
       "      <td>0.08</td>\n",
       "      <td>NaN</td>\n",
       "      <td>NaN</td>\n",
       "      <td>NaN</td>\n",
       "    </tr>\n",
       "    <tr>\n",
       "      <th>14244</th>\n",
       "      <td>NaN</td>\n",
       "      <td>GEN</td>\n",
       "      <td>1993.0</td>\n",
       "      <td>NaN</td>\n",
       "      <td>0.00</td>\n",
       "      <td>0.00</td>\n",
       "      <td>0.03</td>\n",
       "      <td>0.00</td>\n",
       "      <td>NaN</td>\n",
       "      <td>NaN</td>\n",
       "      <td>NaN</td>\n",
       "    </tr>\n",
       "  </tbody>\n",
       "</table>\n",
       "</div>"
      ],
      "text/plain": [
       "      name platform  year_of_release genre  na_sales  eu_sales  jp_sales  \\\n",
       "659    NaN      GEN           1993.0   NaN      1.78      0.53      0.00   \n",
       "14244  NaN      GEN           1993.0   NaN      0.00      0.00      0.03   \n",
       "\n",
       "       other_sales  critic_score user_score rating  \n",
       "659           0.08           NaN        NaN    NaN  \n",
       "14244         0.00           NaN        NaN    NaN  "
      ]
     },
     "execution_count": 7,
     "metadata": {},
     "output_type": "execute_result"
    }
   ],
   "source": [
    "#Validacion de valores ausentes\n",
    "df_games[df_games['name'].isna()]"
   ]
  },
  {
   "cell_type": "markdown",
   "metadata": {},
   "source": [
    "**Comment**: los valores ausentes en la columna 'Name' son los mismos que se presentan en la columna 'Genre'. Adicional no se cuenta con valores de Critica, Usuario ni Rating, y son juegos de 1993, por lo que se supone no serian relevantes en proyecciones actuales. Se procede a eliminarlos."
   ]
  },
  {
   "cell_type": "code",
   "execution_count": 8,
   "metadata": {},
   "outputs": [
    {
     "data": {
      "text/html": [
       "<div>\n",
       "<style scoped>\n",
       "    .dataframe tbody tr th:only-of-type {\n",
       "        vertical-align: middle;\n",
       "    }\n",
       "\n",
       "    .dataframe tbody tr th {\n",
       "        vertical-align: top;\n",
       "    }\n",
       "\n",
       "    .dataframe thead th {\n",
       "        text-align: right;\n",
       "    }\n",
       "</style>\n",
       "<table border=\"1\" class=\"dataframe\">\n",
       "  <thead>\n",
       "    <tr style=\"text-align: right;\">\n",
       "      <th></th>\n",
       "      <th>name</th>\n",
       "      <th>platform</th>\n",
       "      <th>year_of_release</th>\n",
       "      <th>genre</th>\n",
       "      <th>na_sales</th>\n",
       "      <th>eu_sales</th>\n",
       "      <th>jp_sales</th>\n",
       "      <th>other_sales</th>\n",
       "      <th>critic_score</th>\n",
       "      <th>user_score</th>\n",
       "      <th>rating</th>\n",
       "    </tr>\n",
       "  </thead>\n",
       "  <tbody>\n",
       "  </tbody>\n",
       "</table>\n",
       "</div>"
      ],
      "text/plain": [
       "Empty DataFrame\n",
       "Columns: [name, platform, year_of_release, genre, na_sales, eu_sales, jp_sales, other_sales, critic_score, user_score, rating]\n",
       "Index: []"
      ]
     },
     "execution_count": 8,
     "metadata": {},
     "output_type": "execute_result"
    }
   ],
   "source": [
    "#Eliminacion de valores ausentes\n",
    "df_games.dropna(subset= ['name'], inplace=True)\n",
    "df_games[df_games['name'].isna()]"
   ]
  },
  {
   "cell_type": "markdown",
   "metadata": {},
   "source": [
    "\n",
    "<div class=\"alert alert-block alert-danger\">\n",
    "<b>Comentario del revisor:</b> <a class=\"tocSkip\"></a>\n",
    "    \n",
    "Angel, en este caso aparece error dado que en el argumento subset debemos de colocar una lista y la forma en la que lo colocamos no esta en formato de lista. Te puedes guiar del siguiente ejemplo:\n",
    "    \n",
    "    df_games.dropna(subset=['name'], inplace=True)\n",
    "\n",
    "</div>"
   ]
  },
  {
   "cell_type": "markdown",
   "metadata": {},
   "source": [
    "<div class=\"alert alert-block alert-info\">\n",
    "<b>Respuesta del estudiante.</b> <a class=\"tocSkip\"></a>\n",
    "\n",
    "\n",
    "Listo, gracias por la aclaracion, es curioso que en Visual Studio no te marca ciertos errores pero aqui Jupyter si. </div>"
   ]
  },
  {
   "cell_type": "markdown",
   "metadata": {},
   "source": [
    "\n",
    "<div class=\"alert alert-block alert-success\">\n",
    "<b>Comentario del revisor:</b> <a class=\"tocSkip\"></a>\n",
    "    \n",
    "Gran trabajo con el ajuste. Justo en Jupyter te puedes guiar de lo que marcan los errores para resolverlos"
   ]
  },
  {
   "cell_type": "markdown",
   "metadata": {},
   "source": [
    "### Columna 'Platform'"
   ]
  },
  {
   "cell_type": "code",
   "execution_count": 9,
   "metadata": {},
   "outputs": [
    {
     "data": {
      "text/plain": [
       "2600     133\n",
       "3DO        3\n",
       "3DS      520\n",
       "DC        52\n",
       "DS      2151\n",
       "GB        98\n",
       "GBA      822\n",
       "GC       556\n",
       "GEN       27\n",
       "GG         1\n",
       "N64      319\n",
       "NES       98\n",
       "NG        12\n",
       "PC       974\n",
       "PCFX       1\n",
       "PS      1197\n",
       "PS2     2161\n",
       "PS3     1331\n",
       "PS4      392\n",
       "PSP     1209\n",
       "PSV      430\n",
       "SAT      173\n",
       "SCD        6\n",
       "SNES     239\n",
       "TG16       2\n",
       "WS         6\n",
       "Wii     1320\n",
       "WiiU     147\n",
       "X360    1262\n",
       "XB       824\n",
       "XOne     247\n",
       "Name: platform, dtype: int64"
      ]
     },
     "execution_count": 9,
     "metadata": {},
     "output_type": "execute_result"
    }
   ],
   "source": [
    "#Valores en columna Platform\n",
    "df_games['platform'].value_counts(dropna=False).sort_index(ascending=True)"
   ]
  },
  {
   "cell_type": "markdown",
   "metadata": {},
   "source": [
    "**Comment**: Se identifican multiples plataformas que pertenecen a diferentes compañias de videojuego. Agruparlas podria permitir trabajar con valores mas reducidos en lugar de tantas variaciones."
   ]
  },
  {
   "cell_type": "code",
   "execution_count": 10,
   "metadata": {},
   "outputs": [
    {
     "data": {
      "text/plain": [
       "PlayStation    6720\n",
       "Nintendo       6270\n",
       "XBox           2333\n",
       "PC              975\n",
       "Other           415\n",
       "Name: company, dtype: int64"
      ]
     },
     "execution_count": 10,
     "metadata": {},
     "output_type": "execute_result"
    }
   ],
   "source": [
    "#Agrupar Plataformas en grupos de Compañias de Videojuegos \n",
    "def company (x):\n",
    "\t\tif x in ['3DS','DS','GB','GBA','GC','N64','NES','SNES','Wii','WiiU']:\n",
    "\t\t\treturn \"Nintendo\"\n",
    "\t\telif x in ['PC','PCFX']:\n",
    "\t\t\treturn \"PC\"\n",
    "\t\telif x in ['PS','PS2','PS3','PS4','PSP','PSV']:\n",
    "\t\t\treturn \"PlayStation\"\n",
    "\t\telif x in ['X360','XB','XOne']:\n",
    "\t\t\treturn \"XBox\"\n",
    "\t\telse:\n",
    "\t\t\treturn \"Other\"\n",
    "df_games['company'] = df_games['platform'].apply(company)\n",
    "df_games['company'].value_counts(dropna=False)"
   ]
  },
  {
   "cell_type": "markdown",
   "metadata": {},
   "source": [
    "### Columna 'Year_of_release'"
   ]
  },
  {
   "cell_type": "code",
   "execution_count": 11,
   "metadata": {},
   "outputs": [
    {
     "data": {
      "text/plain": [
       "1980.0       9\n",
       "1981.0      46\n",
       "1982.0      36\n",
       "1983.0      17\n",
       "1984.0      14\n",
       "1985.0      14\n",
       "1986.0      21\n",
       "1987.0      16\n",
       "1988.0      15\n",
       "1989.0      17\n",
       "1990.0      16\n",
       "1991.0      41\n",
       "1992.0      43\n",
       "1993.0      60\n",
       "1994.0     121\n",
       "1995.0     219\n",
       "1996.0     263\n",
       "1997.0     289\n",
       "1998.0     379\n",
       "1999.0     338\n",
       "2000.0     350\n",
       "2001.0     482\n",
       "2002.0     829\n",
       "2003.0     775\n",
       "2004.0     762\n",
       "2005.0     939\n",
       "2006.0    1006\n",
       "2007.0    1197\n",
       "2008.0    1427\n",
       "2009.0    1426\n",
       "2010.0    1255\n",
       "2011.0    1136\n",
       "2012.0     653\n",
       "2013.0     544\n",
       "2014.0     581\n",
       "2015.0     606\n",
       "2016.0     502\n",
       "NaN        269\n",
       "Name: year_of_release, dtype: int64"
      ]
     },
     "execution_count": 11,
     "metadata": {},
     "output_type": "execute_result"
    }
   ],
   "source": [
    "#Visualizacion de valores en 'year_of_release'\n",
    "df_games['year_of_release'].value_counts(dropna=False).sort_index()"
   ]
  },
  {
   "cell_type": "markdown",
   "metadata": {},
   "source": [
    "**Comment**: El tipo de valor es flotante, se procedera a cambiar a entero para procesar los años de esta manera. Para esto hay que asignar un 'valor absurdo' en los datos ausentes para poder hacer el cambio. "
   ]
  },
  {
   "cell_type": "code",
   "execution_count": 12,
   "metadata": {},
   "outputs": [
    {
     "data": {
      "text/plain": [
       "-1.0        269\n",
       " 1980.0       9\n",
       " 1981.0      46\n",
       " 1982.0      36\n",
       " 1983.0      17\n",
       " 1984.0      14\n",
       " 1985.0      14\n",
       " 1986.0      21\n",
       " 1987.0      16\n",
       " 1988.0      15\n",
       " 1989.0      17\n",
       " 1990.0      16\n",
       " 1991.0      41\n",
       " 1992.0      43\n",
       " 1993.0      60\n",
       " 1994.0     121\n",
       " 1995.0     219\n",
       " 1996.0     263\n",
       " 1997.0     289\n",
       " 1998.0     379\n",
       " 1999.0     338\n",
       " 2000.0     350\n",
       " 2001.0     482\n",
       " 2002.0     829\n",
       " 2003.0     775\n",
       " 2004.0     762\n",
       " 2005.0     939\n",
       " 2006.0    1006\n",
       " 2007.0    1197\n",
       " 2008.0    1427\n",
       " 2009.0    1426\n",
       " 2010.0    1255\n",
       " 2011.0    1136\n",
       " 2012.0     653\n",
       " 2013.0     544\n",
       " 2014.0     581\n",
       " 2015.0     606\n",
       " 2016.0     502\n",
       "Name: year_of_release, dtype: int64"
      ]
     },
     "execution_count": 12,
     "metadata": {},
     "output_type": "execute_result"
    }
   ],
   "source": [
    "#Llenado de valores ausentes con -1 y filtrado para evitar sesgos en la informacion\n",
    "df_games['year_of_release'] = df_games['year_of_release'].fillna(-1)\n",
    "df_games['year_of_release'].value_counts(dropna=False).sort_index()"
   ]
  },
  {
   "cell_type": "markdown",
   "metadata": {},
   "source": [
    "<div class=\"alert alert-block alert-info\">\n",
    "    <b>Comentario del revisor:</b> <a class=\"tocSkip\"></a>\n",
    "    \n",
    "En ocasiones podemos completar los valores faltantes con información con proxys. Por ejemplo en este caso los podríamos completar con los años de lanzamientos de los juegos en otras plataformas\n",
    "</div>"
   ]
  },
  {
   "cell_type": "code",
   "execution_count": 13,
   "metadata": {},
   "outputs": [
    {
     "name": "stdout",
     "output_type": "stream",
     "text": [
      "<class 'pandas.core.frame.DataFrame'>\n",
      "Int64Index: 16713 entries, 0 to 16714\n",
      "Data columns (total 12 columns):\n",
      " #   Column           Non-Null Count  Dtype  \n",
      "---  ------           --------------  -----  \n",
      " 0   name             16713 non-null  object \n",
      " 1   platform         16713 non-null  object \n",
      " 2   year_of_release  16713 non-null  int64  \n",
      " 3   genre            16713 non-null  object \n",
      " 4   na_sales         16713 non-null  float64\n",
      " 5   eu_sales         16713 non-null  float64\n",
      " 6   jp_sales         16713 non-null  float64\n",
      " 7   other_sales      16713 non-null  float64\n",
      " 8   critic_score     8137 non-null   float64\n",
      " 9   user_score       10014 non-null  object \n",
      " 10  rating           9949 non-null   object \n",
      " 11  company          16713 non-null  object \n",
      "dtypes: float64(5), int64(1), object(6)\n",
      "memory usage: 1.7+ MB\n"
     ]
    }
   ],
   "source": [
    "#Cambio de tipo de dato de flotante a entero\n",
    "df_games['year_of_release'] = df_games['year_of_release'].astype('int')\n",
    "df_games.info()"
   ]
  },
  {
   "cell_type": "markdown",
   "metadata": {},
   "source": [
    "### Columna 'Genre'"
   ]
  },
  {
   "cell_type": "code",
   "execution_count": 14,
   "metadata": {},
   "outputs": [
    {
     "data": {
      "text/plain": [
       "Action          3369\n",
       "Sports          2348\n",
       "Misc            1750\n",
       "Role-Playing    1498\n",
       "Shooter         1323\n",
       "Adventure       1303\n",
       "Racing          1249\n",
       "Platform         888\n",
       "Simulation       873\n",
       "Fighting         849\n",
       "Strategy         683\n",
       "Puzzle           580\n",
       "Name: genre, dtype: int64"
      ]
     },
     "execution_count": 14,
     "metadata": {},
     "output_type": "execute_result"
    }
   ],
   "source": [
    "#Visualizacion de valores en columna genre\n",
    "df_games['genre'].value_counts(dropna=False)"
   ]
  },
  {
   "cell_type": "markdown",
   "metadata": {},
   "source": [
    "**Comment:** No se visualiza cambio o ajuste necesario en la columna Genre"
   ]
  },
  {
   "cell_type": "markdown",
   "metadata": {},
   "source": [
    "### Columnas 'Sales'"
   ]
  },
  {
   "cell_type": "code",
   "execution_count": 15,
   "metadata": {},
   "outputs": [
    {
     "data": {
      "text/html": [
       "<div>\n",
       "<style scoped>\n",
       "    .dataframe tbody tr th:only-of-type {\n",
       "        vertical-align: middle;\n",
       "    }\n",
       "\n",
       "    .dataframe tbody tr th {\n",
       "        vertical-align: top;\n",
       "    }\n",
       "\n",
       "    .dataframe thead th {\n",
       "        text-align: right;\n",
       "    }\n",
       "</style>\n",
       "<table border=\"1\" class=\"dataframe\">\n",
       "  <thead>\n",
       "    <tr style=\"text-align: right;\">\n",
       "      <th></th>\n",
       "      <th>name</th>\n",
       "      <th>platform</th>\n",
       "      <th>year_of_release</th>\n",
       "      <th>genre</th>\n",
       "      <th>na_sales</th>\n",
       "      <th>eu_sales</th>\n",
       "      <th>jp_sales</th>\n",
       "      <th>other_sales</th>\n",
       "      <th>critic_score</th>\n",
       "      <th>user_score</th>\n",
       "      <th>rating</th>\n",
       "      <th>company</th>\n",
       "      <th>total_sales</th>\n",
       "    </tr>\n",
       "  </thead>\n",
       "  <tbody>\n",
       "    <tr>\n",
       "      <th>8399</th>\n",
       "      <td>tokimeki memorial: private collection</td>\n",
       "      <td>PS</td>\n",
       "      <td>1996</td>\n",
       "      <td>Misc</td>\n",
       "      <td>0.00</td>\n",
       "      <td>0.00</td>\n",
       "      <td>0.16</td>\n",
       "      <td>0.01</td>\n",
       "      <td>NaN</td>\n",
       "      <td>NaN</td>\n",
       "      <td>NaN</td>\n",
       "      <td>PlayStation</td>\n",
       "      <td>0.17</td>\n",
       "    </tr>\n",
       "    <tr>\n",
       "      <th>4352</th>\n",
       "      <td>defender ii</td>\n",
       "      <td>2600</td>\n",
       "      <td>1987</td>\n",
       "      <td>Shooter</td>\n",
       "      <td>0.42</td>\n",
       "      <td>0.02</td>\n",
       "      <td>0.00</td>\n",
       "      <td>0.00</td>\n",
       "      <td>NaN</td>\n",
       "      <td>NaN</td>\n",
       "      <td>NaN</td>\n",
       "      <td>Other</td>\n",
       "      <td>0.44</td>\n",
       "    </tr>\n",
       "    <tr>\n",
       "      <th>5552</th>\n",
       "      <td>chicken riot</td>\n",
       "      <td>Wii</td>\n",
       "      <td>2010</td>\n",
       "      <td>Action</td>\n",
       "      <td>0.14</td>\n",
       "      <td>0.15</td>\n",
       "      <td>0.00</td>\n",
       "      <td>0.03</td>\n",
       "      <td>NaN</td>\n",
       "      <td>tbd</td>\n",
       "      <td>T</td>\n",
       "      <td>Nintendo</td>\n",
       "      <td>0.32</td>\n",
       "    </tr>\n",
       "    <tr>\n",
       "      <th>14202</th>\n",
       "      <td>mame goma: shiro to kuro no meikyuu</td>\n",
       "      <td>3DS</td>\n",
       "      <td>2012</td>\n",
       "      <td>Action</td>\n",
       "      <td>0.00</td>\n",
       "      <td>0.00</td>\n",
       "      <td>0.03</td>\n",
       "      <td>0.00</td>\n",
       "      <td>NaN</td>\n",
       "      <td>NaN</td>\n",
       "      <td>NaN</td>\n",
       "      <td>Nintendo</td>\n",
       "      <td>0.03</td>\n",
       "    </tr>\n",
       "    <tr>\n",
       "      <th>13226</th>\n",
       "      <td>furu furu park</td>\n",
       "      <td>Wii</td>\n",
       "      <td>2007</td>\n",
       "      <td>Misc</td>\n",
       "      <td>0.05</td>\n",
       "      <td>0.00</td>\n",
       "      <td>0.00</td>\n",
       "      <td>0.00</td>\n",
       "      <td>43.0</td>\n",
       "      <td>4.8</td>\n",
       "      <td>E10+</td>\n",
       "      <td>Nintendo</td>\n",
       "      <td>0.05</td>\n",
       "    </tr>\n",
       "    <tr>\n",
       "      <th>14008</th>\n",
       "      <td>sherlock holmes: secret of the silver earring</td>\n",
       "      <td>Wii</td>\n",
       "      <td>2010</td>\n",
       "      <td>Adventure</td>\n",
       "      <td>0.00</td>\n",
       "      <td>0.03</td>\n",
       "      <td>0.00</td>\n",
       "      <td>0.00</td>\n",
       "      <td>NaN</td>\n",
       "      <td>NaN</td>\n",
       "      <td>NaN</td>\n",
       "      <td>Nintendo</td>\n",
       "      <td>0.03</td>\n",
       "    </tr>\n",
       "    <tr>\n",
       "      <th>12368</th>\n",
       "      <td>mirror's edge catalyst</td>\n",
       "      <td>PC</td>\n",
       "      <td>2016</td>\n",
       "      <td>Platform</td>\n",
       "      <td>0.01</td>\n",
       "      <td>0.05</td>\n",
       "      <td>0.00</td>\n",
       "      <td>0.00</td>\n",
       "      <td>74.0</td>\n",
       "      <td>4.4</td>\n",
       "      <td>T</td>\n",
       "      <td>PC</td>\n",
       "      <td>0.06</td>\n",
       "    </tr>\n",
       "    <tr>\n",
       "      <th>4864</th>\n",
       "      <td>star wars the clone wars: republic heroes</td>\n",
       "      <td>DS</td>\n",
       "      <td>2009</td>\n",
       "      <td>Action</td>\n",
       "      <td>0.22</td>\n",
       "      <td>0.14</td>\n",
       "      <td>0.00</td>\n",
       "      <td>0.04</td>\n",
       "      <td>NaN</td>\n",
       "      <td>5.3</td>\n",
       "      <td>E10+</td>\n",
       "      <td>Nintendo</td>\n",
       "      <td>0.40</td>\n",
       "    </tr>\n",
       "    <tr>\n",
       "      <th>7321</th>\n",
       "      <td>ncaa march madness 08</td>\n",
       "      <td>X360</td>\n",
       "      <td>2007</td>\n",
       "      <td>Sports</td>\n",
       "      <td>0.20</td>\n",
       "      <td>0.00</td>\n",
       "      <td>0.00</td>\n",
       "      <td>0.02</td>\n",
       "      <td>69.0</td>\n",
       "      <td>tbd</td>\n",
       "      <td>E</td>\n",
       "      <td>XBox</td>\n",
       "      <td>0.22</td>\n",
       "    </tr>\n",
       "    <tr>\n",
       "      <th>6389</th>\n",
       "      <td>battle arena toshinden 3</td>\n",
       "      <td>PS</td>\n",
       "      <td>1996</td>\n",
       "      <td>Fighting</td>\n",
       "      <td>0.06</td>\n",
       "      <td>0.04</td>\n",
       "      <td>0.14</td>\n",
       "      <td>0.02</td>\n",
       "      <td>NaN</td>\n",
       "      <td>NaN</td>\n",
       "      <td>NaN</td>\n",
       "      <td>PlayStation</td>\n",
       "      <td>0.26</td>\n",
       "    </tr>\n",
       "  </tbody>\n",
       "</table>\n",
       "</div>"
      ],
      "text/plain": [
       "                                                name platform  \\\n",
       "8399           tokimeki memorial: private collection       PS   \n",
       "4352                                     defender ii     2600   \n",
       "5552                                    chicken riot      Wii   \n",
       "14202            mame goma: shiro to kuro no meikyuu      3DS   \n",
       "13226                                 furu furu park      Wii   \n",
       "14008  sherlock holmes: secret of the silver earring      Wii   \n",
       "12368                         mirror's edge catalyst       PC   \n",
       "4864       star wars the clone wars: republic heroes       DS   \n",
       "7321                           ncaa march madness 08     X360   \n",
       "6389                        battle arena toshinden 3       PS   \n",
       "\n",
       "       year_of_release      genre  na_sales  eu_sales  jp_sales  other_sales  \\\n",
       "8399              1996       Misc      0.00      0.00      0.16         0.01   \n",
       "4352              1987    Shooter      0.42      0.02      0.00         0.00   \n",
       "5552              2010     Action      0.14      0.15      0.00         0.03   \n",
       "14202             2012     Action      0.00      0.00      0.03         0.00   \n",
       "13226             2007       Misc      0.05      0.00      0.00         0.00   \n",
       "14008             2010  Adventure      0.00      0.03      0.00         0.00   \n",
       "12368             2016   Platform      0.01      0.05      0.00         0.00   \n",
       "4864              2009     Action      0.22      0.14      0.00         0.04   \n",
       "7321              2007     Sports      0.20      0.00      0.00         0.02   \n",
       "6389              1996   Fighting      0.06      0.04      0.14         0.02   \n",
       "\n",
       "       critic_score user_score rating      company  total_sales  \n",
       "8399            NaN        NaN    NaN  PlayStation         0.17  \n",
       "4352            NaN        NaN    NaN        Other         0.44  \n",
       "5552            NaN        tbd      T     Nintendo         0.32  \n",
       "14202           NaN        NaN    NaN     Nintendo         0.03  \n",
       "13226          43.0        4.8   E10+     Nintendo         0.05  \n",
       "14008           NaN        NaN    NaN     Nintendo         0.03  \n",
       "12368          74.0        4.4      T           PC         0.06  \n",
       "4864            NaN        5.3   E10+     Nintendo         0.40  \n",
       "7321           69.0        tbd      E         XBox         0.22  \n",
       "6389            NaN        NaN    NaN  PlayStation         0.26  "
      ]
     },
     "execution_count": 15,
     "metadata": {},
     "output_type": "execute_result"
    }
   ],
   "source": [
    "#Creacion de columna con la suma de todas las ventas\n",
    "df_games['total_sales'] = df_games[['na_sales','eu_sales','jp_sales','other_sales']].sum(axis=1)\n",
    "df_games.sample(10)"
   ]
  },
  {
   "cell_type": "markdown",
   "metadata": {},
   "source": [
    "<div class=\"alert alert-block alert-success\">\n",
    "<b>Comentario del revisor:</b> <a class=\"tocSkip\"></a>\n",
    "    \n",
    "Angel! Muy buen trabajo en la sección, ajustaste los nombres de las columnas a minúsculas con el uso de la función str.lower(), cambiaste el tipo de variable de dos de las variables de la base de datos y muy buen trabajo con la suma de todas las ventas. \n",
    "    \n",
    "   \n",
    "\n",
    "</div>"
   ]
  },
  {
   "cell_type": "markdown",
   "metadata": {},
   "source": [
    "<div class=\"alert alert-block alert-danger\">\n",
    "    <b>Comentario del revisor:</b> <a class=\"tocSkip\"></a>\n",
    "    \n",
    "Solamente para terminar de complementar el análisis te recomiendo verificar si las variables de score de criticos y usuarios  se deben de hacer algún ajuste. Por ejemplo completar los valores nulos con la mediana para no sesgar nuestros resultados\n",
    "</div>"
   ]
  },
  {
   "cell_type": "markdown",
   "metadata": {},
   "source": [
    "<div class=\"alert alert-block alert-info\">\n",
    "    <b>Respuesta del estudiante:</b> <a class=\"tocSkip\"></a>\n",
    "    \n",
    "Se realiza llenado de valores ausentes en columnas 'Critic_Score' y 'User_Score' completando con la mediana."
   ]
  },
  {
   "cell_type": "markdown",
   "metadata": {},
   "source": [
    "<div class=\"alert alert-block alert-success\">\n",
    "<b>Comentario del revisor:</b> <a class=\"tocSkip\"></a>\n",
    "    \n",
    "Gran trabajo con el ajustes!\n",
    "    \n",
    "   \n",
    "\n",
    "</div>"
   ]
  },
  {
   "cell_type": "markdown",
   "metadata": {},
   "source": [
    "**Comment:** Se genera una nueva columna con la suma de las ventas de las 3 regiones."
   ]
  },
  {
   "cell_type": "markdown",
   "metadata": {},
   "source": [
    "### Columna 'Critic_Score'"
   ]
  },
  {
   "cell_type": "code",
   "execution_count": 16,
   "metadata": {},
   "outputs": [
    {
     "data": {
      "text/plain": [
       "count    8137.000000\n",
       "mean       68.967679\n",
       "std        13.938165\n",
       "min        13.000000\n",
       "25%        60.000000\n",
       "50%        71.000000\n",
       "75%        79.000000\n",
       "max        98.000000\n",
       "Name: critic_score, dtype: float64"
      ]
     },
     "execution_count": 16,
     "metadata": {},
     "output_type": "execute_result"
    }
   ],
   "source": [
    "#Visualizacion de valores en columna critic_score\n",
    "df_games['critic_score'].describe()"
   ]
  },
  {
   "cell_type": "code",
   "execution_count": 17,
   "metadata": {},
   "outputs": [
    {
     "data": {
      "text/plain": [
       "8576"
      ]
     },
     "execution_count": 17,
     "metadata": {},
     "output_type": "execute_result"
    }
   ],
   "source": [
    "# Identificacion de valores ausentes\n",
    "df_games['critic_score'].isna().sum()"
   ]
  },
  {
   "cell_type": "code",
   "execution_count": 18,
   "metadata": {},
   "outputs": [
    {
     "data": {
      "text/plain": [
       "71.0"
      ]
     },
     "execution_count": 18,
     "metadata": {},
     "output_type": "execute_result"
    }
   ],
   "source": [
    "#Identificacion de la mediana\n",
    "df_games['critic_score'].median()"
   ]
  },
  {
   "cell_type": "code",
   "execution_count": 19,
   "metadata": {},
   "outputs": [
    {
     "data": {
      "text/plain": [
       "0"
      ]
     },
     "execution_count": 19,
     "metadata": {},
     "output_type": "execute_result"
    }
   ],
   "source": [
    "#Llenado de valores ausentes con la mediana\n",
    "df_games['critic_score'] = df_games['critic_score'].fillna(70.0)\n",
    "df_games['critic_score'].isna().sum()"
   ]
  },
  {
   "cell_type": "code",
   "execution_count": 20,
   "metadata": {},
   "outputs": [
    {
     "data": {
      "text/plain": [
       "count    16713.000000\n",
       "mean        69.497397\n",
       "std          9.738841\n",
       "min         13.000000\n",
       "25%         70.000000\n",
       "50%         70.000000\n",
       "75%         70.000000\n",
       "max         98.000000\n",
       "Name: critic_score, dtype: float64"
      ]
     },
     "execution_count": 20,
     "metadata": {},
     "output_type": "execute_result"
    }
   ],
   "source": [
    "#Visualizacion de valores en columna critic_score\n",
    "df_games['critic_score'].describe()"
   ]
  },
  {
   "cell_type": "markdown",
   "metadata": {},
   "source": [
    "**Comment**: no se visualizan cambios requeridos para el manejo de la informacion. Se decide mantener los valores NaN ya que se supone fueron juegos que no se calificaron en su momento."
   ]
  },
  {
   "cell_type": "markdown",
   "metadata": {},
   "source": [
    "### Columna 'User_Score'"
   ]
  },
  {
   "cell_type": "code",
   "execution_count": 21,
   "metadata": {},
   "outputs": [
    {
     "name": "stdout",
     "output_type": "stream",
     "text": [
      "count     10014\n",
      "unique       96\n",
      "top         tbd\n",
      "freq       2424\n",
      "Name: user_score, dtype: object\n",
      "\n"
     ]
    },
    {
     "data": {
      "text/plain": [
       "NaN    6699\n",
       "tbd    2424\n",
       "7.8     324\n",
       "8       290\n",
       "8.2     282\n",
       "       ... \n",
       "1.5       2\n",
       "1.9       2\n",
       "0.5       2\n",
       "9.7       1\n",
       "0         1\n",
       "Name: user_score, Length: 97, dtype: int64"
      ]
     },
     "execution_count": 21,
     "metadata": {},
     "output_type": "execute_result"
    }
   ],
   "source": [
    "#Visualizacion de valores en columna user_score\n",
    "print(df_games['user_score'].describe())\n",
    "print()\n",
    "df_games['user_score'].value_counts(dropna=False)"
   ]
  },
  {
   "cell_type": "markdown",
   "metadata": {},
   "source": [
    "**Comment**: se visualizan gran cantidad de valores clasificados como tbd. Se supone que tienen el mismo tratamiento que NaN, y se infiere que fueron juegos que no se clasificaron. Se procede a hacer el cambio de tbd a NaN y cambio en el tipo de dato de objeto a flotante. Tambien se realiza multiplicacion por 10 de los valores de user_score para que tengan la misma base 1/100 que los valores de critic_score."
   ]
  },
  {
   "cell_type": "code",
   "execution_count": 22,
   "metadata": {},
   "outputs": [
    {
     "data": {
      "text/plain": [
       "NaN    9123\n",
       "7.8     324\n",
       "8       290\n",
       "8.2     282\n",
       "8.3     254\n",
       "       ... \n",
       "1.5       2\n",
       "9.6       2\n",
       "0.2       2\n",
       "0         1\n",
       "9.7       1\n",
       "Name: user_score, Length: 96, dtype: int64"
      ]
     },
     "execution_count": 22,
     "metadata": {},
     "output_type": "execute_result"
    }
   ],
   "source": [
    "#Cambio de valores tbd a Nan\n",
    "df_games.loc[df_games['user_score'] == 'tbd', 'user_score'] = np.nan\n",
    "df_games['user_score'].value_counts(dropna=False)"
   ]
  },
  {
   "cell_type": "code",
   "execution_count": 23,
   "metadata": {},
   "outputs": [
    {
     "data": {
      "text/plain": [
       "count    7590.000000\n",
       "mean        7.125046\n",
       "std         1.500006\n",
       "min         0.000000\n",
       "25%         6.400000\n",
       "50%         7.500000\n",
       "75%         8.200000\n",
       "max         9.700000\n",
       "Name: user_score, dtype: float64"
      ]
     },
     "execution_count": 23,
     "metadata": {},
     "output_type": "execute_result"
    }
   ],
   "source": [
    "#Cambio de tipo de dato de objeto a flotante\n",
    "df_games['user_score'] = df_games.user_score.astype(float)\n",
    "df_games['user_score'].describe()"
   ]
  },
  {
   "cell_type": "code",
   "execution_count": 24,
   "metadata": {},
   "outputs": [
    {
     "data": {
      "text/plain": [
       "count    7590.000000\n",
       "mean       71.250461\n",
       "std        15.000061\n",
       "min         0.000000\n",
       "25%        64.000000\n",
       "50%        75.000000\n",
       "75%        82.000000\n",
       "max        97.000000\n",
       "Name: user_score, dtype: float64"
      ]
     },
     "execution_count": 24,
     "metadata": {},
     "output_type": "execute_result"
    }
   ],
   "source": [
    "#Alineacion a base 1/100 igual que critic_score \n",
    "df_games['user_score'] = df_games['user_score']*10\n",
    "df_games['user_score'].describe()"
   ]
  },
  {
   "cell_type": "code",
   "execution_count": 25,
   "metadata": {},
   "outputs": [
    {
     "data": {
      "text/plain": [
       "9123"
      ]
     },
     "execution_count": 25,
     "metadata": {},
     "output_type": "execute_result"
    }
   ],
   "source": [
    "# Identificacion de valores ausentes\n",
    "df_games['user_score'].isna().sum()"
   ]
  },
  {
   "cell_type": "code",
   "execution_count": 26,
   "metadata": {},
   "outputs": [
    {
     "data": {
      "text/plain": [
       "75.0"
      ]
     },
     "execution_count": 26,
     "metadata": {},
     "output_type": "execute_result"
    }
   ],
   "source": [
    "#Identificacion de la mediana\n",
    "df_games['user_score'].median()"
   ]
  },
  {
   "cell_type": "code",
   "execution_count": 27,
   "metadata": {},
   "outputs": [
    {
     "data": {
      "text/plain": [
       "0"
      ]
     },
     "execution_count": 27,
     "metadata": {},
     "output_type": "execute_result"
    }
   ],
   "source": [
    "#Llenado de valores ausentes con la mediana\n",
    "df_games['user_score'] = df_games['user_score'].fillna(75.0)\n",
    "df_games['user_score'].isna().sum()"
   ]
  },
  {
   "cell_type": "code",
   "execution_count": 28,
   "metadata": {},
   "outputs": [
    {
     "data": {
      "text/plain": [
       "count    16713.000000\n",
       "mean        73.297194\n",
       "std         10.279096\n",
       "min          0.000000\n",
       "25%         75.000000\n",
       "50%         75.000000\n",
       "75%         75.000000\n",
       "max         97.000000\n",
       "Name: user_score, dtype: float64"
      ]
     },
     "execution_count": 28,
     "metadata": {},
     "output_type": "execute_result"
    }
   ],
   "source": [
    "#Visualizacion de valores en columna critic_score\n",
    "df_games['user_score'].describe()"
   ]
  },
  {
   "cell_type": "markdown",
   "metadata": {},
   "source": [
    "### Columna 'Rating'"
   ]
  },
  {
   "cell_type": "code",
   "execution_count": 29,
   "metadata": {},
   "outputs": [
    {
     "data": {
      "text/plain": [
       "NaN     6764\n",
       "E       3990\n",
       "T       2961\n",
       "M       1563\n",
       "E10+    1420\n",
       "EC         8\n",
       "K-A        3\n",
       "RP         3\n",
       "AO         1\n",
       "Name: rating, dtype: int64"
      ]
     },
     "execution_count": 29,
     "metadata": {},
     "output_type": "execute_result"
    }
   ],
   "source": [
    "#Visualizacion de valores de columna 'rating'\n",
    "df_games['rating'].value_counts(dropna=False)"
   ]
  },
  {
   "cell_type": "markdown",
   "metadata": {},
   "source": [
    "**Comment**: 6k+ valores estan ausentes y se infiere que los juegos no se les asigno un rating en su momento, por lo que se decide mantener el NaN y categorizar como 'Rating Pending' al igual que los RP. El significado de los valores del rating no es claro, por lo que se decide generar una nueva columna con la descripcion completa."
   ]
  },
  {
   "cell_type": "code",
   "execution_count": 30,
   "metadata": {},
   "outputs": [
    {
     "data": {
      "text/html": [
       "<div>\n",
       "<style scoped>\n",
       "    .dataframe tbody tr th:only-of-type {\n",
       "        vertical-align: middle;\n",
       "    }\n",
       "\n",
       "    .dataframe tbody tr th {\n",
       "        vertical-align: top;\n",
       "    }\n",
       "\n",
       "    .dataframe thead th {\n",
       "        text-align: right;\n",
       "    }\n",
       "</style>\n",
       "<table border=\"1\" class=\"dataframe\">\n",
       "  <thead>\n",
       "    <tr style=\"text-align: right;\">\n",
       "      <th></th>\n",
       "      <th>name</th>\n",
       "      <th>platform</th>\n",
       "      <th>year_of_release</th>\n",
       "      <th>genre</th>\n",
       "      <th>na_sales</th>\n",
       "      <th>eu_sales</th>\n",
       "      <th>jp_sales</th>\n",
       "      <th>other_sales</th>\n",
       "      <th>critic_score</th>\n",
       "      <th>user_score</th>\n",
       "      <th>rating</th>\n",
       "      <th>company</th>\n",
       "      <th>total_sales</th>\n",
       "      <th>rating2</th>\n",
       "    </tr>\n",
       "  </thead>\n",
       "  <tbody>\n",
       "    <tr>\n",
       "      <th>12010</th>\n",
       "      <td>harry potter and the sorcerer's stone</td>\n",
       "      <td>XB</td>\n",
       "      <td>2003</td>\n",
       "      <td>Action</td>\n",
       "      <td>0.05</td>\n",
       "      <td>0.02</td>\n",
       "      <td>0.00</td>\n",
       "      <td>0.00</td>\n",
       "      <td>59.0</td>\n",
       "      <td>60.0</td>\n",
       "      <td>E</td>\n",
       "      <td>XBox</td>\n",
       "      <td>0.07</td>\n",
       "      <td>Everyone</td>\n",
       "    </tr>\n",
       "    <tr>\n",
       "      <th>5367</th>\n",
       "      <td>motorstorm: arctic edge</td>\n",
       "      <td>PS2</td>\n",
       "      <td>2009</td>\n",
       "      <td>Racing</td>\n",
       "      <td>0.07</td>\n",
       "      <td>0.03</td>\n",
       "      <td>0.00</td>\n",
       "      <td>0.25</td>\n",
       "      <td>72.0</td>\n",
       "      <td>83.0</td>\n",
       "      <td>T</td>\n",
       "      <td>PlayStation</td>\n",
       "      <td>0.35</td>\n",
       "      <td>Teens</td>\n",
       "    </tr>\n",
       "    <tr>\n",
       "      <th>16388</th>\n",
       "      <td>root double: before crime after days</td>\n",
       "      <td>X360</td>\n",
       "      <td>2012</td>\n",
       "      <td>Action</td>\n",
       "      <td>0.00</td>\n",
       "      <td>0.00</td>\n",
       "      <td>0.01</td>\n",
       "      <td>0.00</td>\n",
       "      <td>70.0</td>\n",
       "      <td>75.0</td>\n",
       "      <td>NaN</td>\n",
       "      <td>XBox</td>\n",
       "      <td>0.01</td>\n",
       "      <td>Rating Pending</td>\n",
       "    </tr>\n",
       "    <tr>\n",
       "      <th>8299</th>\n",
       "      <td>yu-gi-oh! zexal world duel carnival</td>\n",
       "      <td>3DS</td>\n",
       "      <td>2013</td>\n",
       "      <td>Misc</td>\n",
       "      <td>0.00</td>\n",
       "      <td>0.08</td>\n",
       "      <td>0.08</td>\n",
       "      <td>0.01</td>\n",
       "      <td>70.0</td>\n",
       "      <td>75.0</td>\n",
       "      <td>NaN</td>\n",
       "      <td>Nintendo</td>\n",
       "      <td>0.17</td>\n",
       "      <td>Rating Pending</td>\n",
       "    </tr>\n",
       "    <tr>\n",
       "      <th>2639</th>\n",
       "      <td>rayman origins</td>\n",
       "      <td>X360</td>\n",
       "      <td>2011</td>\n",
       "      <td>Platform</td>\n",
       "      <td>0.38</td>\n",
       "      <td>0.32</td>\n",
       "      <td>0.00</td>\n",
       "      <td>0.08</td>\n",
       "      <td>87.0</td>\n",
       "      <td>82.0</td>\n",
       "      <td>E10+</td>\n",
       "      <td>XBox</td>\n",
       "      <td>0.78</td>\n",
       "      <td>Everyone 10y+</td>\n",
       "    </tr>\n",
       "  </tbody>\n",
       "</table>\n",
       "</div>"
      ],
      "text/plain": [
       "                                        name platform  year_of_release  \\\n",
       "12010  harry potter and the sorcerer's stone       XB             2003   \n",
       "5367                 motorstorm: arctic edge      PS2             2009   \n",
       "16388   root double: before crime after days     X360             2012   \n",
       "8299     yu-gi-oh! zexal world duel carnival      3DS             2013   \n",
       "2639                          rayman origins     X360             2011   \n",
       "\n",
       "          genre  na_sales  eu_sales  jp_sales  other_sales  critic_score  \\\n",
       "12010    Action      0.05      0.02      0.00         0.00          59.0   \n",
       "5367     Racing      0.07      0.03      0.00         0.25          72.0   \n",
       "16388    Action      0.00      0.00      0.01         0.00          70.0   \n",
       "8299       Misc      0.00      0.08      0.08         0.01          70.0   \n",
       "2639   Platform      0.38      0.32      0.00         0.08          87.0   \n",
       "\n",
       "       user_score rating      company  total_sales         rating2  \n",
       "12010        60.0      E         XBox         0.07        Everyone  \n",
       "5367         83.0      T  PlayStation         0.35           Teens  \n",
       "16388        75.0    NaN         XBox         0.01  Rating Pending  \n",
       "8299         75.0    NaN     Nintendo         0.17  Rating Pending  \n",
       "2639         82.0   E10+         XBox         0.78   Everyone 10y+  "
      ]
     },
     "execution_count": 30,
     "metadata": {},
     "output_type": "execute_result"
    }
   ],
   "source": [
    "#Generar columna con la descripcion completa de categorias de columna 'rating'\n",
    "def rating (x):\n",
    "\tif x in ['E', 'EC', 'K-A']:\n",
    "\t\treturn 'Everyone'\n",
    "\telif x == 'T':\n",
    "\t\treturn 'Teens'\n",
    "\telif x == 'M':\n",
    "\t\treturn 'Mature'\n",
    "\telif x == 'E10+':\n",
    "\t\treturn 'Everyone 10y+'\n",
    "\telif x == 'AO':\n",
    "\t\treturn 'Adult Only'\n",
    "\telse:\n",
    "\t\treturn 'Rating Pending'\n",
    "df_games['rating2'] = df_games['rating'].apply(rating)\n",
    "df_games.sample(5)"
   ]
  },
  {
   "cell_type": "markdown",
   "metadata": {},
   "source": [
    "### Revision de duplicados"
   ]
  },
  {
   "cell_type": "code",
   "execution_count": 31,
   "metadata": {},
   "outputs": [
    {
     "data": {
      "text/html": [
       "<div>\n",
       "<style scoped>\n",
       "    .dataframe tbody tr th:only-of-type {\n",
       "        vertical-align: middle;\n",
       "    }\n",
       "\n",
       "    .dataframe tbody tr th {\n",
       "        vertical-align: top;\n",
       "    }\n",
       "\n",
       "    .dataframe thead th {\n",
       "        text-align: right;\n",
       "    }\n",
       "</style>\n",
       "<table border=\"1\" class=\"dataframe\">\n",
       "  <thead>\n",
       "    <tr style=\"text-align: right;\">\n",
       "      <th></th>\n",
       "      <th>name</th>\n",
       "      <th>platform</th>\n",
       "      <th>year_of_release</th>\n",
       "      <th>genre</th>\n",
       "      <th>na_sales</th>\n",
       "      <th>eu_sales</th>\n",
       "      <th>jp_sales</th>\n",
       "      <th>other_sales</th>\n",
       "      <th>critic_score</th>\n",
       "      <th>user_score</th>\n",
       "      <th>rating</th>\n",
       "      <th>company</th>\n",
       "      <th>total_sales</th>\n",
       "      <th>rating2</th>\n",
       "    </tr>\n",
       "  </thead>\n",
       "  <tbody>\n",
       "  </tbody>\n",
       "</table>\n",
       "</div>"
      ],
      "text/plain": [
       "Empty DataFrame\n",
       "Columns: [name, platform, year_of_release, genre, na_sales, eu_sales, jp_sales, other_sales, critic_score, user_score, rating, company, total_sales, rating2]\n",
       "Index: []"
      ]
     },
     "execution_count": 31,
     "metadata": {},
     "output_type": "execute_result"
    }
   ],
   "source": [
    "#Validacion de lineas duplicadas completas \n",
    "df_games[df_games.duplicated()]"
   ]
  },
  {
   "cell_type": "markdown",
   "metadata": {},
   "source": [
    "<div class=\"alert alert-block alert-success\">\n",
    "    <b>Comentario del revisor:</b> <a class=\"tocSkip\"></a>\n",
    "    \n",
    "Como aprendiste en cursos anteriores, el análisis de registros duplicados es esencial en el análisis de datos para evitar que sesguen nuestros resultados.\n",
    "</div>"
   ]
  },
  {
   "cell_type": "code",
   "execution_count": 32,
   "metadata": {},
   "outputs": [
    {
     "data": {
      "text/html": [
       "<div>\n",
       "<style scoped>\n",
       "    .dataframe tbody tr th:only-of-type {\n",
       "        vertical-align: middle;\n",
       "    }\n",
       "\n",
       "    .dataframe tbody tr th {\n",
       "        vertical-align: top;\n",
       "    }\n",
       "\n",
       "    .dataframe thead th {\n",
       "        text-align: right;\n",
       "    }\n",
       "</style>\n",
       "<table border=\"1\" class=\"dataframe\">\n",
       "  <thead>\n",
       "    <tr style=\"text-align: right;\">\n",
       "      <th></th>\n",
       "      <th>name</th>\n",
       "      <th>platform</th>\n",
       "      <th>year_of_release</th>\n",
       "      <th>genre</th>\n",
       "      <th>na_sales</th>\n",
       "      <th>eu_sales</th>\n",
       "      <th>jp_sales</th>\n",
       "      <th>other_sales</th>\n",
       "      <th>critic_score</th>\n",
       "      <th>user_score</th>\n",
       "      <th>rating</th>\n",
       "      <th>company</th>\n",
       "      <th>total_sales</th>\n",
       "      <th>rating2</th>\n",
       "    </tr>\n",
       "  </thead>\n",
       "  <tbody>\n",
       "    <tr>\n",
       "      <th>23</th>\n",
       "      <td>grand theft auto v</td>\n",
       "      <td>X360</td>\n",
       "      <td>2013</td>\n",
       "      <td>Action</td>\n",
       "      <td>9.66</td>\n",
       "      <td>5.14</td>\n",
       "      <td>0.06</td>\n",
       "      <td>1.41</td>\n",
       "      <td>97.0</td>\n",
       "      <td>81.0</td>\n",
       "      <td>M</td>\n",
       "      <td>XBox</td>\n",
       "      <td>16.27</td>\n",
       "      <td>Mature</td>\n",
       "    </tr>\n",
       "    <tr>\n",
       "      <th>35</th>\n",
       "      <td>call of duty: black ops ii</td>\n",
       "      <td>X360</td>\n",
       "      <td>2012</td>\n",
       "      <td>Shooter</td>\n",
       "      <td>8.25</td>\n",
       "      <td>4.24</td>\n",
       "      <td>0.07</td>\n",
       "      <td>1.12</td>\n",
       "      <td>83.0</td>\n",
       "      <td>48.0</td>\n",
       "      <td>M</td>\n",
       "      <td>XBox</td>\n",
       "      <td>13.68</td>\n",
       "      <td>Mature</td>\n",
       "    </tr>\n",
       "    <tr>\n",
       "      <th>37</th>\n",
       "      <td>call of duty: modern warfare 3</td>\n",
       "      <td>PS3</td>\n",
       "      <td>2011</td>\n",
       "      <td>Shooter</td>\n",
       "      <td>5.54</td>\n",
       "      <td>5.73</td>\n",
       "      <td>0.49</td>\n",
       "      <td>1.57</td>\n",
       "      <td>88.0</td>\n",
       "      <td>32.0</td>\n",
       "      <td>M</td>\n",
       "      <td>PlayStation</td>\n",
       "      <td>13.33</td>\n",
       "      <td>Mature</td>\n",
       "    </tr>\n",
       "    <tr>\n",
       "      <th>41</th>\n",
       "      <td>call of duty: black ops</td>\n",
       "      <td>PS3</td>\n",
       "      <td>2010</td>\n",
       "      <td>Shooter</td>\n",
       "      <td>5.99</td>\n",
       "      <td>4.37</td>\n",
       "      <td>0.48</td>\n",
       "      <td>1.79</td>\n",
       "      <td>88.0</td>\n",
       "      <td>64.0</td>\n",
       "      <td>M</td>\n",
       "      <td>PlayStation</td>\n",
       "      <td>12.63</td>\n",
       "      <td>Mature</td>\n",
       "    </tr>\n",
       "    <tr>\n",
       "      <th>42</th>\n",
       "      <td>grand theft auto v</td>\n",
       "      <td>PS4</td>\n",
       "      <td>2014</td>\n",
       "      <td>Action</td>\n",
       "      <td>3.96</td>\n",
       "      <td>6.31</td>\n",
       "      <td>0.38</td>\n",
       "      <td>1.97</td>\n",
       "      <td>97.0</td>\n",
       "      <td>83.0</td>\n",
       "      <td>M</td>\n",
       "      <td>PlayStation</td>\n",
       "      <td>12.62</td>\n",
       "      <td>Mature</td>\n",
       "    </tr>\n",
       "    <tr>\n",
       "      <th>...</th>\n",
       "      <td>...</td>\n",
       "      <td>...</td>\n",
       "      <td>...</td>\n",
       "      <td>...</td>\n",
       "      <td>...</td>\n",
       "      <td>...</td>\n",
       "      <td>...</td>\n",
       "      <td>...</td>\n",
       "      <td>...</td>\n",
       "      <td>...</td>\n",
       "      <td>...</td>\n",
       "      <td>...</td>\n",
       "      <td>...</td>\n",
       "      <td>...</td>\n",
       "    </tr>\n",
       "    <tr>\n",
       "      <th>16706</th>\n",
       "      <td>men in black ii: alien escape</td>\n",
       "      <td>GC</td>\n",
       "      <td>2003</td>\n",
       "      <td>Shooter</td>\n",
       "      <td>0.01</td>\n",
       "      <td>0.00</td>\n",
       "      <td>0.00</td>\n",
       "      <td>0.00</td>\n",
       "      <td>70.0</td>\n",
       "      <td>75.0</td>\n",
       "      <td>T</td>\n",
       "      <td>Nintendo</td>\n",
       "      <td>0.01</td>\n",
       "      <td>Teens</td>\n",
       "    </tr>\n",
       "    <tr>\n",
       "      <th>16709</th>\n",
       "      <td>score international baja 1000: the official game</td>\n",
       "      <td>PS2</td>\n",
       "      <td>2008</td>\n",
       "      <td>Racing</td>\n",
       "      <td>0.00</td>\n",
       "      <td>0.00</td>\n",
       "      <td>0.00</td>\n",
       "      <td>0.00</td>\n",
       "      <td>70.0</td>\n",
       "      <td>75.0</td>\n",
       "      <td>NaN</td>\n",
       "      <td>PlayStation</td>\n",
       "      <td>0.00</td>\n",
       "      <td>Rating Pending</td>\n",
       "    </tr>\n",
       "    <tr>\n",
       "      <th>16710</th>\n",
       "      <td>samurai warriors: sanada maru</td>\n",
       "      <td>PS3</td>\n",
       "      <td>2016</td>\n",
       "      <td>Action</td>\n",
       "      <td>0.00</td>\n",
       "      <td>0.00</td>\n",
       "      <td>0.01</td>\n",
       "      <td>0.00</td>\n",
       "      <td>70.0</td>\n",
       "      <td>75.0</td>\n",
       "      <td>NaN</td>\n",
       "      <td>PlayStation</td>\n",
       "      <td>0.01</td>\n",
       "      <td>Rating Pending</td>\n",
       "    </tr>\n",
       "    <tr>\n",
       "      <th>16713</th>\n",
       "      <td>spirits &amp; spells</td>\n",
       "      <td>GBA</td>\n",
       "      <td>2003</td>\n",
       "      <td>Platform</td>\n",
       "      <td>0.01</td>\n",
       "      <td>0.00</td>\n",
       "      <td>0.00</td>\n",
       "      <td>0.00</td>\n",
       "      <td>70.0</td>\n",
       "      <td>75.0</td>\n",
       "      <td>NaN</td>\n",
       "      <td>Nintendo</td>\n",
       "      <td>0.01</td>\n",
       "      <td>Rating Pending</td>\n",
       "    </tr>\n",
       "    <tr>\n",
       "      <th>16714</th>\n",
       "      <td>winning post 8 2016</td>\n",
       "      <td>PSV</td>\n",
       "      <td>2016</td>\n",
       "      <td>Simulation</td>\n",
       "      <td>0.00</td>\n",
       "      <td>0.00</td>\n",
       "      <td>0.01</td>\n",
       "      <td>0.00</td>\n",
       "      <td>70.0</td>\n",
       "      <td>75.0</td>\n",
       "      <td>NaN</td>\n",
       "      <td>PlayStation</td>\n",
       "      <td>0.01</td>\n",
       "      <td>Rating Pending</td>\n",
       "    </tr>\n",
       "  </tbody>\n",
       "</table>\n",
       "<p>5154 rows × 14 columns</p>\n",
       "</div>"
      ],
      "text/plain": [
       "                                                   name platform  \\\n",
       "23                                   grand theft auto v     X360   \n",
       "35                           call of duty: black ops ii     X360   \n",
       "37                       call of duty: modern warfare 3      PS3   \n",
       "41                              call of duty: black ops      PS3   \n",
       "42                                   grand theft auto v      PS4   \n",
       "...                                                 ...      ...   \n",
       "16706                     men in black ii: alien escape       GC   \n",
       "16709  score international baja 1000: the official game      PS2   \n",
       "16710                     samurai warriors: sanada maru      PS3   \n",
       "16713                                  spirits & spells      GBA   \n",
       "16714                               winning post 8 2016      PSV   \n",
       "\n",
       "       year_of_release       genre  na_sales  eu_sales  jp_sales  other_sales  \\\n",
       "23                2013      Action      9.66      5.14      0.06         1.41   \n",
       "35                2012     Shooter      8.25      4.24      0.07         1.12   \n",
       "37                2011     Shooter      5.54      5.73      0.49         1.57   \n",
       "41                2010     Shooter      5.99      4.37      0.48         1.79   \n",
       "42                2014      Action      3.96      6.31      0.38         1.97   \n",
       "...                ...         ...       ...       ...       ...          ...   \n",
       "16706             2003     Shooter      0.01      0.00      0.00         0.00   \n",
       "16709             2008      Racing      0.00      0.00      0.00         0.00   \n",
       "16710             2016      Action      0.00      0.00      0.01         0.00   \n",
       "16713             2003    Platform      0.01      0.00      0.00         0.00   \n",
       "16714             2016  Simulation      0.00      0.00      0.01         0.00   \n",
       "\n",
       "       critic_score  user_score rating      company  total_sales  \\\n",
       "23             97.0        81.0      M         XBox        16.27   \n",
       "35             83.0        48.0      M         XBox        13.68   \n",
       "37             88.0        32.0      M  PlayStation        13.33   \n",
       "41             88.0        64.0      M  PlayStation        12.63   \n",
       "42             97.0        83.0      M  PlayStation        12.62   \n",
       "...             ...         ...    ...          ...          ...   \n",
       "16706          70.0        75.0      T     Nintendo         0.01   \n",
       "16709          70.0        75.0    NaN  PlayStation         0.00   \n",
       "16710          70.0        75.0    NaN  PlayStation         0.01   \n",
       "16713          70.0        75.0    NaN     Nintendo         0.01   \n",
       "16714          70.0        75.0    NaN  PlayStation         0.01   \n",
       "\n",
       "              rating2  \n",
       "23             Mature  \n",
       "35             Mature  \n",
       "37             Mature  \n",
       "41             Mature  \n",
       "42             Mature  \n",
       "...               ...  \n",
       "16706           Teens  \n",
       "16709  Rating Pending  \n",
       "16710  Rating Pending  \n",
       "16713  Rating Pending  \n",
       "16714  Rating Pending  \n",
       "\n",
       "[5154 rows x 14 columns]"
      ]
     },
     "execution_count": 32,
     "metadata": {},
     "output_type": "execute_result"
    }
   ],
   "source": [
    "#Validacion de duplicados en colummna 'name'\n",
    "df_games[df_games['name'].duplicated()]"
   ]
  },
  {
   "cell_type": "code",
   "execution_count": 33,
   "metadata": {},
   "outputs": [
    {
     "data": {
      "text/html": [
       "<div>\n",
       "<style scoped>\n",
       "    .dataframe tbody tr th:only-of-type {\n",
       "        vertical-align: middle;\n",
       "    }\n",
       "\n",
       "    .dataframe tbody tr th {\n",
       "        vertical-align: top;\n",
       "    }\n",
       "\n",
       "    .dataframe thead th {\n",
       "        text-align: right;\n",
       "    }\n",
       "</style>\n",
       "<table border=\"1\" class=\"dataframe\">\n",
       "  <thead>\n",
       "    <tr style=\"text-align: right;\">\n",
       "      <th></th>\n",
       "      <th>name</th>\n",
       "      <th>platform</th>\n",
       "      <th>year_of_release</th>\n",
       "      <th>genre</th>\n",
       "      <th>na_sales</th>\n",
       "      <th>eu_sales</th>\n",
       "      <th>jp_sales</th>\n",
       "      <th>other_sales</th>\n",
       "      <th>critic_score</th>\n",
       "      <th>user_score</th>\n",
       "      <th>rating</th>\n",
       "      <th>company</th>\n",
       "      <th>total_sales</th>\n",
       "      <th>rating2</th>\n",
       "    </tr>\n",
       "  </thead>\n",
       "  <tbody>\n",
       "    <tr>\n",
       "      <th>16</th>\n",
       "      <td>grand theft auto v</td>\n",
       "      <td>PS3</td>\n",
       "      <td>2013</td>\n",
       "      <td>Action</td>\n",
       "      <td>7.02</td>\n",
       "      <td>9.09</td>\n",
       "      <td>0.98</td>\n",
       "      <td>3.96</td>\n",
       "      <td>97.0</td>\n",
       "      <td>82.0</td>\n",
       "      <td>M</td>\n",
       "      <td>PlayStation</td>\n",
       "      <td>21.05</td>\n",
       "      <td>Mature</td>\n",
       "    </tr>\n",
       "    <tr>\n",
       "      <th>23</th>\n",
       "      <td>grand theft auto v</td>\n",
       "      <td>X360</td>\n",
       "      <td>2013</td>\n",
       "      <td>Action</td>\n",
       "      <td>9.66</td>\n",
       "      <td>5.14</td>\n",
       "      <td>0.06</td>\n",
       "      <td>1.41</td>\n",
       "      <td>97.0</td>\n",
       "      <td>81.0</td>\n",
       "      <td>M</td>\n",
       "      <td>XBox</td>\n",
       "      <td>16.27</td>\n",
       "      <td>Mature</td>\n",
       "    </tr>\n",
       "    <tr>\n",
       "      <th>42</th>\n",
       "      <td>grand theft auto v</td>\n",
       "      <td>PS4</td>\n",
       "      <td>2014</td>\n",
       "      <td>Action</td>\n",
       "      <td>3.96</td>\n",
       "      <td>6.31</td>\n",
       "      <td>0.38</td>\n",
       "      <td>1.97</td>\n",
       "      <td>97.0</td>\n",
       "      <td>83.0</td>\n",
       "      <td>M</td>\n",
       "      <td>PlayStation</td>\n",
       "      <td>12.62</td>\n",
       "      <td>Mature</td>\n",
       "    </tr>\n",
       "    <tr>\n",
       "      <th>165</th>\n",
       "      <td>grand theft auto v</td>\n",
       "      <td>XOne</td>\n",
       "      <td>2014</td>\n",
       "      <td>Action</td>\n",
       "      <td>2.81</td>\n",
       "      <td>2.19</td>\n",
       "      <td>0.00</td>\n",
       "      <td>0.47</td>\n",
       "      <td>97.0</td>\n",
       "      <td>79.0</td>\n",
       "      <td>M</td>\n",
       "      <td>XBox</td>\n",
       "      <td>5.47</td>\n",
       "      <td>Mature</td>\n",
       "    </tr>\n",
       "    <tr>\n",
       "      <th>1730</th>\n",
       "      <td>grand theft auto v</td>\n",
       "      <td>PC</td>\n",
       "      <td>2015</td>\n",
       "      <td>Action</td>\n",
       "      <td>0.39</td>\n",
       "      <td>0.69</td>\n",
       "      <td>0.00</td>\n",
       "      <td>0.09</td>\n",
       "      <td>96.0</td>\n",
       "      <td>79.0</td>\n",
       "      <td>M</td>\n",
       "      <td>PC</td>\n",
       "      <td>1.17</td>\n",
       "      <td>Mature</td>\n",
       "    </tr>\n",
       "  </tbody>\n",
       "</table>\n",
       "</div>"
      ],
      "text/plain": [
       "                    name platform  year_of_release   genre  na_sales  \\\n",
       "16    grand theft auto v      PS3             2013  Action      7.02   \n",
       "23    grand theft auto v     X360             2013  Action      9.66   \n",
       "42    grand theft auto v      PS4             2014  Action      3.96   \n",
       "165   grand theft auto v     XOne             2014  Action      2.81   \n",
       "1730  grand theft auto v       PC             2015  Action      0.39   \n",
       "\n",
       "      eu_sales  jp_sales  other_sales  critic_score  user_score rating  \\\n",
       "16        9.09      0.98         3.96          97.0        82.0      M   \n",
       "23        5.14      0.06         1.41          97.0        81.0      M   \n",
       "42        6.31      0.38         1.97          97.0        83.0      M   \n",
       "165       2.19      0.00         0.47          97.0        79.0      M   \n",
       "1730      0.69      0.00         0.09          96.0        79.0      M   \n",
       "\n",
       "          company  total_sales rating2  \n",
       "16    PlayStation        21.05  Mature  \n",
       "23           XBox        16.27  Mature  \n",
       "42    PlayStation        12.62  Mature  \n",
       "165          XBox         5.47  Mature  \n",
       "1730           PC         1.17  Mature  "
      ]
     },
     "execution_count": 33,
     "metadata": {},
     "output_type": "execute_result"
    }
   ],
   "source": [
    "#Validacion de duplicados por un nombre de juego en especifico\n",
    "df_games.query(\"name == 'grand theft auto v'\")"
   ]
  },
  {
   "cell_type": "markdown",
   "metadata": {},
   "source": [
    "**Comment**: no se presentan duplicados de lineas enteras. Se presentan duplicados en valores del nombre y se identifica que se repiten debido a las diferentes plataformas en los que se publican asi como los años de release, por lo que se procede a buscar duplicados por esas 3 columnas."
   ]
  },
  {
   "cell_type": "code",
   "execution_count": 34,
   "metadata": {},
   "outputs": [
    {
     "data": {
      "text/html": [
       "<div>\n",
       "<style scoped>\n",
       "    .dataframe tbody tr th:only-of-type {\n",
       "        vertical-align: middle;\n",
       "    }\n",
       "\n",
       "    .dataframe tbody tr th {\n",
       "        vertical-align: top;\n",
       "    }\n",
       "\n",
       "    .dataframe thead th {\n",
       "        text-align: right;\n",
       "    }\n",
       "</style>\n",
       "<table border=\"1\" class=\"dataframe\">\n",
       "  <thead>\n",
       "    <tr style=\"text-align: right;\">\n",
       "      <th></th>\n",
       "      <th>name</th>\n",
       "      <th>platform</th>\n",
       "      <th>year_of_release</th>\n",
       "      <th>genre</th>\n",
       "      <th>na_sales</th>\n",
       "      <th>eu_sales</th>\n",
       "      <th>jp_sales</th>\n",
       "      <th>other_sales</th>\n",
       "      <th>critic_score</th>\n",
       "      <th>user_score</th>\n",
       "      <th>rating</th>\n",
       "      <th>company</th>\n",
       "      <th>total_sales</th>\n",
       "      <th>rating2</th>\n",
       "    </tr>\n",
       "  </thead>\n",
       "  <tbody>\n",
       "    <tr>\n",
       "      <th>16230</th>\n",
       "      <td>madden nfl 13</td>\n",
       "      <td>PS3</td>\n",
       "      <td>2012</td>\n",
       "      <td>Sports</td>\n",
       "      <td>0.0</td>\n",
       "      <td>0.01</td>\n",
       "      <td>0.0</td>\n",
       "      <td>0.0</td>\n",
       "      <td>83.0</td>\n",
       "      <td>55.0</td>\n",
       "      <td>E</td>\n",
       "      <td>PlayStation</td>\n",
       "      <td>0.01</td>\n",
       "      <td>Everyone</td>\n",
       "    </tr>\n",
       "  </tbody>\n",
       "</table>\n",
       "</div>"
      ],
      "text/plain": [
       "                name platform  year_of_release   genre  na_sales  eu_sales  \\\n",
       "16230  madden nfl 13      PS3             2012  Sports       0.0      0.01   \n",
       "\n",
       "       jp_sales  other_sales  critic_score  user_score rating      company  \\\n",
       "16230       0.0          0.0          83.0        55.0      E  PlayStation   \n",
       "\n",
       "       total_sales   rating2  \n",
       "16230         0.01  Everyone  "
      ]
     },
     "execution_count": 34,
     "metadata": {},
     "output_type": "execute_result"
    }
   ],
   "source": [
    "#Busqueda de duplicados por columnas 'name', 'platform', 'year_of_release' \n",
    "df_games[df_games[['name','platform', 'year_of_release']].duplicated()]"
   ]
  },
  {
   "cell_type": "code",
   "execution_count": 35,
   "metadata": {},
   "outputs": [
    {
     "data": {
      "text/html": [
       "<div>\n",
       "<style scoped>\n",
       "    .dataframe tbody tr th:only-of-type {\n",
       "        vertical-align: middle;\n",
       "    }\n",
       "\n",
       "    .dataframe tbody tr th {\n",
       "        vertical-align: top;\n",
       "    }\n",
       "\n",
       "    .dataframe thead th {\n",
       "        text-align: right;\n",
       "    }\n",
       "</style>\n",
       "<table border=\"1\" class=\"dataframe\">\n",
       "  <thead>\n",
       "    <tr style=\"text-align: right;\">\n",
       "      <th></th>\n",
       "      <th>name</th>\n",
       "      <th>platform</th>\n",
       "      <th>year_of_release</th>\n",
       "      <th>genre</th>\n",
       "      <th>na_sales</th>\n",
       "      <th>eu_sales</th>\n",
       "      <th>jp_sales</th>\n",
       "      <th>other_sales</th>\n",
       "      <th>critic_score</th>\n",
       "      <th>user_score</th>\n",
       "      <th>rating</th>\n",
       "      <th>company</th>\n",
       "      <th>total_sales</th>\n",
       "      <th>rating2</th>\n",
       "    </tr>\n",
       "  </thead>\n",
       "  <tbody>\n",
       "    <tr>\n",
       "      <th>604</th>\n",
       "      <td>madden nfl 13</td>\n",
       "      <td>PS3</td>\n",
       "      <td>2012</td>\n",
       "      <td>Sports</td>\n",
       "      <td>2.11</td>\n",
       "      <td>0.22</td>\n",
       "      <td>0.0</td>\n",
       "      <td>0.23</td>\n",
       "      <td>83.0</td>\n",
       "      <td>55.0</td>\n",
       "      <td>E</td>\n",
       "      <td>PlayStation</td>\n",
       "      <td>2.56</td>\n",
       "      <td>Everyone</td>\n",
       "    </tr>\n",
       "    <tr>\n",
       "      <th>16230</th>\n",
       "      <td>madden nfl 13</td>\n",
       "      <td>PS3</td>\n",
       "      <td>2012</td>\n",
       "      <td>Sports</td>\n",
       "      <td>0.00</td>\n",
       "      <td>0.01</td>\n",
       "      <td>0.0</td>\n",
       "      <td>0.00</td>\n",
       "      <td>83.0</td>\n",
       "      <td>55.0</td>\n",
       "      <td>E</td>\n",
       "      <td>PlayStation</td>\n",
       "      <td>0.01</td>\n",
       "      <td>Everyone</td>\n",
       "    </tr>\n",
       "  </tbody>\n",
       "</table>\n",
       "</div>"
      ],
      "text/plain": [
       "                name platform  year_of_release   genre  na_sales  eu_sales  \\\n",
       "604    madden nfl 13      PS3             2012  Sports      2.11      0.22   \n",
       "16230  madden nfl 13      PS3             2012  Sports      0.00      0.01   \n",
       "\n",
       "       jp_sales  other_sales  critic_score  user_score rating      company  \\\n",
       "604         0.0         0.23          83.0        55.0      E  PlayStation   \n",
       "16230       0.0         0.00          83.0        55.0      E  PlayStation   \n",
       "\n",
       "       total_sales   rating2  \n",
       "604           2.56  Everyone  \n",
       "16230         0.01  Everyone  "
      ]
     },
     "execution_count": 35,
     "metadata": {},
     "output_type": "execute_result"
    }
   ],
   "source": [
    "#Visualizacion de la linea duplicada\n",
    "df_games.query(\"name == 'madden nfl 13' and platform == 'PS3'\")"
   ]
  },
  {
   "cell_type": "code",
   "execution_count": 36,
   "metadata": {},
   "outputs": [
    {
     "data": {
      "text/html": [
       "<div>\n",
       "<style scoped>\n",
       "    .dataframe tbody tr th:only-of-type {\n",
       "        vertical-align: middle;\n",
       "    }\n",
       "\n",
       "    .dataframe tbody tr th {\n",
       "        vertical-align: top;\n",
       "    }\n",
       "\n",
       "    .dataframe thead th {\n",
       "        text-align: right;\n",
       "    }\n",
       "</style>\n",
       "<table border=\"1\" class=\"dataframe\">\n",
       "  <thead>\n",
       "    <tr style=\"text-align: right;\">\n",
       "      <th></th>\n",
       "      <th>name</th>\n",
       "      <th>platform</th>\n",
       "      <th>year_of_release</th>\n",
       "      <th>genre</th>\n",
       "      <th>na_sales</th>\n",
       "      <th>eu_sales</th>\n",
       "      <th>jp_sales</th>\n",
       "      <th>other_sales</th>\n",
       "      <th>critic_score</th>\n",
       "      <th>user_score</th>\n",
       "      <th>rating</th>\n",
       "      <th>company</th>\n",
       "      <th>total_sales</th>\n",
       "      <th>rating2</th>\n",
       "    </tr>\n",
       "  </thead>\n",
       "  <tbody>\n",
       "    <tr>\n",
       "      <th>604</th>\n",
       "      <td>madden nfl 13</td>\n",
       "      <td>PS3</td>\n",
       "      <td>2012</td>\n",
       "      <td>Sports</td>\n",
       "      <td>2.11</td>\n",
       "      <td>0.22</td>\n",
       "      <td>0.0</td>\n",
       "      <td>0.23</td>\n",
       "      <td>83.0</td>\n",
       "      <td>55.0</td>\n",
       "      <td>E</td>\n",
       "      <td>PlayStation</td>\n",
       "      <td>2.56</td>\n",
       "      <td>Everyone</td>\n",
       "    </tr>\n",
       "  </tbody>\n",
       "</table>\n",
       "</div>"
      ],
      "text/plain": [
       "              name platform  year_of_release   genre  na_sales  eu_sales  \\\n",
       "604  madden nfl 13      PS3             2012  Sports      2.11      0.22   \n",
       "\n",
       "     jp_sales  other_sales  critic_score  user_score rating      company  \\\n",
       "604       0.0         0.23          83.0        55.0      E  PlayStation   \n",
       "\n",
       "     total_sales   rating2  \n",
       "604         2.56  Everyone  "
      ]
     },
     "execution_count": 36,
     "metadata": {},
     "output_type": "execute_result"
    }
   ],
   "source": [
    "#Eliminacion de la fila con index 16230 \n",
    "df_games = df_games.drop([16230]).reset_index(drop=True)\n",
    "df_games.query(\"name == 'madden nfl 13' and platform == 'PS3'\")\n"
   ]
  },
  {
   "cell_type": "code",
   "execution_count": 37,
   "metadata": {},
   "outputs": [
    {
     "data": {
      "text/plain": [
       "name               geten no hana: yume akari\n",
       "platform                                 PSP\n",
       "year_of_release                         2014\n",
       "genre                                   Misc\n",
       "na_sales                                 0.0\n",
       "eu_sales                                 0.0\n",
       "jp_sales                                0.01\n",
       "other_sales                              0.0\n",
       "critic_score                            70.0\n",
       "user_score                              75.0\n",
       "rating                                   NaN\n",
       "company                          PlayStation\n",
       "total_sales                             0.01\n",
       "rating2                       Rating Pending\n",
       "Name: 16230, dtype: object"
      ]
     },
     "execution_count": 37,
     "metadata": {},
     "output_type": "execute_result"
    }
   ],
   "source": [
    "#Validacion de valor del index 16230\n",
    "df_games.loc[16230,]"
   ]
  },
  {
   "cell_type": "markdown",
   "metadata": {},
   "source": [
    "**Comments**: se procede a eliminar la unica fila duplicada siginficativa "
   ]
  },
  {
   "cell_type": "markdown",
   "metadata": {},
   "source": [
    "### Guardar tabla procesada"
   ]
  },
  {
   "cell_type": "code",
   "execution_count": 38,
   "metadata": {},
   "outputs": [],
   "source": [
    "#Exportar tabla procesada\n",
    "df_games.to_csv('games_processed.csv', index=False)"
   ]
  },
  {
   "cell_type": "markdown",
   "metadata": {},
   "source": [
    "## Analisis Exploratorio"
   ]
  },
  {
   "cell_type": "code",
   "execution_count": 39,
   "metadata": {},
   "outputs": [
    {
     "name": "stdout",
     "output_type": "stream",
     "text": [
      "<class 'pandas.core.frame.DataFrame'>\n",
      "RangeIndex: 16712 entries, 0 to 16711\n",
      "Data columns (total 14 columns):\n",
      " #   Column           Non-Null Count  Dtype  \n",
      "---  ------           --------------  -----  \n",
      " 0   name             16712 non-null  object \n",
      " 1   platform         16712 non-null  object \n",
      " 2   year_of_release  16712 non-null  int64  \n",
      " 3   genre            16712 non-null  object \n",
      " 4   na_sales         16712 non-null  float64\n",
      " 5   eu_sales         16712 non-null  float64\n",
      " 6   jp_sales         16712 non-null  float64\n",
      " 7   other_sales      16712 non-null  float64\n",
      " 8   critic_score     16712 non-null  float64\n",
      " 9   user_score       16712 non-null  float64\n",
      " 10  rating           9948 non-null   object \n",
      " 11  company          16712 non-null  object \n",
      " 12  total_sales      16712 non-null  float64\n",
      " 13  rating2          16712 non-null  object \n",
      "dtypes: float64(7), int64(1), object(6)\n",
      "memory usage: 1.8+ MB\n"
     ]
    }
   ],
   "source": [
    "#Carga de nueva base de datos con info procesada\n",
    "df_games_ok = pd.read_csv('games_processed.csv')\n",
    "df_games_ok.info()"
   ]
  },
  {
   "cell_type": "markdown",
   "metadata": {},
   "source": [
    "### Publicacion de juegos por año"
   ]
  },
  {
   "cell_type": "code",
   "execution_count": 40,
   "metadata": {},
   "outputs": [
    {
     "name": "stdout",
     "output_type": "stream",
     "text": [
      "                 name\n",
      "year_of_release      \n",
      "1980                9\n",
      "1981               46\n",
      "1982               36\n",
      "1983               17\n",
      "1984               14\n",
      "1985               14\n",
      "1986               21\n",
      "1987               16\n",
      "1988               15\n",
      "1989               17\n",
      "1990               16\n",
      "1991               41\n",
      "1992               43\n",
      "1993               60\n",
      "1994              121\n",
      "1995              219\n",
      "1996              263\n",
      "1997              289\n",
      "1998              379\n",
      "1999              338\n",
      "2000              350\n",
      "2001              482\n",
      "2002              829\n",
      "2003              775\n",
      "2004              762\n",
      "2005              939\n",
      "2006             1006\n",
      "2007             1197\n",
      "2008             1427\n",
      "2009             1426\n",
      "2010             1255\n",
      "2011             1136\n",
      "2012              652\n",
      "2013              544\n",
      "2014              581\n",
      "2015              606\n",
      "2016              502\n"
     ]
    }
   ],
   "source": [
    "#Tabla de juegos publicados por año, descartando aquellos sin informacion\n",
    "games_per_year_pivot = df_games_ok.query(\"year_of_release != -1\").pivot_table(index='year_of_release', values='name', aggfunc='count')\n",
    "print(games_per_year_pivot)"
   ]
  },
  {
   "cell_type": "code",
   "execution_count": 41,
   "metadata": {},
   "outputs": [
    {
     "data": {
      "text/plain": [
       "<AxesSubplot:title={'center':'Juegos publicados por año'}, xlabel='Year of release', ylabel='Cantidad de juegos'>"
      ]
     },
     "execution_count": 41,
     "metadata": {},
     "output_type": "execute_result"
    },
    {
     "data": {
      "image/png": "[encoded data removed]",
      "text/plain": [
       "<Figure size 640x480 with 1 Axes>"
      ]
     },
     "metadata": {},
     "output_type": "display_data"
    }
   ],
   "source": [
    "#Grafico lineal de juegos por año\n",
    "games_per_year_pivot.plot(\n",
    "\t\tkind = 'line',\n",
    "\t\ttitle = 'Juegos publicados por año',\n",
    "\t\txlabel = 'Year of release',\n",
    "        ylabel = 'Cantidad de juegos'\n",
    ")"
   ]
  },
  {
   "cell_type": "markdown",
   "metadata": {},
   "source": [
    "<div class=\"alert alert-block alert-success\">\n",
    "    <b>Comentario del revisor:</b> <a class=\"tocSkip\"></a>\n",
    "    \n",
    "Gran trabajo con el desarrollo de la gráfica, nos muestra una idea de como se comporta el mercado de videojuegos en el tiempo\n",
    "</div>"
   ]
  },
  {
   "cell_type": "markdown",
   "metadata": {},
   "source": [
    "**Comments**: se carga nuevamente la base de datos con la informacion ya procesada para evitar errores. \n",
    "- Se analiza la publicacion de juegos por año desde 1980, encontrando una tendencia significativa de crecimiento a partir del año 1995 y con valores mas significativos al periodo actual a partir del 2000. \n",
    "- Hubo un crecimiento exponencial a partir del 2005-2006 con una caida significativa a partir del 2008-2009. En el 2008 hubo una crisis economica mundial que seguramente tambien impacto en el mundo de los videojuegos. "
   ]
  },
  {
   "cell_type": "markdown",
   "metadata": {},
   "source": [
    "### Ventas totales por plataforma"
   ]
  },
  {
   "cell_type": "code",
   "execution_count": 42,
   "metadata": {},
   "outputs": [
    {
     "name": "stdout",
     "output_type": "stream",
     "text": [
      "          total_sales\n",
      "platform             \n",
      "PS2           1233.56\n",
      "X360           961.24\n",
      "PS3            931.33\n",
      "Wii            891.18\n",
      "DS             802.78\n",
      "PS             727.58\n",
      "PS4            314.14\n",
      "GBA            312.88\n",
      "PSP            289.53\n",
      "3DS            257.81\n",
      "PC             255.76\n",
      "GB             254.43\n",
      "XB             251.57\n",
      "NES            251.05\n",
      "N64            218.01\n",
      "SNES           200.04\n",
      "GC             196.73\n",
      "XOne           159.32\n",
      "2600            86.48\n",
      "WiiU            82.19\n",
      "PSV             53.81\n",
      "SAT             33.59\n",
      "GEN             28.35\n",
      "DC              15.95\n",
      "SCD              1.86\n",
      "NG               1.44\n",
      "WS               1.42\n",
      "TG16             0.16\n",
      "3DO              0.10\n",
      "GG               0.04\n",
      "PCFX             0.03\n"
     ]
    }
   ],
   "source": [
    "#Tabla pivote de ventas totales por plataforma\n",
    "df_ventas_totales_pivot = df_games_ok.query(\"year_of_release != -1\").pivot_table(index='platform', values='total_sales', aggfunc='sum').sort_values(by='total_sales', ascending=False)\n",
    "print(df_ventas_totales_pivot)"
   ]
  },
  {
   "cell_type": "code",
   "execution_count": 43,
   "metadata": {},
   "outputs": [
    {
     "data": {
      "text/plain": [
       "<AxesSubplot:title={'center':'Ventas totales por plataforma'}, xlabel='Platform', ylabel='Total_Sales'>"
      ]
     },
     "execution_count": 43,
     "metadata": {},
     "output_type": "execute_result"
    },
    {
     "data": {
      "image/png": "[encoded data removed]",
      "text/plain": [
       "<Figure size 640x480 with 1 Axes>"
      ]
     },
     "metadata": {},
     "output_type": "display_data"
    }
   ],
   "source": [
    "#Grafico de barras de ventas totales por plataforma\n",
    "df_ventas_totales_pivot.plot(\n",
    "\t\tkind = 'bar',\n",
    "\t\ttitle = 'Ventas totales por plataforma',\n",
    "\t\txlabel = 'Platform',\n",
    "\t\tylabel = 'Total_Sales'\n",
    ")"
   ]
  },
  {
   "cell_type": "code",
   "execution_count": 44,
   "metadata": {},
   "outputs": [
    {
     "name": "stdout",
     "output_type": "stream",
     "text": [
      "                                                   name platform  \\\n",
      "0                                            wii sports      Wii   \n",
      "2                                        mario kart wii      Wii   \n",
      "3                                     wii sports resort      Wii   \n",
      "6                                 new super mario bros.       DS   \n",
      "7                                              wii play      Wii   \n",
      "...                                                 ...      ...   \n",
      "16705                woody woodpecker in crazy castle 5      GBA   \n",
      "16706  score international baja 1000: the official game      PS2   \n",
      "16707                     samurai warriors: sanada maru      PS3   \n",
      "16708                                  lma manager 2007     X360   \n",
      "16710                                  spirits & spells      GBA   \n",
      "\n",
      "       year_of_release     genre  na_sales  eu_sales  jp_sales  other_sales  \\\n",
      "0                 2006    Sports     41.36     28.96      3.77         8.45   \n",
      "2                 2008    Racing     15.68     12.76      3.79         3.29   \n",
      "3                 2009    Sports     15.61     10.93      3.28         2.95   \n",
      "6                 2006  Platform     11.28      9.14      6.50         2.88   \n",
      "7                 2006      Misc     13.96      9.18      2.93         2.84   \n",
      "...                ...       ...       ...       ...       ...          ...   \n",
      "16705             2002  Platform      0.01      0.00      0.00         0.00   \n",
      "16706             2008    Racing      0.00      0.00      0.00         0.00   \n",
      "16707             2016    Action      0.00      0.00      0.01         0.00   \n",
      "16708             2006    Sports      0.00      0.01      0.00         0.00   \n",
      "16710             2003  Platform      0.01      0.00      0.00         0.00   \n",
      "\n",
      "       critic_score  user_score rating      company  total_sales  \\\n",
      "0              76.0        80.0      E     Nintendo        82.54   \n",
      "2              82.0        83.0      E     Nintendo        35.52   \n",
      "3              80.0        80.0      E     Nintendo        32.77   \n",
      "6              89.0        85.0      E     Nintendo        29.80   \n",
      "7              58.0        66.0      E     Nintendo        28.91   \n",
      "...             ...         ...    ...          ...          ...   \n",
      "16705          70.0        75.0    NaN     Nintendo         0.01   \n",
      "16706          70.0        75.0    NaN  PlayStation         0.00   \n",
      "16707          70.0        75.0    NaN  PlayStation         0.01   \n",
      "16708          70.0        75.0    NaN         XBox         0.01   \n",
      "16710          70.0        75.0    NaN     Nintendo         0.01   \n",
      "\n",
      "              rating2  \n",
      "0            Everyone  \n",
      "2            Everyone  \n",
      "3            Everyone  \n",
      "6            Everyone  \n",
      "7            Everyone  \n",
      "...               ...  \n",
      "16705  Rating Pending  \n",
      "16706  Rating Pending  \n",
      "16707  Rating Pending  \n",
      "16708  Rating Pending  \n",
      "16710  Rating Pending  \n",
      "\n",
      "[12169 rows x 14 columns]\n"
     ]
    }
   ],
   "source": [
    "#Segmentacion de Dataframe a top 10 plataformas en ventas\n",
    "top_10_platforms_ventas = ['PS2', 'X360', 'PS3', 'Wii', 'DS', 'PS', 'GBA', 'PS4', 'PSP', '3DS']\n",
    "df_games_top_10_ventas = df_games_ok.query(\"year_of_release != -1\").query(\"platform in @top_10_platforms_ventas\")\n",
    "print(df_games_top_10_ventas)"
   ]
  },
  {
   "cell_type": "code",
   "execution_count": 45,
   "metadata": {},
   "outputs": [
    {
     "name": "stdout",
     "output_type": "stream",
     "text": [
      "platform           3DS      DS    GBA      PS     PS2     PS3     PS4    PSP  \\\n",
      "year_of_release                                                                \n",
      "1985               NaN    0.02    NaN     NaN     NaN     NaN     NaN    NaN   \n",
      "1994               NaN     NaN    NaN    6.03     NaN     NaN     NaN    NaN   \n",
      "1995               NaN     NaN    NaN   35.96     NaN     NaN     NaN    NaN   \n",
      "1996               NaN     NaN    NaN   94.70     NaN     NaN     NaN    NaN   \n",
      "1997               NaN     NaN    NaN  136.17     NaN     NaN     NaN    NaN   \n",
      "1998               NaN     NaN    NaN  169.49     NaN     NaN     NaN    NaN   \n",
      "1999               NaN     NaN    NaN  144.53     NaN     NaN     NaN    NaN   \n",
      "2000               NaN     NaN   0.07   96.37   39.17     NaN     NaN    NaN   \n",
      "2001               NaN     NaN  61.53   35.59  166.43     NaN     NaN    NaN   \n",
      "2002               NaN     NaN  74.16    6.67  205.38     NaN     NaN    NaN   \n",
      "2003               NaN     NaN  56.67    2.07  184.31     NaN     NaN    NaN   \n",
      "2004               NaN   17.27  77.91     NaN  211.81     NaN     NaN   7.06   \n",
      "2005               NaN  130.14  33.86     NaN  160.66     NaN     NaN  43.84   \n",
      "2006               NaN  119.81   5.28     NaN  103.42   20.96     NaN  55.32   \n",
      "2007               NaN  146.94   3.40     NaN   75.99   73.19     NaN  46.93   \n",
      "2008               NaN  145.31    NaN     NaN   53.90  118.52     NaN  34.55   \n",
      "2009               NaN  119.54    NaN     NaN   26.40  130.93     NaN  37.78   \n",
      "2010               NaN   85.02    NaN     NaN    5.64  142.17     NaN  35.04   \n",
      "2011             63.20   26.18    NaN     NaN    0.45  156.78     NaN  17.82   \n",
      "2012             51.36   11.01    NaN     NaN     NaN  107.35     NaN   7.69   \n",
      "2013             56.57    1.54    NaN     NaN     NaN  113.25   25.99   3.14   \n",
      "2014             43.76     NaN    NaN     NaN     NaN   47.76  100.00   0.24   \n",
      "2015             27.78     NaN    NaN     NaN     NaN   16.82  118.90   0.12   \n",
      "2016             15.14     NaN    NaN     NaN     NaN    3.60   69.25    NaN   \n",
      "\n",
      "platform            Wii    X360  \n",
      "year_of_release                  \n",
      "1985                NaN     NaN  \n",
      "1994                NaN     NaN  \n",
      "1995                NaN     NaN  \n",
      "1996                NaN     NaN  \n",
      "1997                NaN     NaN  \n",
      "1998                NaN     NaN  \n",
      "1999                NaN     NaN  \n",
      "2000                NaN     NaN  \n",
      "2001                NaN     NaN  \n",
      "2002                NaN     NaN  \n",
      "2003                NaN     NaN  \n",
      "2004                NaN     NaN  \n",
      "2005                NaN    8.25  \n",
      "2006             137.15   51.62  \n",
      "2007             152.77   95.41  \n",
      "2008             171.32  135.26  \n",
      "2009             206.97  120.29  \n",
      "2010             127.95  170.03  \n",
      "2011              59.65  143.84  \n",
      "2012              21.71   99.74  \n",
      "2013               8.59   88.58  \n",
      "2014               3.75   34.74  \n",
      "2015               1.14   11.96  \n",
      "2016               0.18    1.52  \n"
     ]
    }
   ],
   "source": [
    "#Pivote top 10 plataformas ventas por año\n",
    "df_ventas_top_10_por_año_pivot = df_games_top_10_ventas.pivot_table(index='year_of_release', columns='platform', values='total_sales', aggfunc='sum')\n",
    "print(df_ventas_top_10_por_año_pivot)"
   ]
  },
  {
   "cell_type": "code",
   "execution_count": 46,
   "metadata": {},
   "outputs": [
    {
     "data": {
      "text/plain": [
       "<AxesSubplot:title={'center':'Volumen de ventas por año por plataforma'}, xlabel='Year_of_release', ylabel='Ventas MUSD'>"
      ]
     },
     "execution_count": 46,
     "metadata": {},
     "output_type": "execute_result"
    },
    {
     "data": {
      "image/png": "[encoded data removed]",
      "text/plain": [
       "<Figure size 640x480 with 1 Axes>"
      ]
     },
     "metadata": {},
     "output_type": "display_data"
    }
   ],
   "source": [
    "#Grafico tendencias de ventas y caida por plataforma por año\n",
    "df_ventas_top_10_por_año_pivot.plot(\n",
    "\t\tkind = 'line',\n",
    "\t\ttitle = 'Volumen de ventas por año por plataforma',\n",
    "\t\txlabel = 'Year_of_release',\n",
    "\t\tylabel = 'Ventas MUSD'\n",
    ")"
   ]
  },
  {
   "cell_type": "code",
   "execution_count": 47,
   "metadata": {},
   "outputs": [
    {
     "name": "stdout",
     "output_type": "stream",
     "text": [
      "platform           3DS     DS  GBA  PS   PS2     PS3     PS4    PSP     Wii  \\\n",
      "year_of_release                                                               \n",
      "2010               NaN  85.02  NaN NaN  5.64  142.17     NaN  35.04  127.95   \n",
      "2011             63.20  26.18  NaN NaN  0.45  156.78     NaN  17.82   59.65   \n",
      "2012             51.36  11.01  NaN NaN   NaN  107.35     NaN   7.69   21.71   \n",
      "2013             56.57   1.54  NaN NaN   NaN  113.25   25.99   3.14    8.59   \n",
      "2014             43.76    NaN  NaN NaN   NaN   47.76  100.00   0.24    3.75   \n",
      "2015             27.78    NaN  NaN NaN   NaN   16.82  118.90   0.12    1.14   \n",
      "2016             15.14    NaN  NaN NaN   NaN    3.60   69.25    NaN    0.18   \n",
      "\n",
      "platform           X360  \n",
      "year_of_release          \n",
      "2010             170.03  \n",
      "2011             143.84  \n",
      "2012              99.74  \n",
      "2013              88.58  \n",
      "2014              34.74  \n",
      "2015              11.96  \n",
      "2016               1.52  \n"
     ]
    }
   ],
   "source": [
    "#Reduccion de pivote a ventas por plataforma desde 2010\n",
    "df_ventas_top_10_2010_2016 = df_ventas_top_10_por_año_pivot.query('year_of_release >= 2010')\n",
    "print(df_ventas_top_10_2010_2016)"
   ]
  },
  {
   "cell_type": "code",
   "execution_count": 48,
   "metadata": {},
   "outputs": [
    {
     "data": {
      "text/plain": [
       "<AxesSubplot:title={'center':'Volumen de ventas por año por plataforma desde 2010'}, xlabel='Year_of_release', ylabel='Ventas MUSD'>"
      ]
     },
     "execution_count": 48,
     "metadata": {},
     "output_type": "execute_result"
    },
    {
     "data": {
      "image/png": "[encoded data removed]",
      "text/plain": [
       "<Figure size 640x480 with 1 Axes>"
      ]
     },
     "metadata": {},
     "output_type": "display_data"
    }
   ],
   "source": [
    "#Grafico tendencias de ventas y caida por plataforma por año desde 2010\n",
    "df_ventas_top_10_2010_2016.plot(\n",
    "\t\tkind = 'line',\n",
    "\t\ttitle = 'Volumen de ventas por año por plataforma desde 2010',\n",
    "\t\txlabel = 'Year_of_release',\n",
    "\t\tylabel = 'Ventas MUSD'\n",
    ")"
   ]
  },
  {
   "cell_type": "markdown",
   "metadata": {},
   "source": [
    "<div class=\"alert alert-block alert-warning\">\n",
    "<b>Comentario del revisor</b> <a class=\"tocSkip\"></a>\n",
    "    \n",
    "Gran trabajo con el desarrollo de la gráfica. Solamente te recomendaría que intentes reducir el periodo dado que el perido actual puede resultar muy extenso. Recordemos que con base en la información la popularidad la alcanzan en los primeros años. Es por ello que con un periodo largo puede no ser posible analizar de forma clara las plataformas y videojuegos actualizados y podrías estar analizando los desactualizados. Es por ello y dado que buscamos responder qué vender en 2017 te recomendareia gráficar un periodo que no supere los 5 años.     \n",
    "\n",
    "</div>"
   ]
  },
  {
   "cell_type": "markdown",
   "metadata": {},
   "source": [
    "<div class=\"alert alert-block alert-info\">\n",
    "    <b>Respuesta del estudiante:</b> <a class=\"tocSkip\"></a>\n",
    "    \n",
    "Se segmentan los datos con ventas desde 2010 y se realiza grafica de tendencia de ventas por plataforma 2010-2016."
   ]
  },
  {
   "cell_type": "markdown",
   "metadata": {},
   "source": [
    "<div class=\"alert alert-block alert-success\">\n",
    "<b>Comentario del revisor:</b> <a class=\"tocSkip\"></a>\n",
    "    \n",
    "Gran trabajo con el ajustes! Ahora podemos ver los resultados en un periodo actualizado\n",
    "    \n",
    "   \n",
    "\n",
    "</div>"
   ]
  },
  {
   "cell_type": "markdown",
   "metadata": {},
   "source": [
    "**Comments**: Una vez teniendo identificadas las ventas totales de todas las plataformas, se segmenta la informacion para analizar las top 10 plataformas con mayores vental totales. Se muestra un grafico lineal con las tendencias de venta por plataforma, identificando que la duracion de vida y ventas de las plataformas es entre 8 y 12 años, con un tiempo de traslape entre consolas de la misma compañia de entre 4 y 6 años."
   ]
  },
  {
   "cell_type": "markdown",
   "metadata": {},
   "source": [
    "### Top 3 ventas por compañia"
   ]
  },
  {
   "cell_type": "code",
   "execution_count": 49,
   "metadata": {},
   "outputs": [
    {
     "name": "stdout",
     "output_type": "stream",
     "text": [
      "                                                    name platform  \\\n",
      "8835   pokémon: johto photo finish: game boy advance ...      GBA   \n",
      "6328                                          nba jam 99      N64   \n",
      "140                                       gears of war 3     X360   \n",
      "12265                                   natural doctrine      PSV   \n",
      "14951                                       drome racers      GBA   \n",
      "11256                                      puss in boots      PS3   \n",
      "7635                              pro yaky? spirits 2013      PS3   \n",
      "11573                                           roadkill       XB   \n",
      "3577                               backyard nfl football      GBA   \n",
      "4277                                     missile command       PS   \n",
      "\n",
      "       year_of_release         genre  na_sales  eu_sales  jp_sales  \\\n",
      "8835              2004          Misc      0.11      0.04      0.00   \n",
      "6328              1998        Sports      0.25      0.02      0.00   \n",
      "140               2011       Shooter      4.05      1.59      0.07   \n",
      "12265             2014  Role-Playing      0.02      0.01      0.03   \n",
      "14951             2003        Racing      0.02      0.01      0.00   \n",
      "11256             2011        Action      0.07      0.01      0.00   \n",
      "7635              2013        Sports      0.00      0.00      0.20   \n",
      "11573             2003        Action      0.06      0.02      0.00   \n",
      "3577              2002        Sports      0.40      0.15      0.00   \n",
      "4277              1999       Shooter      0.25      0.17      0.00   \n",
      "\n",
      "       other_sales  critic_score  user_score rating      company  total_sales  \\\n",
      "8835          0.00          70.0        75.0    NaN     Nintendo         0.15   \n",
      "6328          0.00          70.0        75.0    NaN     Nintendo         0.27   \n",
      "140           0.50          91.0        78.0      M         XBox         6.21   \n",
      "12265         0.01          60.0        75.0      M  PlayStation         0.07   \n",
      "14951         0.00          73.0        75.0      E     Nintendo         0.03   \n",
      "11256         0.01          70.0        70.0   E10+  PlayStation         0.09   \n",
      "7635          0.00          70.0        75.0    NaN  PlayStation         0.20   \n",
      "11573         0.00          68.0        74.0      M         XBox         0.08   \n",
      "3577          0.01          70.0        75.0    NaN     Nintendo         0.56   \n",
      "4277          0.03          70.0        75.0    NaN  PlayStation         0.45   \n",
      "\n",
      "              rating2  \n",
      "8835   Rating Pending  \n",
      "6328   Rating Pending  \n",
      "140            Mature  \n",
      "12265          Mature  \n",
      "14951        Everyone  \n",
      "11256   Everyone 10y+  \n",
      "7635   Rating Pending  \n",
      "11573          Mature  \n",
      "3577   Rating Pending  \n",
      "4277   Rating Pending  \n"
     ]
    }
   ],
   "source": [
    "# Segmentacion de DataFrame por las top 3 compañias\n",
    "top_companies = ['Nintendo', 'XBox', 'PlayStation']\n",
    "df_games_top_companies = df_games_ok.query(\"year_of_release != -1 and year_of_release >= 1994 and year_of_release <= 2015\").query(\"company in @top_companies\")\n",
    "print(df_games_top_companies.sample(10))"
   ]
  },
  {
   "cell_type": "code",
   "execution_count": 50,
   "metadata": {},
   "outputs": [
    {
     "name": "stdout",
     "output_type": "stream",
     "text": [
      "company          Nintendo  PlayStation    XBox\n",
      "year_of_release                               \n",
      "1994                47.37         6.03     NaN\n",
      "1995                35.80        35.96     NaN\n",
      "1996                86.05        94.70     NaN\n",
      "1997                46.86       136.17     NaN\n",
      "1998                76.36       169.49     NaN\n",
      "1999                96.13       144.53     NaN\n",
      "2000                53.80       135.54    0.99\n",
      "2001               100.36       202.02   22.26\n",
      "2002               126.05       212.05   48.01\n",
      "2003               107.28       186.38   55.04\n",
      "2004               124.00       218.87   65.42\n",
      "2005               191.62       204.50   57.33\n",
      "2006               273.50       179.70   61.66\n",
      "2007               303.38       196.11   95.96\n",
      "2008               316.63       206.97  135.44\n",
      "2009               326.51       195.11  120.29\n",
      "2010               212.97       182.85  170.03\n",
      "2011               149.03       179.68  143.84\n",
      "2012               101.64       131.23   99.74\n",
      "2013                88.35       152.97  107.54\n",
      "2014                69.54       159.90   88.81\n",
      "2015                45.27       142.09   72.10\n"
     ]
    }
   ],
   "source": [
    "#Pivot ventas por año por compañia\n",
    "df_pivot_ventas_companies = df_games_top_companies.pivot_table(index='year_of_release', values='total_sales', columns='company', aggfunc='sum')\n",
    "print(df_pivot_ventas_companies)"
   ]
  },
  {
   "cell_type": "code",
   "execution_count": 51,
   "metadata": {},
   "outputs": [
    {
     "data": {
      "text/plain": [
       "<AxesSubplot:title={'center':'Ventas por compañia'}, xlabel='Year of release', ylabel='MUSD'>"
      ]
     },
     "execution_count": 51,
     "metadata": {},
     "output_type": "execute_result"
    },
    {
     "data": {
      "image/png": "[encoded data removed]",
      "text/plain": [
       "<Figure size 640x480 with 1 Axes>"
      ]
     },
     "metadata": {},
     "output_type": "display_data"
    }
   ],
   "source": [
    "#Grafico de ventas totale por año\n",
    "df_pivot_ventas_companies.plot(\n",
    "\t\tkind = 'line',\n",
    "\t\ttitle = 'Ventas por compañia',\n",
    "\t\txlabel = 'Year of release',\n",
    "\t\tylabel = 'MUSD'\n",
    ")"
   ]
  },
  {
   "cell_type": "markdown",
   "metadata": {},
   "source": [
    "**Comments**: se decide segmentar el analisis a las 3 compañias mas reconocidas y con mayores ventas historicamente. Los datos se toman para un periodo de tiempo relevante, iniciando a partir de 1994 que es cuando inicia operaciones PlayStation y hasta 2015, ya que los datos de 2016 se visualizan claramente incompletos. \n",
    "- Nintendo se muestra inicialmente con un crecimiento constante, seguido de un repunte exponencial cerca del año 2005, cayendo abruptamente a partir del 2009.\n",
    "- XBox inicia operaciones en el año 2000, con un crecimiento paulatino con un pico en 2010, seguido de caida constante.\n",
    "- PlayStation es la que se muestra con mayores ventas y estabilidad, teniendo un crecimiento significativo desde su aparicion, manteniendose en ventas superiores a los 100MUSD desde 1997 hasta el 2015.  "
   ]
  },
  {
   "cell_type": "code",
   "execution_count": 52,
   "metadata": {},
   "outputs": [
    {
     "data": {
      "text/plain": [
       "<AxesSubplot:title={'center':'Ventas por compañia'}, ylabel='MUSD'>"
      ]
     },
     "execution_count": 52,
     "metadata": {},
     "output_type": "execute_result"
    },
    {
     "data": {
      "image/png": "[encoded data removed]",
      "text/plain": [
       "<Figure size 640x480 with 1 Axes>"
      ]
     },
     "metadata": {},
     "output_type": "display_data"
    }
   ],
   "source": [
    "#Boxplot de ventas por compañia\n",
    "df_pivot_ventas_companies.plot(\n",
    "\t\tkind = 'box',\n",
    "\t\ttitle = 'Ventas por compañia',\n",
    "\t\txlabel = 'Year of release',\n",
    "\t\tylabel = 'MUSD'\n",
    ")"
   ]
  },
  {
   "cell_type": "markdown",
   "metadata": {},
   "source": [
    "<div class=\"alert alert-block alert-warning\">\n",
    "    <b>Comentario del revisor</b> <a class=\"tocSkip\"></a>\n",
    "    \n",
    "Excelente trabajo con la gráfica de cajas, Angel. Este tipo de gráficas nos ayuda a comparar resultados entre plataformas con estadisticas muy relevantes. Por otro lado, recuerda que los graficos de box-plot nos ayudan a identificar outliers que posteriomente en el desarrollo de las pruebas de hipótesis nos servirían eliminar para que no puedan sesgar nuestros resultados. \n",
    "</div>"
   ]
  },
  {
   "cell_type": "markdown",
   "metadata": {},
   "source": [
    "**Comments**: El diagrama de caja y bigotes muestra que las ventas promedio de PlayStation por año son significativamente mayores que las de sus competidores, estando por encima de los 150MUSD, mientras que los otros dos estan en los 100MUSD o por debajo. Sin embargo el pico mayor de ventas lo ha tenido Nintendo muy por encima de los picos de los otros dos. XBox por su parte, su pico de ventas apenas alcanza el promedio de ventas de PlayStation."
   ]
  },
  {
   "cell_type": "markdown",
   "metadata": {},
   "source": [
    "### Analisis de correlacion Ventas-Score PlayStation "
   ]
  },
  {
   "cell_type": "code",
   "execution_count": 53,
   "metadata": {},
   "outputs": [
    {
     "name": "stdout",
     "output_type": "stream",
     "text": [
      "       total_sales  user_score  critic_score\n",
      "6443          0.27        75.0          70.0\n",
      "3384          0.59        75.0          70.0\n",
      "14069         0.04        75.0          70.0\n",
      "6271          0.27        75.0          70.0\n",
      "6780          0.25        75.0          70.0\n",
      "8648          0.16        75.0          70.0\n",
      "13293         0.05        75.0          70.0\n",
      "14161         0.03        51.0          53.0\n",
      "1946          1.07        83.0          71.0\n",
      "14624         0.03        75.0          70.0\n"
     ]
    }
   ],
   "source": [
    "#Segmentacion de Dataframe a solo la plataforma PlayStation, removiendo datos sin año de release y sin user o critic score \n",
    "df_games_playstation = df_games_ok.query(\"company == 'PlayStation'\").query(\"year_of_release != -1\")\n",
    "df_games_playstation_score = df_games_playstation[['total_sales','user_score','critic_score']].fillna(-1).query(\"user_score >= 0 and critic_score >=0\")\n",
    "print(df_games_playstation_score.sample(10))"
   ]
  },
  {
   "cell_type": "code",
   "execution_count": 54,
   "metadata": {},
   "outputs": [
    {
     "name": "stdout",
     "output_type": "stream",
     "text": [
      "       total_sales  user_score  critic_score  avg_score\n",
      "696           2.29        67.0          78.0       72.5\n",
      "2253          0.92        75.0          87.0       81.0\n",
      "7528          0.20        75.0          70.0       72.5\n",
      "2157          0.96        77.0          60.0       68.5\n",
      "5035          0.37        75.0          70.0       72.5\n",
      "14404         0.03        75.0          70.0       72.5\n",
      "4983          0.39        78.0          74.0       76.0\n",
      "2581          0.79        75.0          70.0       72.5\n",
      "1878          1.10        76.0          68.0       72.0\n",
      "2300          0.90        70.0          70.0       70.0\n"
     ]
    }
   ],
   "source": [
    "#Nueva columna de Average Score\n",
    "df_games_playstation_score['avg_score'] = (df_games_playstation_score['critic_score']+df_games_playstation_score['user_score'])/2\n",
    "print(df_games_playstation_score.sample(10))"
   ]
  },
  {
   "cell_type": "code",
   "execution_count": 55,
   "metadata": {},
   "outputs": [
    {
     "data": {
      "text/html": [
       "<div>\n",
       "<style scoped>\n",
       "    .dataframe tbody tr th:only-of-type {\n",
       "        vertical-align: middle;\n",
       "    }\n",
       "\n",
       "    .dataframe tbody tr th {\n",
       "        vertical-align: top;\n",
       "    }\n",
       "\n",
       "    .dataframe thead th {\n",
       "        text-align: right;\n",
       "    }\n",
       "</style>\n",
       "<table border=\"1\" class=\"dataframe\">\n",
       "  <thead>\n",
       "    <tr style=\"text-align: right;\">\n",
       "      <th></th>\n",
       "      <th>total_sales</th>\n",
       "      <th>user_score</th>\n",
       "      <th>critic_score</th>\n",
       "      <th>avg_score</th>\n",
       "    </tr>\n",
       "  </thead>\n",
       "  <tbody>\n",
       "    <tr>\n",
       "      <th>count</th>\n",
       "      <td>6636.000000</td>\n",
       "      <td>6636.000000</td>\n",
       "      <td>6636.000000</td>\n",
       "      <td>6636.000000</td>\n",
       "    </tr>\n",
       "    <tr>\n",
       "      <th>mean</th>\n",
       "      <td>0.534953</td>\n",
       "      <td>73.814346</td>\n",
       "      <td>69.777878</td>\n",
       "      <td>71.796112</td>\n",
       "    </tr>\n",
       "    <tr>\n",
       "      <th>std</th>\n",
       "      <td>1.115993</td>\n",
       "      <td>9.740609</td>\n",
       "      <td>9.102205</td>\n",
       "      <td>8.103909</td>\n",
       "    </tr>\n",
       "    <tr>\n",
       "      <th>min</th>\n",
       "      <td>0.000000</td>\n",
       "      <td>2.000000</td>\n",
       "      <td>13.000000</td>\n",
       "      <td>11.500000</td>\n",
       "    </tr>\n",
       "    <tr>\n",
       "      <th>25%</th>\n",
       "      <td>0.060000</td>\n",
       "      <td>75.000000</td>\n",
       "      <td>70.000000</td>\n",
       "      <td>72.500000</td>\n",
       "    </tr>\n",
       "    <tr>\n",
       "      <th>50%</th>\n",
       "      <td>0.190000</td>\n",
       "      <td>75.000000</td>\n",
       "      <td>70.000000</td>\n",
       "      <td>72.500000</td>\n",
       "    </tr>\n",
       "    <tr>\n",
       "      <th>75%</th>\n",
       "      <td>0.530000</td>\n",
       "      <td>75.000000</td>\n",
       "      <td>70.000000</td>\n",
       "      <td>72.500000</td>\n",
       "    </tr>\n",
       "    <tr>\n",
       "      <th>max</th>\n",
       "      <td>21.050000</td>\n",
       "      <td>97.000000</td>\n",
       "      <td>98.000000</td>\n",
       "      <td>94.000000</td>\n",
       "    </tr>\n",
       "  </tbody>\n",
       "</table>\n",
       "</div>"
      ],
      "text/plain": [
       "       total_sales   user_score  critic_score    avg_score\n",
       "count  6636.000000  6636.000000   6636.000000  6636.000000\n",
       "mean      0.534953    73.814346     69.777878    71.796112\n",
       "std       1.115993     9.740609      9.102205     8.103909\n",
       "min       0.000000     2.000000     13.000000    11.500000\n",
       "25%       0.060000    75.000000     70.000000    72.500000\n",
       "50%       0.190000    75.000000     70.000000    72.500000\n",
       "75%       0.530000    75.000000     70.000000    72.500000\n",
       "max      21.050000    97.000000     98.000000    94.000000"
      ]
     },
     "execution_count": 55,
     "metadata": {},
     "output_type": "execute_result"
    }
   ],
   "source": [
    "#Estadistica descriptiva del DataFrame\n",
    "df_games_playstation_score.describe()"
   ]
  },
  {
   "cell_type": "code",
   "execution_count": 56,
   "metadata": {},
   "outputs": [
    {
     "data": {
      "text/html": [
       "<div>\n",
       "<style scoped>\n",
       "    .dataframe tbody tr th:only-of-type {\n",
       "        vertical-align: middle;\n",
       "    }\n",
       "\n",
       "    .dataframe tbody tr th {\n",
       "        vertical-align: top;\n",
       "    }\n",
       "\n",
       "    .dataframe thead th {\n",
       "        text-align: right;\n",
       "    }\n",
       "</style>\n",
       "<table border=\"1\" class=\"dataframe\">\n",
       "  <thead>\n",
       "    <tr style=\"text-align: right;\">\n",
       "      <th></th>\n",
       "      <th>total_sales</th>\n",
       "      <th>user_score</th>\n",
       "      <th>critic_score</th>\n",
       "      <th>avg_score</th>\n",
       "    </tr>\n",
       "  </thead>\n",
       "  <tbody>\n",
       "    <tr>\n",
       "      <th>total_sales</th>\n",
       "      <td>1.000</td>\n",
       "      <td>0.080</td>\n",
       "      <td>0.349</td>\n",
       "      <td>0.245</td>\n",
       "    </tr>\n",
       "    <tr>\n",
       "      <th>user_score</th>\n",
       "      <td>0.080</td>\n",
       "      <td>1.000</td>\n",
       "      <td>0.479</td>\n",
       "      <td>0.870</td>\n",
       "    </tr>\n",
       "    <tr>\n",
       "      <th>critic_score</th>\n",
       "      <td>0.349</td>\n",
       "      <td>0.479</td>\n",
       "      <td>1.000</td>\n",
       "      <td>0.850</td>\n",
       "    </tr>\n",
       "    <tr>\n",
       "      <th>avg_score</th>\n",
       "      <td>0.245</td>\n",
       "      <td>0.870</td>\n",
       "      <td>0.850</td>\n",
       "      <td>1.000</td>\n",
       "    </tr>\n",
       "  </tbody>\n",
       "</table>\n",
       "</div>"
      ],
      "text/plain": [
       "              total_sales  user_score  critic_score  avg_score\n",
       "total_sales         1.000       0.080         0.349      0.245\n",
       "user_score          0.080       1.000         0.479      0.870\n",
       "critic_score        0.349       0.479         1.000      0.850\n",
       "avg_score           0.245       0.870         0.850      1.000"
      ]
     },
     "execution_count": 56,
     "metadata": {},
     "output_type": "execute_result"
    }
   ],
   "source": [
    "#Correlacion entre ventas y scores\n",
    "df_games_playstation_score.corr().round(3)"
   ]
  },
  {
   "cell_type": "code",
   "execution_count": 57,
   "metadata": {},
   "outputs": [
    {
     "data": {
      "text/plain": [
       "<AxesSubplot:title={'center':'Ventas vs Avg Score'}, xlabel='Avg Score', ylabel='MUSD'>"
      ]
     },
     "execution_count": 57,
     "metadata": {},
     "output_type": "execute_result"
    },
    {
     "data": {
      "image/png": "[encoded data removed]",
      "text/plain": [
       "<Figure size 640x480 with 1 Axes>"
      ]
     },
     "metadata": {},
     "output_type": "display_data"
    }
   ],
   "source": [
    "#Grafico de dispersion de correlacion entre ventas y Avg Score\n",
    "df_games_playstation_score.plot(\n",
    "\t\tkind = 'scatter',\n",
    "\t\ttitle = 'Ventas vs Avg Score',\n",
    "\t\txlabel = 'Avg Score',\n",
    "\t\tylabel = 'MUSD',\n",
    "        x = 'avg_score',\n",
    "        y = 'total_sales'\n",
    ")"
   ]
  },
  {
   "cell_type": "markdown",
   "metadata": {},
   "source": [
    "<div class=\"alert alert-block alert-success\">\n",
    "    <b>Comentario del revisor</b> <a class=\"tocSkip\"></a>\n",
    "    \n",
    "Muy buen trabajo con el análisis de la relación estre las scores y las ventas.  Solamente para completar este análisis de la relación de las score promedio de criticos y usuarios, te recomiendo desarrollar un par de grafifcas complementar que muestren la realción individual de estas score con las ventas\n",
    "</div>"
   ]
  },
  {
   "cell_type": "markdown",
   "metadata": {},
   "source": [
    "**Comments**: Se segmenta el analisis solo tomando en cuenta a la plataforma con mas ventas y estabilidad en el mercado, PlayStation.\n",
    "- Existe una correlacion positiva baja (.296) entre el avg_score y las ventas totales de la plataforma. \n",
    "- Sin embargo es importante destacar que hay muy pocos casos de juegos con una critica promedio menor o igual a 60 que hayan alcanzado ventas mayores a 5MUSD (2)."
   ]
  },
  {
   "cell_type": "markdown",
   "metadata": {},
   "source": [
    "### Top juegos publicados en diferentes plataformas"
   ]
  },
  {
   "cell_type": "code",
   "execution_count": 58,
   "metadata": {},
   "outputs": [
    {
     "data": {
      "text/plain": [
       "need for speed: most wanted        12\n",
       "fifa 14                             9\n",
       "ratatouille                         9\n",
       "lego marvel super heroes            9\n",
       "lego jurassic world                 8\n",
       "                                   ..\n",
       "magician's quest: town of magic     1\n",
       "ace combat 5: the unsung war        1\n",
       "mystery tales of time travel        1\n",
       "arcade party pak                    1\n",
       "rugby league team manager 2015      1\n",
       "Name: name, Length: 10839, dtype: int64"
      ]
     },
     "execution_count": 58,
     "metadata": {},
     "output_type": "execute_result"
    }
   ],
   "source": [
    "# Identificacion de juegos publicados en diferentes plataformas\n",
    "df_same_game_dif_platform = df_games_ok.query(\"year_of_release != -1 and year_of_release >= 1994 and year_of_release <= 2015\")\n",
    "df_same_game_dif_platform['name'].value_counts(ascending=False)"
   ]
  },
  {
   "cell_type": "code",
   "execution_count": 59,
   "metadata": {},
   "outputs": [
    {
     "name": "stdout",
     "output_type": "stream",
     "text": [
      "          total_sales\n",
      "platform             \n",
      "PS2              4.37\n",
      "PS3              2.81\n",
      "X360             2.81\n",
      "XB               1.04\n",
      "PSV              1.01\n",
      "GC               0.56\n",
      "PC               0.37\n",
      "DS               0.27\n",
      "WiiU             0.27\n",
      "GBA              0.26\n"
     ]
    }
   ],
   "source": [
    "#Comparacion de venta del juego Need for speed en diferentes plataformas\n",
    "df_need_for_speed = df_same_game_dif_platform.query(\"name == 'need for speed: most wanted'\")\n",
    "df_pivot_need_for_speed = df_need_for_speed.pivot_table(index='platform', values='total_sales', aggfunc='sum').sort_values(by='total_sales',ascending=False)\n",
    "print(df_pivot_need_for_speed)"
   ]
  },
  {
   "cell_type": "code",
   "execution_count": 60,
   "metadata": {},
   "outputs": [
    {
     "data": {
      "text/plain": [
       "<AxesSubplot:title={'center':'Need_for_speed ventas por plataforma'}, xlabel='Platform', ylabel='MUSD'>"
      ]
     },
     "execution_count": 60,
     "metadata": {},
     "output_type": "execute_result"
    },
    {
     "data": {
      "image/png": "[encoded data removed]",
      "text/plain": [
       "<Figure size 640x480 with 1 Axes>"
      ]
     },
     "metadata": {},
     "output_type": "display_data"
    }
   ],
   "source": [
    "#Grafico de venta de Need for speed\n",
    "df_pivot_need_for_speed.plot(\n",
    "\tkind = 'bar',\n",
    "\ttitle = 'Need_for_speed ventas por plataforma',\n",
    "\txlabel = 'Platform',\n",
    "\tylabel = 'MUSD',\n",
    ")"
   ]
  },
  {
   "cell_type": "code",
   "execution_count": 61,
   "metadata": {},
   "outputs": [
    {
     "name": "stdout",
     "output_type": "stream",
     "text": [
      "          total_sales\n",
      "platform             \n",
      "DS               1.25\n",
      "PS2              0.84\n",
      "PSP              0.65\n",
      "PS3              0.51\n",
      "Wii              0.50\n",
      "X360             0.27\n",
      "GBA              0.19\n",
      "GC               0.14\n",
      "PC               0.02\n"
     ]
    }
   ],
   "source": [
    "#Comparacion de venta del juego Ratatouille en diferentes plataformas\n",
    "df_ratatouille = df_same_game_dif_platform.query(\"name == 'ratatouille'\")\n",
    "df_pivot_ratatouille = df_ratatouille.pivot_table(index='platform', values='total_sales', aggfunc='sum').sort_values(by='total_sales',ascending=False)\n",
    "print(df_pivot_ratatouille)"
   ]
  },
  {
   "cell_type": "code",
   "execution_count": 62,
   "metadata": {},
   "outputs": [
    {
     "data": {
      "text/plain": [
       "<AxesSubplot:title={'center':'Ratatouille ventas por plataforma'}, xlabel='Platform', ylabel='MUSD'>"
      ]
     },
     "execution_count": 62,
     "metadata": {},
     "output_type": "execute_result"
    },
    {
     "data": {
      "image/png": "[encoded data removed]",
      "text/plain": [
       "<Figure size 640x480 with 1 Axes>"
      ]
     },
     "metadata": {},
     "output_type": "display_data"
    }
   ],
   "source": [
    "#Grafico de venta de Ratatouille\n",
    "df_pivot_ratatouille.plot(\n",
    "\tkind = 'bar',\n",
    "\ttitle = 'Ratatouille ventas por plataforma',\n",
    "\txlabel = 'Platform',\n",
    "\tylabel = 'MUSD',\n",
    ")"
   ]
  },
  {
   "cell_type": "markdown",
   "metadata": {},
   "source": [
    "**Comments**: se identificaron los juegos mas populares publicados en diferentes plataformas y se analizaron sus ventas.\n",
    "- Se encontro que los dos juegos mas populares por este criterio fueron Need for Speed y Ratatouille.\n",
    "- Sin embargo se identifica que a pesar de ser los dos mas populares, su comportamiento en ventas dista mucho uno del otro.\n",
    "- Por una parte Need for Speed alcanzo ventas mayores a 1MUSD en 5 plataformas diferentes, en 3 versiones diferentes de PlayStation y 2 de XBox.\n",
    "- Mientras que Ratatouille solo alcanzo ventas mayores a 1MUSD en una plataforma (DS), propiedad de Nintendo. "
   ]
  },
  {
   "cell_type": "markdown",
   "metadata": {},
   "source": [
    "### Rentabilidad por genero"
   ]
  },
  {
   "cell_type": "code",
   "execution_count": 63,
   "metadata": {},
   "outputs": [
    {
     "name": "stdout",
     "output_type": "stream",
     "text": [
      "Action          3048\n",
      "Sports          2211\n",
      "Misc            1675\n",
      "Role-Playing    1397\n",
      "Adventure       1228\n",
      "Shooter         1211\n",
      "Racing          1187\n",
      "Simulation       831\n",
      "Platform         804\n",
      "Fighting         798\n",
      "Strategy         651\n",
      "Puzzle           535\n",
      "Name: genre, dtype: int64\n"
     ]
    }
   ],
   "source": [
    "# Identificacion de cantidad de juegos por tipo de Genre\n",
    "df_genre = df_games_ok.query(\"year_of_release != -1 and year_of_release >= 1994 and year_of_release <= 2015\")\n",
    "df_genre_count = df_genre['genre'].value_counts(ascending=False)\n",
    "print(df_genre_count)"
   ]
  },
  {
   "cell_type": "code",
   "execution_count": 64,
   "metadata": {},
   "outputs": [
    {
     "name": "stdout",
     "output_type": "stream",
     "text": [
      "              total_sales  genre  avg_sales\n",
      "Platform           637.36    804   0.792736\n",
      "Shooter            938.02   1211   0.774583\n",
      "Role-Playing       877.42   1397   0.628074\n",
      "Racing             691.80   1187   0.582814\n",
      "Sports            1243.24   2211   0.562298\n",
      "Action            1616.51   3048   0.530351\n",
      "Fighting           406.58    798   0.509499\n",
      "Misc               773.93   1675   0.462048\n",
      "Simulation         379.95    831   0.457220\n",
      "Puzzle             159.89    535   0.298860\n",
      "Strategy           169.32    651   0.260092\n",
      "Adventure          210.17   1228   0.171148\n"
     ]
    }
   ],
   "source": [
    "#Ratio de total sales por cantidad de juegos por genre\n",
    "df_pivot_genre = df_genre.pivot_table(index='genre', values='total_sales', aggfunc='sum').sort_values(by='total_sales',ascending=False)\n",
    "df_genre_merged = pd.concat([df_pivot_genre,df_genre_count], axis='columns')\n",
    "df_genre_merged['avg_sales'] = df_genre_merged['total_sales']/df_genre_merged['genre']\n",
    "print(df_genre_merged.sort_values(by='avg_sales', ascending=False))\n"
   ]
  },
  {
   "cell_type": "markdown",
   "metadata": {},
   "source": [
    "<div class=\"alert alert-block alert-danger\">\n",
    "<b>Comentario del revisor:</b> <a class=\"tocSkip\"></a>\n",
    "\n",
    "Angel, el error acá sale dado que estamos intentando hacer el merge por columnas que diferentes tipos de datos. Por ejemplo en el error marca que son object y int. En este sentido verifica que el tipo de variable es el mismo\n",
    "\n",
    "</div>"
   ]
  },
  {
   "cell_type": "markdown",
   "metadata": {},
   "source": [
    "<div class=\"alert alert-block alert-info\">\n",
    "    <b>Respuesta del estudiante:</b> <a class=\"tocSkip\"></a>\n",
    "    \n",
    "Se segmentan los datos con ventas desde 2010 y se realiza grafica de tendencia de ventas por plataforma 2010-2016."
   ]
  },
  {
   "cell_type": "markdown",
   "metadata": {},
   "source": [
    "\n",
    "<div class=\"alert alert-block alert-success\">\n",
    "<b>Comentario del revisor:</b> <a class=\"tocSkip\"></a>\n",
    "    \n",
    "Gran trabajo con la gráfica de 2010 a 2016"
   ]
  },
  {
   "cell_type": "markdown",
   "metadata": {},
   "source": [
    "**Comments**: se identificaron las ventas totales y la cantidad de juegos publicados por genero.\n",
    "- Se encontro que los juegos que han generado mas ventas son los de Action y Sports, sin embargo tambien son los mas publicados.\n",
    "- Por lo que se genero un 'Ratio' identificando que los juegos mas rentables son los de Platform, Shooter y Role-Playing con ventas por juego por encima de los .6MUSD."
   ]
  },
  {
   "cell_type": "markdown",
   "metadata": {},
   "source": [
    "### Plataformas principales por Region"
   ]
  },
  {
   "cell_type": "code",
   "execution_count": 65,
   "metadata": {},
   "outputs": [
    {
     "data": {
      "text/html": [
       "<div>\n",
       "<style scoped>\n",
       "    .dataframe tbody tr th:only-of-type {\n",
       "        vertical-align: middle;\n",
       "    }\n",
       "\n",
       "    .dataframe tbody tr th {\n",
       "        vertical-align: top;\n",
       "    }\n",
       "\n",
       "    .dataframe thead th {\n",
       "        text-align: right;\n",
       "    }\n",
       "</style>\n",
       "<table border=\"1\" class=\"dataframe\">\n",
       "  <thead>\n",
       "    <tr style=\"text-align: right;\">\n",
       "      <th></th>\n",
       "      <th>na_sales</th>\n",
       "      <th>eu_sales</th>\n",
       "      <th>jp_sales</th>\n",
       "    </tr>\n",
       "    <tr>\n",
       "      <th>platform</th>\n",
       "      <th></th>\n",
       "      <th></th>\n",
       "      <th></th>\n",
       "    </tr>\n",
       "  </thead>\n",
       "  <tbody>\n",
       "    <tr>\n",
       "      <th>3DO</th>\n",
       "      <td>0.00</td>\n",
       "      <td>0.00</td>\n",
       "      <td>0.10</td>\n",
       "    </tr>\n",
       "    <tr>\n",
       "      <th>3DS</th>\n",
       "      <td>78.51</td>\n",
       "      <td>58.94</td>\n",
       "      <td>92.59</td>\n",
       "    </tr>\n",
       "    <tr>\n",
       "      <th>DC</th>\n",
       "      <td>5.43</td>\n",
       "      <td>1.69</td>\n",
       "      <td>8.56</td>\n",
       "    </tr>\n",
       "    <tr>\n",
       "      <th>DS</th>\n",
       "      <td>380.31</td>\n",
       "      <td>188.41</td>\n",
       "      <td>175.00</td>\n",
       "    </tr>\n",
       "    <tr>\n",
       "      <th>GB</th>\n",
       "      <td>56.24</td>\n",
       "      <td>33.87</td>\n",
       "      <td>56.39</td>\n",
       "    </tr>\n",
       "    <tr>\n",
       "      <th>GBA</th>\n",
       "      <td>184.12</td>\n",
       "      <td>74.59</td>\n",
       "      <td>46.56</td>\n",
       "    </tr>\n",
       "    <tr>\n",
       "      <th>GC</th>\n",
       "      <td>131.94</td>\n",
       "      <td>38.32</td>\n",
       "      <td>21.34</td>\n",
       "    </tr>\n",
       "    <tr>\n",
       "      <th>GEN</th>\n",
       "      <td>5.21</td>\n",
       "      <td>1.68</td>\n",
       "      <td>0.93</td>\n",
       "    </tr>\n",
       "    <tr>\n",
       "      <th>N64</th>\n",
       "      <td>138.91</td>\n",
       "      <td>41.03</td>\n",
       "      <td>33.76</td>\n",
       "    </tr>\n",
       "    <tr>\n",
       "      <th>NES</th>\n",
       "      <td>0.00</td>\n",
       "      <td>0.00</td>\n",
       "      <td>0.11</td>\n",
       "    </tr>\n",
       "    <tr>\n",
       "      <th>NG</th>\n",
       "      <td>0.00</td>\n",
       "      <td>0.00</td>\n",
       "      <td>1.23</td>\n",
       "    </tr>\n",
       "    <tr>\n",
       "      <th>PC</th>\n",
       "      <td>90.72</td>\n",
       "      <td>135.13</td>\n",
       "      <td>0.17</td>\n",
       "    </tr>\n",
       "    <tr>\n",
       "      <th>PCFX</th>\n",
       "      <td>0.00</td>\n",
       "      <td>0.00</td>\n",
       "      <td>0.03</td>\n",
       "    </tr>\n",
       "    <tr>\n",
       "      <th>PS</th>\n",
       "      <td>334.72</td>\n",
       "      <td>212.39</td>\n",
       "      <td>139.78</td>\n",
       "    </tr>\n",
       "    <tr>\n",
       "      <th>PS2</th>\n",
       "      <td>572.92</td>\n",
       "      <td>332.63</td>\n",
       "      <td>137.54</td>\n",
       "    </tr>\n",
       "    <tr>\n",
       "      <th>PS3</th>\n",
       "      <td>389.46</td>\n",
       "      <td>325.94</td>\n",
       "      <td>78.11</td>\n",
       "    </tr>\n",
       "    <tr>\n",
       "      <th>PS4</th>\n",
       "      <td>87.25</td>\n",
       "      <td>109.31</td>\n",
       "      <td>10.22</td>\n",
       "    </tr>\n",
       "    <tr>\n",
       "      <th>PSP</th>\n",
       "      <td>107.27</td>\n",
       "      <td>65.62</td>\n",
       "      <td>75.88</td>\n",
       "    </tr>\n",
       "    <tr>\n",
       "      <th>PSV</th>\n",
       "      <td>12.32</td>\n",
       "      <td>12.68</td>\n",
       "      <td>18.28</td>\n",
       "    </tr>\n",
       "    <tr>\n",
       "      <th>SAT</th>\n",
       "      <td>0.72</td>\n",
       "      <td>0.54</td>\n",
       "      <td>32.26</td>\n",
       "    </tr>\n",
       "    <tr>\n",
       "      <th>SCD</th>\n",
       "      <td>0.00</td>\n",
       "      <td>0.00</td>\n",
       "      <td>0.36</td>\n",
       "    </tr>\n",
       "    <tr>\n",
       "      <th>SNES</th>\n",
       "      <td>18.78</td>\n",
       "      <td>5.46</td>\n",
       "      <td>59.53</td>\n",
       "    </tr>\n",
       "    <tr>\n",
       "      <th>TG16</th>\n",
       "      <td>0.00</td>\n",
       "      <td>0.00</td>\n",
       "      <td>0.16</td>\n",
       "    </tr>\n",
       "    <tr>\n",
       "      <th>WS</th>\n",
       "      <td>0.00</td>\n",
       "      <td>0.00</td>\n",
       "      <td>1.42</td>\n",
       "    </tr>\n",
       "    <tr>\n",
       "      <th>Wii</th>\n",
       "      <td>486.81</td>\n",
       "      <td>258.21</td>\n",
       "      <td>68.28</td>\n",
       "    </tr>\n",
       "    <tr>\n",
       "      <th>WiiU</th>\n",
       "      <td>36.00</td>\n",
       "      <td>23.65</td>\n",
       "      <td>12.34</td>\n",
       "    </tr>\n",
       "    <tr>\n",
       "      <th>X360</th>\n",
       "      <td>595.05</td>\n",
       "      <td>267.61</td>\n",
       "      <td>12.30</td>\n",
       "    </tr>\n",
       "    <tr>\n",
       "      <th>XB</th>\n",
       "      <td>182.06</td>\n",
       "      <td>59.65</td>\n",
       "      <td>1.38</td>\n",
       "    </tr>\n",
       "    <tr>\n",
       "      <th>XOne</th>\n",
       "      <td>78.85</td>\n",
       "      <td>41.96</td>\n",
       "      <td>0.33</td>\n",
       "    </tr>\n",
       "  </tbody>\n",
       "</table>\n",
       "</div>"
      ],
      "text/plain": [
       "          na_sales  eu_sales  jp_sales\n",
       "platform                              \n",
       "3DO           0.00      0.00      0.10\n",
       "3DS          78.51     58.94     92.59\n",
       "DC            5.43      1.69      8.56\n",
       "DS          380.31    188.41    175.00\n",
       "GB           56.24     33.87     56.39\n",
       "GBA         184.12     74.59     46.56\n",
       "GC          131.94     38.32     21.34\n",
       "GEN           5.21      1.68      0.93\n",
       "N64         138.91     41.03     33.76\n",
       "NES           0.00      0.00      0.11\n",
       "NG            0.00      0.00      1.23\n",
       "PC           90.72    135.13      0.17\n",
       "PCFX          0.00      0.00      0.03\n",
       "PS          334.72    212.39    139.78\n",
       "PS2         572.92    332.63    137.54\n",
       "PS3         389.46    325.94     78.11\n",
       "PS4          87.25    109.31     10.22\n",
       "PSP         107.27     65.62     75.88\n",
       "PSV          12.32     12.68     18.28\n",
       "SAT           0.72      0.54     32.26\n",
       "SCD           0.00      0.00      0.36\n",
       "SNES         18.78      5.46     59.53\n",
       "TG16          0.00      0.00      0.16\n",
       "WS            0.00      0.00      1.42\n",
       "Wii         486.81    258.21     68.28\n",
       "WiiU         36.00     23.65     12.34\n",
       "X360        595.05    267.61     12.30\n",
       "XB          182.06     59.65      1.38\n",
       "XOne         78.85     41.96      0.33"
      ]
     },
     "execution_count": 65,
     "metadata": {},
     "output_type": "execute_result"
    }
   ],
   "source": [
    "#Agrupado de datos por platform por region\n",
    "df_sales_filtered = df_games_ok.query(\"year_of_release != -1 and year_of_release >= 1994 and year_of_release <= 2015\")\n",
    "df_platform_region = df_sales_filtered.groupby('platform')[['na_sales','eu_sales','jp_sales']].sum()\n",
    "df_platform_region"
   ]
  },
  {
   "cell_type": "code",
   "execution_count": 66,
   "metadata": {},
   "outputs": [
    {
     "data": {
      "text/html": [
       "<div>\n",
       "<style scoped>\n",
       "    .dataframe tbody tr th:only-of-type {\n",
       "        vertical-align: middle;\n",
       "    }\n",
       "\n",
       "    .dataframe tbody tr th {\n",
       "        vertical-align: top;\n",
       "    }\n",
       "\n",
       "    .dataframe thead th {\n",
       "        text-align: right;\n",
       "    }\n",
       "</style>\n",
       "<table border=\"1\" class=\"dataframe\">\n",
       "  <thead>\n",
       "    <tr style=\"text-align: right;\">\n",
       "      <th></th>\n",
       "      <th>na_sales</th>\n",
       "      <th>eu_sales</th>\n",
       "      <th>jp_sales</th>\n",
       "    </tr>\n",
       "    <tr>\n",
       "      <th>platform</th>\n",
       "      <th></th>\n",
       "      <th></th>\n",
       "      <th></th>\n",
       "    </tr>\n",
       "  </thead>\n",
       "  <tbody>\n",
       "    <tr>\n",
       "      <th>3DO</th>\n",
       "      <td>0.000000</td>\n",
       "      <td>0.000000</td>\n",
       "      <td>0.009217</td>\n",
       "    </tr>\n",
       "    <tr>\n",
       "      <th>3DS</th>\n",
       "      <td>1.975790</td>\n",
       "      <td>2.574575</td>\n",
       "      <td>8.534112</td>\n",
       "    </tr>\n",
       "    <tr>\n",
       "      <th>DC</th>\n",
       "      <td>0.136652</td>\n",
       "      <td>0.073821</td>\n",
       "      <td>0.788984</td>\n",
       "    </tr>\n",
       "    <tr>\n",
       "      <th>DS</th>\n",
       "      <td>9.570918</td>\n",
       "      <td>8.229991</td>\n",
       "      <td>16.129924</td>\n",
       "    </tr>\n",
       "    <tr>\n",
       "      <th>GB</th>\n",
       "      <td>1.415341</td>\n",
       "      <td>1.479485</td>\n",
       "      <td>5.197522</td>\n",
       "    </tr>\n",
       "    <tr>\n",
       "      <th>GBA</th>\n",
       "      <td>4.633582</td>\n",
       "      <td>3.258187</td>\n",
       "      <td>4.291482</td>\n",
       "    </tr>\n",
       "    <tr>\n",
       "      <th>GC</th>\n",
       "      <td>3.320415</td>\n",
       "      <td>1.673867</td>\n",
       "      <td>1.966929</td>\n",
       "    </tr>\n",
       "    <tr>\n",
       "      <th>GEN</th>\n",
       "      <td>0.131115</td>\n",
       "      <td>0.073385</td>\n",
       "      <td>0.085719</td>\n",
       "    </tr>\n",
       "    <tr>\n",
       "      <th>N64</th>\n",
       "      <td>3.495822</td>\n",
       "      <td>1.792243</td>\n",
       "      <td>3.111693</td>\n",
       "    </tr>\n",
       "    <tr>\n",
       "      <th>NES</th>\n",
       "      <td>0.000000</td>\n",
       "      <td>0.000000</td>\n",
       "      <td>0.010139</td>\n",
       "    </tr>\n",
       "    <tr>\n",
       "      <th>NG</th>\n",
       "      <td>0.000000</td>\n",
       "      <td>0.000000</td>\n",
       "      <td>0.113370</td>\n",
       "    </tr>\n",
       "    <tr>\n",
       "      <th>PC</th>\n",
       "      <td>2.283068</td>\n",
       "      <td>5.902652</td>\n",
       "      <td>0.015669</td>\n",
       "    </tr>\n",
       "    <tr>\n",
       "      <th>PCFX</th>\n",
       "      <td>0.000000</td>\n",
       "      <td>0.000000</td>\n",
       "      <td>0.002765</td>\n",
       "    </tr>\n",
       "    <tr>\n",
       "      <th>PS</th>\n",
       "      <td>8.423596</td>\n",
       "      <td>9.277468</td>\n",
       "      <td>12.883662</td>\n",
       "    </tr>\n",
       "    <tr>\n",
       "      <th>PS2</th>\n",
       "      <td>14.418160</td>\n",
       "      <td>14.529705</td>\n",
       "      <td>12.677199</td>\n",
       "    </tr>\n",
       "    <tr>\n",
       "      <th>PS3</th>\n",
       "      <td>9.801188</td>\n",
       "      <td>14.237478</td>\n",
       "      <td>7.199476</td>\n",
       "    </tr>\n",
       "    <tr>\n",
       "      <th>PS4</th>\n",
       "      <td>2.195742</td>\n",
       "      <td>4.774801</td>\n",
       "      <td>0.941988</td>\n",
       "    </tr>\n",
       "    <tr>\n",
       "      <th>PSP</th>\n",
       "      <td>2.699567</td>\n",
       "      <td>2.866366</td>\n",
       "      <td>6.993935</td>\n",
       "    </tr>\n",
       "    <tr>\n",
       "      <th>PSV</th>\n",
       "      <td>0.310046</td>\n",
       "      <td>0.553879</td>\n",
       "      <td>1.684886</td>\n",
       "    </tr>\n",
       "    <tr>\n",
       "      <th>SAT</th>\n",
       "      <td>0.018120</td>\n",
       "      <td>0.023588</td>\n",
       "      <td>2.973436</td>\n",
       "    </tr>\n",
       "    <tr>\n",
       "      <th>SCD</th>\n",
       "      <td>0.000000</td>\n",
       "      <td>0.000000</td>\n",
       "      <td>0.033182</td>\n",
       "    </tr>\n",
       "    <tr>\n",
       "      <th>SNES</th>\n",
       "      <td>0.472619</td>\n",
       "      <td>0.238500</td>\n",
       "      <td>5.486939</td>\n",
       "    </tr>\n",
       "    <tr>\n",
       "      <th>TG16</th>\n",
       "      <td>0.000000</td>\n",
       "      <td>0.000000</td>\n",
       "      <td>0.014747</td>\n",
       "    </tr>\n",
       "    <tr>\n",
       "      <th>WS</th>\n",
       "      <td>0.000000</td>\n",
       "      <td>0.000000</td>\n",
       "      <td>0.130883</td>\n",
       "    </tr>\n",
       "    <tr>\n",
       "      <th>Wii</th>\n",
       "      <td>12.251107</td>\n",
       "      <td>11.278944</td>\n",
       "      <td>6.293436</td>\n",
       "    </tr>\n",
       "    <tr>\n",
       "      <th>WiiU</th>\n",
       "      <td>0.905979</td>\n",
       "      <td>1.033062</td>\n",
       "      <td>1.137390</td>\n",
       "    </tr>\n",
       "    <tr>\n",
       "      <th>X360</th>\n",
       "      <td>14.975086</td>\n",
       "      <td>11.689548</td>\n",
       "      <td>1.133703</td>\n",
       "    </tr>\n",
       "    <tr>\n",
       "      <th>XB</th>\n",
       "      <td>4.581739</td>\n",
       "      <td>2.605589</td>\n",
       "      <td>0.127196</td>\n",
       "    </tr>\n",
       "    <tr>\n",
       "      <th>XOne</th>\n",
       "      <td>1.984347</td>\n",
       "      <td>1.832867</td>\n",
       "      <td>0.030416</td>\n",
       "    </tr>\n",
       "  </tbody>\n",
       "</table>\n",
       "</div>"
      ],
      "text/plain": [
       "           na_sales   eu_sales   jp_sales\n",
       "platform                                 \n",
       "3DO        0.000000   0.000000   0.009217\n",
       "3DS        1.975790   2.574575   8.534112\n",
       "DC         0.136652   0.073821   0.788984\n",
       "DS         9.570918   8.229991  16.129924\n",
       "GB         1.415341   1.479485   5.197522\n",
       "GBA        4.633582   3.258187   4.291482\n",
       "GC         3.320415   1.673867   1.966929\n",
       "GEN        0.131115   0.073385   0.085719\n",
       "N64        3.495822   1.792243   3.111693\n",
       "NES        0.000000   0.000000   0.010139\n",
       "NG         0.000000   0.000000   0.113370\n",
       "PC         2.283068   5.902652   0.015669\n",
       "PCFX       0.000000   0.000000   0.002765\n",
       "PS         8.423596   9.277468  12.883662\n",
       "PS2       14.418160  14.529705  12.677199\n",
       "PS3        9.801188  14.237478   7.199476\n",
       "PS4        2.195742   4.774801   0.941988\n",
       "PSP        2.699567   2.866366   6.993935\n",
       "PSV        0.310046   0.553879   1.684886\n",
       "SAT        0.018120   0.023588   2.973436\n",
       "SCD        0.000000   0.000000   0.033182\n",
       "SNES       0.472619   0.238500   5.486939\n",
       "TG16       0.000000   0.000000   0.014747\n",
       "WS         0.000000   0.000000   0.130883\n",
       "Wii       12.251107  11.278944   6.293436\n",
       "WiiU       0.905979   1.033062   1.137390\n",
       "X360      14.975086  11.689548   1.133703\n",
       "XB         4.581739   2.605589   0.127196\n",
       "XOne       1.984347   1.832867   0.030416"
      ]
     },
     "execution_count": 66,
     "metadata": {},
     "output_type": "execute_result"
    }
   ],
   "source": [
    "#Obtener el porcentaje de participacion por plataforma del total por region\n",
    "df_platform_region_perc = df_platform_region/df_platform_region.sum(axis=0)*100\n",
    "df_platform_region_perc"
   ]
  },
  {
   "cell_type": "code",
   "execution_count": 67,
   "metadata": {},
   "outputs": [
    {
     "name": "stdout",
     "output_type": "stream",
     "text": [
      "platform\n",
      "X360    14.975086\n",
      "PS2     14.418160\n",
      "Wii     12.251107\n",
      "PS3      9.801188\n",
      "DS       9.570918\n",
      "Name: na_sales, dtype: float64\n",
      "\n",
      "platform\n",
      "PS2     14.529705\n",
      "PS3     14.237478\n",
      "X360    11.689548\n",
      "Wii     11.278944\n",
      "PS       9.277468\n",
      "Name: eu_sales, dtype: float64\n",
      "\n",
      "platform\n",
      "DS     16.129924\n",
      "PS     12.883662\n",
      "PS2    12.677199\n",
      "3DS     8.534112\n",
      "PS3     7.199476\n",
      "Name: jp_sales, dtype: float64\n"
     ]
    }
   ],
   "source": [
    "#Identificacion de top 5 plataformas por region segun su porcentaje de participacion\n",
    "print(df_platform_region_perc['na_sales'].sort_values(ascending=False).head(5))\n",
    "print()\n",
    "print(df_platform_region_perc['eu_sales'].sort_values(ascending=False).head(5))\n",
    "print()\n",
    "print(df_platform_region_perc['jp_sales'].sort_values(ascending=False).head(5))"
   ]
  },
  {
   "cell_type": "markdown",
   "metadata": {},
   "source": [
    "**Comment**: Se agruparon los valores de ventas de cada una de las regiones por plataforma para despues sacar el porcentaje de participacion por cada una y obtener el top 5 de ventas por region.\n",
    "- Para NA, hay una mayor variacion en cuanto a las plataformas preferidas por el publico ya que 2 son de PlayStation, 2 de Nintendo y una de Xbox, sin embargo X360 es la plataforma lider.\n",
    "- Para EU, se muestra una clara tendencia mayoritaria hacia PlayStation ya que 3 de las 5 pertenecen a esta compañia, siendo la lider PS2.\n",
    "- Para JP, a pesar de PlaySatation estar presente en 3 de las 5, la plataforma lider es DS de Nintendo, teniendo tambien dentro del top 5 3DS que no estaba presente en ninguna otra region. Cabe descatar que no se presentan plataformas de Xbox en el top 5."
   ]
  },
  {
   "cell_type": "markdown",
   "metadata": {},
   "source": [
    "### Generos principales por Region"
   ]
  },
  {
   "cell_type": "code",
   "execution_count": 68,
   "metadata": {},
   "outputs": [
    {
     "data": {
      "text/html": [
       "<div>\n",
       "<style scoped>\n",
       "    .dataframe tbody tr th:only-of-type {\n",
       "        vertical-align: middle;\n",
       "    }\n",
       "\n",
       "    .dataframe tbody tr th {\n",
       "        vertical-align: top;\n",
       "    }\n",
       "\n",
       "    .dataframe thead th {\n",
       "        text-align: right;\n",
       "    }\n",
       "</style>\n",
       "<table border=\"1\" class=\"dataframe\">\n",
       "  <thead>\n",
       "    <tr style=\"text-align: right;\">\n",
       "      <th></th>\n",
       "      <th>na_sales</th>\n",
       "      <th>eu_sales</th>\n",
       "      <th>jp_sales</th>\n",
       "    </tr>\n",
       "    <tr>\n",
       "      <th>genre</th>\n",
       "      <th></th>\n",
       "      <th></th>\n",
       "      <th></th>\n",
       "    </tr>\n",
       "  </thead>\n",
       "  <tbody>\n",
       "    <tr>\n",
       "      <th>Action</th>\n",
       "      <td>805.39</td>\n",
       "      <td>492.79</td>\n",
       "      <td>140.23</td>\n",
       "    </tr>\n",
       "    <tr>\n",
       "      <th>Adventure</th>\n",
       "      <td>90.97</td>\n",
       "      <td>58.24</td>\n",
       "      <td>45.37</td>\n",
       "    </tr>\n",
       "    <tr>\n",
       "      <th>Fighting</th>\n",
       "      <td>206.27</td>\n",
       "      <td>94.14</td>\n",
       "      <td>71.36</td>\n",
       "    </tr>\n",
       "    <tr>\n",
       "      <th>Misc</th>\n",
       "      <td>393.16</td>\n",
       "      <td>209.03</td>\n",
       "      <td>98.93</td>\n",
       "    </tr>\n",
       "    <tr>\n",
       "      <th>Platform</th>\n",
       "      <td>332.42</td>\n",
       "      <td>174.37</td>\n",
       "      <td>83.96</td>\n",
       "    </tr>\n",
       "    <tr>\n",
       "      <th>Puzzle</th>\n",
       "      <td>71.27</td>\n",
       "      <td>42.73</td>\n",
       "      <td>35.10</td>\n",
       "    </tr>\n",
       "    <tr>\n",
       "      <th>Racing</th>\n",
       "      <td>342.09</td>\n",
       "      <td>228.55</td>\n",
       "      <td>46.85</td>\n",
       "    </tr>\n",
       "    <tr>\n",
       "      <th>Role-Playing</th>\n",
       "      <td>322.52</td>\n",
       "      <td>183.80</td>\n",
       "      <td>314.79</td>\n",
       "    </tr>\n",
       "    <tr>\n",
       "      <th>Shooter</th>\n",
       "      <td>515.06</td>\n",
       "      <td>294.90</td>\n",
       "      <td>30.67</td>\n",
       "    </tr>\n",
       "    <tr>\n",
       "      <th>Simulation</th>\n",
       "      <td>177.23</td>\n",
       "      <td>110.73</td>\n",
       "      <td>61.73</td>\n",
       "    </tr>\n",
       "    <tr>\n",
       "      <th>Sports</th>\n",
       "      <td>650.03</td>\n",
       "      <td>355.88</td>\n",
       "      <td>108.62</td>\n",
       "    </tr>\n",
       "    <tr>\n",
       "      <th>Strategy</th>\n",
       "      <td>67.19</td>\n",
       "      <td>44.15</td>\n",
       "      <td>47.33</td>\n",
       "    </tr>\n",
       "  </tbody>\n",
       "</table>\n",
       "</div>"
      ],
      "text/plain": [
       "              na_sales  eu_sales  jp_sales\n",
       "genre                                     \n",
       "Action          805.39    492.79    140.23\n",
       "Adventure        90.97     58.24     45.37\n",
       "Fighting        206.27     94.14     71.36\n",
       "Misc            393.16    209.03     98.93\n",
       "Platform        332.42    174.37     83.96\n",
       "Puzzle           71.27     42.73     35.10\n",
       "Racing          342.09    228.55     46.85\n",
       "Role-Playing    322.52    183.80    314.79\n",
       "Shooter         515.06    294.90     30.67\n",
       "Simulation      177.23    110.73     61.73\n",
       "Sports          650.03    355.88    108.62\n",
       "Strategy         67.19     44.15     47.33"
      ]
     },
     "execution_count": 68,
     "metadata": {},
     "output_type": "execute_result"
    }
   ],
   "source": [
    "#Agrupado de datos por genre por region\n",
    "df_genre_region = df_sales_filtered.groupby('genre')[['na_sales','eu_sales','jp_sales']].sum()\n",
    "df_genre_region"
   ]
  },
  {
   "cell_type": "code",
   "execution_count": 69,
   "metadata": {},
   "outputs": [
    {
     "data": {
      "text/html": [
       "<div>\n",
       "<style scoped>\n",
       "    .dataframe tbody tr th:only-of-type {\n",
       "        vertical-align: middle;\n",
       "    }\n",
       "\n",
       "    .dataframe tbody tr th {\n",
       "        vertical-align: top;\n",
       "    }\n",
       "\n",
       "    .dataframe thead th {\n",
       "        text-align: right;\n",
       "    }\n",
       "</style>\n",
       "<table border=\"1\" class=\"dataframe\">\n",
       "  <thead>\n",
       "    <tr style=\"text-align: right;\">\n",
       "      <th></th>\n",
       "      <th>na_sales</th>\n",
       "      <th>eu_sales</th>\n",
       "      <th>jp_sales</th>\n",
       "    </tr>\n",
       "    <tr>\n",
       "      <th>genre</th>\n",
       "      <th></th>\n",
       "      <th></th>\n",
       "      <th></th>\n",
       "    </tr>\n",
       "  </thead>\n",
       "  <tbody>\n",
       "    <tr>\n",
       "      <th>Action</th>\n",
       "      <td>20.268522</td>\n",
       "      <td>21.525700</td>\n",
       "      <td>12.925139</td>\n",
       "    </tr>\n",
       "    <tr>\n",
       "      <th>Adventure</th>\n",
       "      <td>2.289360</td>\n",
       "      <td>2.543998</td>\n",
       "      <td>4.181798</td>\n",
       "    </tr>\n",
       "    <tr>\n",
       "      <th>Fighting</th>\n",
       "      <td>5.191011</td>\n",
       "      <td>4.112156</td>\n",
       "      <td>6.577322</td>\n",
       "    </tr>\n",
       "    <tr>\n",
       "      <th>Misc</th>\n",
       "      <td>9.894302</td>\n",
       "      <td>9.130699</td>\n",
       "      <td>9.118477</td>\n",
       "    </tr>\n",
       "    <tr>\n",
       "      <th>Platform</th>\n",
       "      <td>8.365714</td>\n",
       "      <td>7.616705</td>\n",
       "      <td>7.738677</td>\n",
       "    </tr>\n",
       "    <tr>\n",
       "      <th>Puzzle</th>\n",
       "      <td>1.793588</td>\n",
       "      <td>1.866501</td>\n",
       "      <td>3.235202</td>\n",
       "    </tr>\n",
       "    <tr>\n",
       "      <th>Racing</th>\n",
       "      <td>8.609070</td>\n",
       "      <td>9.983357</td>\n",
       "      <td>4.318211</td>\n",
       "    </tr>\n",
       "    <tr>\n",
       "      <th>Role-Playing</th>\n",
       "      <td>8.116569</td>\n",
       "      <td>8.028620</td>\n",
       "      <td>29.014508</td>\n",
       "    </tr>\n",
       "    <tr>\n",
       "      <th>Shooter</th>\n",
       "      <td>12.962050</td>\n",
       "      <td>12.881611</td>\n",
       "      <td>2.826884</td>\n",
       "    </tr>\n",
       "    <tr>\n",
       "      <th>Simulation</th>\n",
       "      <td>4.460187</td>\n",
       "      <td>4.836829</td>\n",
       "      <td>5.689716</td>\n",
       "    </tr>\n",
       "    <tr>\n",
       "      <th>Sports</th>\n",
       "      <td>16.358718</td>\n",
       "      <td>15.545295</td>\n",
       "      <td>10.011614</td>\n",
       "    </tr>\n",
       "    <tr>\n",
       "      <th>Strategy</th>\n",
       "      <td>1.690910</td>\n",
       "      <td>1.928529</td>\n",
       "      <td>4.362453</td>\n",
       "    </tr>\n",
       "  </tbody>\n",
       "</table>\n",
       "</div>"
      ],
      "text/plain": [
       "               na_sales   eu_sales   jp_sales\n",
       "genre                                        \n",
       "Action        20.268522  21.525700  12.925139\n",
       "Adventure      2.289360   2.543998   4.181798\n",
       "Fighting       5.191011   4.112156   6.577322\n",
       "Misc           9.894302   9.130699   9.118477\n",
       "Platform       8.365714   7.616705   7.738677\n",
       "Puzzle         1.793588   1.866501   3.235202\n",
       "Racing         8.609070   9.983357   4.318211\n",
       "Role-Playing   8.116569   8.028620  29.014508\n",
       "Shooter       12.962050  12.881611   2.826884\n",
       "Simulation     4.460187   4.836829   5.689716\n",
       "Sports        16.358718  15.545295  10.011614\n",
       "Strategy       1.690910   1.928529   4.362453"
      ]
     },
     "execution_count": 69,
     "metadata": {},
     "output_type": "execute_result"
    }
   ],
   "source": [
    "#Obtener el porcentaje de participacion por genero del total por region\n",
    "df_genre_region_perc = df_genre_region/df_genre_region.sum(axis=0)*100\n",
    "df_genre_region_perc"
   ]
  },
  {
   "cell_type": "code",
   "execution_count": 70,
   "metadata": {},
   "outputs": [
    {
     "name": "stdout",
     "output_type": "stream",
     "text": [
      "genre\n",
      "Action     20.268522\n",
      "Sports     16.358718\n",
      "Shooter    12.962050\n",
      "Misc        9.894302\n",
      "Racing      8.609070\n",
      "Name: na_sales, dtype: float64\n",
      "\n",
      "genre\n",
      "Action     21.525700\n",
      "Sports     15.545295\n",
      "Shooter    12.881611\n",
      "Racing      9.983357\n",
      "Misc        9.130699\n",
      "Name: eu_sales, dtype: float64\n",
      "\n",
      "genre\n",
      "Role-Playing    29.014508\n",
      "Action          12.925139\n",
      "Sports          10.011614\n",
      "Misc             9.118477\n",
      "Platform         7.738677\n",
      "Name: jp_sales, dtype: float64\n"
     ]
    }
   ],
   "source": [
    "#Identificacion de top 5 generos por region segun su porcentaje de participacion\n",
    "print(df_genre_region_perc['na_sales'].sort_values(ascending=False).head(5))\n",
    "print()\n",
    "print(df_genre_region_perc['eu_sales'].sort_values(ascending=False).head(5))\n",
    "print()\n",
    "print(df_genre_region_perc['jp_sales'].sort_values(ascending=False).head(5))"
   ]
  },
  {
   "cell_type": "markdown",
   "metadata": {},
   "source": [
    "**Comment**: Se agruparon los valores de ventas de cada una de las regiones por genero para despues sacar el porcentaje de participacion por cada uno y obtener el top 5 de ventas por region.\n",
    "- Para NA y EU, la tendecia de ventas en cuanto a generos es muy similar. Son los mismos 5 generos con muy similares proporciones los que destacan en ambas regiones, estando a la cabeza Action y Sports.\n",
    "- Para JP, si varian los generos mas populares, entrando a la lista tanto Role-Playing (genero mas popular) y Platform. Repitiendo Action, Sports y Misc."
   ]
  },
  {
   "cell_type": "markdown",
   "metadata": {},
   "source": [
    "### Clasificaciones principales por Region"
   ]
  },
  {
   "cell_type": "code",
   "execution_count": 71,
   "metadata": {},
   "outputs": [
    {
     "data": {
      "text/html": [
       "<div>\n",
       "<style scoped>\n",
       "    .dataframe tbody tr th:only-of-type {\n",
       "        vertical-align: middle;\n",
       "    }\n",
       "\n",
       "    .dataframe tbody tr th {\n",
       "        vertical-align: top;\n",
       "    }\n",
       "\n",
       "    .dataframe thead th {\n",
       "        text-align: right;\n",
       "    }\n",
       "</style>\n",
       "<table border=\"1\" class=\"dataframe\">\n",
       "  <thead>\n",
       "    <tr style=\"text-align: right;\">\n",
       "      <th></th>\n",
       "      <th>na_sales</th>\n",
       "      <th>eu_sales</th>\n",
       "      <th>jp_sales</th>\n",
       "    </tr>\n",
       "    <tr>\n",
       "      <th>rating2</th>\n",
       "      <th></th>\n",
       "      <th></th>\n",
       "      <th></th>\n",
       "    </tr>\n",
       "  </thead>\n",
       "  <tbody>\n",
       "    <tr>\n",
       "      <th>Adult Only</th>\n",
       "      <td>1.26</td>\n",
       "      <td>0.61</td>\n",
       "      <td>0.00</td>\n",
       "    </tr>\n",
       "    <tr>\n",
       "      <th>Everyone</th>\n",
       "      <td>1270.36</td>\n",
       "      <td>690.63</td>\n",
       "      <td>198.35</td>\n",
       "    </tr>\n",
       "    <tr>\n",
       "      <th>Everyone 10y+</th>\n",
       "      <td>341.69</td>\n",
       "      <td>179.52</td>\n",
       "      <td>39.75</td>\n",
       "    </tr>\n",
       "    <tr>\n",
       "      <th>Mature</th>\n",
       "      <td>727.20</td>\n",
       "      <td>463.46</td>\n",
       "      <td>62.38</td>\n",
       "    </tr>\n",
       "    <tr>\n",
       "      <th>Rating Pending</th>\n",
       "      <td>894.46</td>\n",
       "      <td>543.89</td>\n",
       "      <td>636.03</td>\n",
       "    </tr>\n",
       "    <tr>\n",
       "      <th>Teens</th>\n",
       "      <td>738.63</td>\n",
       "      <td>411.20</td>\n",
       "      <td>148.43</td>\n",
       "    </tr>\n",
       "  </tbody>\n",
       "</table>\n",
       "</div>"
      ],
      "text/plain": [
       "                na_sales  eu_sales  jp_sales\n",
       "rating2                                     \n",
       "Adult Only          1.26      0.61      0.00\n",
       "Everyone         1270.36    690.63    198.35\n",
       "Everyone 10y+     341.69    179.52     39.75\n",
       "Mature            727.20    463.46     62.38\n",
       "Rating Pending    894.46    543.89    636.03\n",
       "Teens             738.63    411.20    148.43"
      ]
     },
     "execution_count": 71,
     "metadata": {},
     "output_type": "execute_result"
    }
   ],
   "source": [
    "#Agrupado de datos por clasificacion por region\n",
    "df_rating_region = df_sales_filtered.groupby('rating2')[['na_sales','eu_sales','jp_sales']].sum()\n",
    "df_rating_region"
   ]
  },
  {
   "cell_type": "code",
   "execution_count": 72,
   "metadata": {},
   "outputs": [
    {
     "data": {
      "text/html": [
       "<div>\n",
       "<style scoped>\n",
       "    .dataframe tbody tr th:only-of-type {\n",
       "        vertical-align: middle;\n",
       "    }\n",
       "\n",
       "    .dataframe tbody tr th {\n",
       "        vertical-align: top;\n",
       "    }\n",
       "\n",
       "    .dataframe thead th {\n",
       "        text-align: right;\n",
       "    }\n",
       "</style>\n",
       "<table border=\"1\" class=\"dataframe\">\n",
       "  <thead>\n",
       "    <tr style=\"text-align: right;\">\n",
       "      <th></th>\n",
       "      <th>na_sales</th>\n",
       "      <th>eu_sales</th>\n",
       "      <th>jp_sales</th>\n",
       "    </tr>\n",
       "    <tr>\n",
       "      <th>rating2</th>\n",
       "      <th></th>\n",
       "      <th></th>\n",
       "      <th></th>\n",
       "    </tr>\n",
       "  </thead>\n",
       "  <tbody>\n",
       "    <tr>\n",
       "      <th>Adult Only</th>\n",
       "      <td>0.031709</td>\n",
       "      <td>0.026646</td>\n",
       "      <td>0.000000</td>\n",
       "    </tr>\n",
       "    <tr>\n",
       "      <th>Everyone</th>\n",
       "      <td>31.970002</td>\n",
       "      <td>30.167605</td>\n",
       "      <td>18.282117</td>\n",
       "    </tr>\n",
       "    <tr>\n",
       "      <th>Everyone 10y+</th>\n",
       "      <td>8.599003</td>\n",
       "      <td>7.841664</td>\n",
       "      <td>3.663797</td>\n",
       "    </tr>\n",
       "    <tr>\n",
       "      <th>Mature</th>\n",
       "      <td>18.300785</td>\n",
       "      <td>20.244528</td>\n",
       "      <td>5.749627</td>\n",
       "    </tr>\n",
       "    <tr>\n",
       "      <th>Rating Pending</th>\n",
       "      <td>22.510066</td>\n",
       "      <td>23.757813</td>\n",
       "      <td>58.623518</td>\n",
       "    </tr>\n",
       "    <tr>\n",
       "      <th>Teens</th>\n",
       "      <td>18.588434</td>\n",
       "      <td>17.961744</td>\n",
       "      <td>13.680941</td>\n",
       "    </tr>\n",
       "  </tbody>\n",
       "</table>\n",
       "</div>"
      ],
      "text/plain": [
       "                 na_sales   eu_sales   jp_sales\n",
       "rating2                                        \n",
       "Adult Only       0.031709   0.026646   0.000000\n",
       "Everyone        31.970002  30.167605  18.282117\n",
       "Everyone 10y+    8.599003   7.841664   3.663797\n",
       "Mature          18.300785  20.244528   5.749627\n",
       "Rating Pending  22.510066  23.757813  58.623518\n",
       "Teens           18.588434  17.961744  13.680941"
      ]
     },
     "execution_count": 72,
     "metadata": {},
     "output_type": "execute_result"
    }
   ],
   "source": [
    "#Obtener el porcentaje de participacion por rating del total por region\n",
    "df_rating_region_perc = df_rating_region/df_rating_region.sum(axis=0)*100\n",
    "df_rating_region_perc"
   ]
  },
  {
   "cell_type": "code",
   "execution_count": 73,
   "metadata": {},
   "outputs": [
    {
     "name": "stdout",
     "output_type": "stream",
     "text": [
      "rating2\n",
      "Everyone          31.970002\n",
      "Rating Pending    22.510066\n",
      "Teens             18.588434\n",
      "Mature            18.300785\n",
      "Everyone 10y+      8.599003\n",
      "Name: na_sales, dtype: float64\n",
      "\n",
      "rating2\n",
      "Everyone          30.167605\n",
      "Rating Pending    23.757813\n",
      "Mature            20.244528\n",
      "Teens             17.961744\n",
      "Everyone 10y+      7.841664\n",
      "Name: eu_sales, dtype: float64\n",
      "\n",
      "rating2\n",
      "Rating Pending    58.623518\n",
      "Everyone          18.282117\n",
      "Teens             13.680941\n",
      "Mature             5.749627\n",
      "Everyone 10y+      3.663797\n",
      "Name: jp_sales, dtype: float64\n"
     ]
    }
   ],
   "source": [
    "#Identificacion de top 5 clasificaciones por region segun su porcentaje de participacion\n",
    "print(df_rating_region_perc['na_sales'].sort_values(ascending=False).head(5))\n",
    "print()\n",
    "print(df_rating_region_perc['eu_sales'].sort_values(ascending=False).head(5))\n",
    "print()\n",
    "print(df_rating_region_perc['jp_sales'].sort_values(ascending=False).head(5))"
   ]
  },
  {
   "cell_type": "markdown",
   "metadata": {},
   "source": [
    "**Comment**: Se agruparon los valores de ventas de cada una de las regiones por clasificacion para despues sacar el porcentaje de participacion por cada uno y obtener el top 5 de ventas por region.\n",
    "- Para NA y EU, la tendecia de ventas en cuanto a clasificaciones de nuevo es muy similar. Son las mismas 5 clasificaciones con muy similares proporciones, estando a la cabeza Everyone y Rating Pending.\n",
    "- Para JP, varia que la clasificacion lider es Rating Pending, pero por un margen significativamente mayor que las otras regiones, siendo casi 3 veces mayor que las otras dos regiones. "
   ]
  },
  {
   "cell_type": "markdown",
   "metadata": {},
   "source": [
    "<div class=\"alert alert-block alert-success\">\n",
    "<b>Comentario del revisor:</b> <a class=\"tocSkip\"></a>\n",
    "\n",
    "Excelente! Con este análisis por región ayuda a complementar el análisis general anterior y a hacer zoom a los resultados por cada una de las regiones.   \n",
    "\n",
    "</div>"
   ]
  },
  {
   "cell_type": "markdown",
   "metadata": {},
   "source": [
    "## Prueba de Hipotesis"
   ]
  },
  {
   "cell_type": "code",
   "execution_count": 74,
   "metadata": {},
   "outputs": [],
   "source": [
    "# Segmentacion de DataFrame para prueba de hipotesis\n",
    "df_hipotesis = df_games_ok.query(\"year_of_release != -1 and year_of_release >= 1994 and year_of_release <= 2015\").query(\"critic_score >= 0 and user_score >= 0\")"
   ]
  },
  {
   "cell_type": "markdown",
   "metadata": {},
   "source": [
    "### Prueba de hipotesis 1"
   ]
  },
  {
   "cell_type": "code",
   "execution_count": 75,
   "metadata": {},
   "outputs": [
    {
     "data": {
      "text/plain": [
       "140.11734375"
      ]
     },
     "execution_count": 75,
     "metadata": {},
     "output_type": "execute_result"
    }
   ],
   "source": [
    "#Calculo de varianza para valores de User_Score en XOne\n",
    "np.var(df_hipotesis[df_hipotesis['platform'] == 'XOne']['user_score'])"
   ]
  },
  {
   "cell_type": "code",
   "execution_count": 76,
   "metadata": {},
   "outputs": [
    {
     "data": {
      "text/plain": [
       "179.02762152224167"
      ]
     },
     "execution_count": 76,
     "metadata": {},
     "output_type": "execute_result"
    }
   ],
   "source": [
    "#Calculo de varianza para valores de User_Score en PC\n",
    "np.var(df_hipotesis[df_hipotesis['platform'] == 'PC']['user_score'])"
   ]
  },
  {
   "cell_type": "code",
   "execution_count": 77,
   "metadata": {},
   "outputs": [
    {
     "data": {
      "text/plain": [
       "LeveneResult(statistic=0.06375059253812164, pvalue=0.800712501819048)"
      ]
     },
     "execution_count": 77,
     "metadata": {},
     "output_type": "execute_result"
    }
   ],
   "source": [
    "# Prueba de Levene centrada en la mediana\n",
    "\n",
    "alpha = 0.05 #nivel de significacion\n",
    "\n",
    "st.levene(df_hipotesis[df_hipotesis['platform'] == 'XOne']['user_score'],\n",
    "    df_hipotesis[df_hipotesis['platform'] == 'PC']['user_score'], center = 'median')"
   ]
  },
  {
   "cell_type": "code",
   "execution_count": 78,
   "metadata": {},
   "outputs": [
    {
     "data": {
      "text/plain": [
       "LeveneResult(statistic=0.6574747090441981, pvalue=0.4176359339223966)"
      ]
     },
     "execution_count": 78,
     "metadata": {},
     "output_type": "execute_result"
    }
   ],
   "source": [
    "# Prueba de Levene centrada en la media\n",
    "\n",
    "alpha = 0.05 #nivel de significacion\n",
    "\n",
    "st.levene(df_hipotesis[df_hipotesis['platform'] == 'XOne']['user_score'],\n",
    "    df_hipotesis[df_hipotesis['platform'] == 'PC']['user_score'], center = 'mean')"
   ]
  },
  {
   "cell_type": "code",
   "execution_count": 79,
   "metadata": {},
   "outputs": [
    {
     "name": "stdout",
     "output_type": "stream",
     "text": [
      "Valor p: 0.00949 %\n"
     ]
    }
   ],
   "source": [
    "# Prueba las hipótesis\n",
    "\n",
    "#H0 = 'Las calificaciones promedio de los usuarios para las plataformas Xbox One y PC son las mismas.'\n",
    "#Ha = 'Las calificaciones promedio de los usuarios para las plataformas Xbox One y PC son diferentes.'\n",
    "\n",
    "alpha = 0.05 #nivel de significacion\n",
    "\n",
    "result = st.ttest_ind(\n",
    "    df_hipotesis[df_hipotesis['platform'] == 'XOne']['user_score'],\n",
    "    df_hipotesis[df_hipotesis['platform'] == 'PC']['user_score'],\n",
    "    equal_var = True\n",
    ")\n",
    "print(\"Valor p:\",(result.pvalue * 100).round(5),'%')"
   ]
  },
  {
   "cell_type": "markdown",
   "metadata": {},
   "source": [
    " <div class=\"alert alert-block alert-warning\">\n",
    "<b>Comentario revisor</b> <a class=\"tocSkip\"></a>\n",
    "\n",
    "Para estas pruebas te recomiendo hacer una prueba de  Levene  para mostrar si las varianzas son iguales y agregarlo dentro de la función. Actualmente lo colocar como equal_var=False. Para esto, primero debes calcular las varianzas para cada uno de las plataformas y en un segundo tiempo debes de hacer uso de la siguiente función: \n",
    "    \n",
    "    levene(df_hipotesis[df_hipotesis['platform'] == 'XOne']['user_score'], df_hipotesis[df_hipotesis['platform'] == 'PC']['user_score'])\n",
    "    \n",
    "Adoptaremos un nivel de significancia de 0.05; si el valor p resultante es mayor a 0.05, no podemos rechazar la hipótesis nula, y si es menor a 0.05, rechazamos la hipótesis nula, indicando que las varianzas no son iguales. \n",
    "    \n",
    "Solamente recuerda que la prueba de levene no es sustituto a la prueba de st.ttest_ind, más bien es complemento para saber que colocar dentro del elemento \"equal_var\". En este caso como rechazamos la hipótesis de varianzas iguales debemos de colocar False. Es por eso que para terminar la prueba debes de realizar la prueba de st.ttest_ind considernado el resultado de la prueba realizada de levene    \n",
    "</div>"
   ]
  },
  {
   "cell_type": "markdown",
   "metadata": {},
   "source": [
    "<div class=\"alert alert-block alert-info\">\n",
    "    <b>Respuesta del estudiante:</b> <a class=\"tocSkip\"></a>\n",
    "    \n",
    "Se calculan las varianzas de todos los conjuntos de datos y se realiza la prueba de Levene como se recomienda para identificar el valor a poner en equal_var=True en la st.ttest_ind"
   ]
  },
  {
   "cell_type": "markdown",
   "metadata": {},
   "source": [
    "<div class=\"alert alert-block alert-success\">\n",
    "<b>Comentario del revisor:</b> <a class=\"tocSkip\"></a>\n",
    "    \n",
    "Gran trabajo con el ajustes! La prueba de levene nos ayuda a probar el supuesto de varianzas iguales\n",
    "    \n",
    "   \n",
    "\n",
    "</div>"
   ]
  },
  {
   "cell_type": "markdown",
   "metadata": {},
   "source": [
    "### Prueba de hipotesis 2"
   ]
  },
  {
   "cell_type": "code",
   "execution_count": 80,
   "metadata": {},
   "outputs": [
    {
     "data": {
      "text/plain": [
       "117.27796033369845"
      ]
     },
     "execution_count": 80,
     "metadata": {},
     "output_type": "execute_result"
    }
   ],
   "source": [
    "#Calculo de varianza para valores de User_Score en genero Action\n",
    "np.var(df_hipotesis[df_hipotesis['genre'] == 'Action']['user_score'])"
   ]
  },
  {
   "cell_type": "code",
   "execution_count": 81,
   "metadata": {},
   "outputs": [
    {
     "data": {
      "text/plain": [
       "123.31098056037808"
      ]
     },
     "execution_count": 81,
     "metadata": {},
     "output_type": "execute_result"
    }
   ],
   "source": [
    "#Calculo de varianza para valores de User_Score en genero Sports\n",
    "np.var(df_hipotesis[df_hipotesis['genre'] == 'Sports']['user_score'])"
   ]
  },
  {
   "cell_type": "code",
   "execution_count": 85,
   "metadata": {},
   "outputs": [
    {
     "data": {
      "text/plain": [
       "LeveneResult(statistic=1.8926057513056567, pvalue=0.16896692063915866)"
      ]
     },
     "execution_count": 85,
     "metadata": {},
     "output_type": "execute_result"
    }
   ],
   "source": [
    "# Prueba de Levene centrada en la mediana\n",
    "\n",
    "alpha = 0.04 #nivel de significacion\n",
    "\n",
    "st.levene(df_hipotesis[df_hipotesis['genre'] == 'Action']['user_score'],\n",
    "    df_hipotesis[df_hipotesis['genre'] == 'Sports']['user_score'], center = 'median')"
   ]
  },
  {
   "cell_type": "code",
   "execution_count": 86,
   "metadata": {},
   "outputs": [
    {
     "data": {
      "text/plain": [
       "LeveneResult(statistic=0.3409014025496261, pvalue=0.5593344271992443)"
      ]
     },
     "execution_count": 86,
     "metadata": {},
     "output_type": "execute_result"
    }
   ],
   "source": [
    "# Prueba de Levene centrada en la media\n",
    "\n",
    "alpha = 0.04 #nivel de significacion\n",
    "\n",
    "st.levene(df_hipotesis[df_hipotesis['genre'] == 'Action']['user_score'],\n",
    "    df_hipotesis[df_hipotesis['genre'] == 'Sports']['user_score'], center = 'mean')"
   ]
  },
  {
   "cell_type": "code",
   "execution_count": 84,
   "metadata": {},
   "outputs": [
    {
     "name": "stdout",
     "output_type": "stream",
     "text": [
      "Valor p: 90.49655 %\n"
     ]
    }
   ],
   "source": [
    "# Prueba las hipótesis\n",
    "\n",
    "#H0 = 'Las calificaciones promedio de los usuarios para los géneros de Acción y Deportes son iguales.'\n",
    "#Ha = 'Las calificaciones promedio de los usuarios para los géneros de Acción y Deportes son diferentes.'\n",
    "\n",
    "alpha = 0.05 #nivel de significacion\n",
    "\n",
    "result = st.ttest_ind(\n",
    "    df_hipotesis[df_hipotesis['genre'] == 'Action']['user_score'],\n",
    "    df_hipotesis[df_hipotesis['genre'] == 'Sports']['user_score'],\n",
    "    equal_var = True\n",
    ")\n",
    "print(\"Valor p:\",(result.pvalue * 100).round(5),'%')"
   ]
  },
  {
   "cell_type": "markdown",
   "metadata": {},
   "source": [
    "**Comments**: se generan dos pruebas de hipotesis, debido a que en ambas se busca comparar la igualdad de las medias entre dos poblaciones estadisticas, se procede a aplicar la prueba de dos muestras con la funcion scipy.stats.ttest_ind y se establece un umbral alpha de 0.05.\n",
    "- Para el caso de comparar las calificaciones promedio de los usuarios para las plataformas Xbox One y PC, se define como hipotesis nula que son las mismas, e hipotesis alternativa que son diferentes. Se descarta la hipotesis nula por el valor P obtenido de .001%.\n",
    "- Para el caso de comparar las calificaciones promedio de los usuarios para los géneros de Acción y Deportes, se define como hipotesis nula que son las mismas, e hipotesis alternativa que son diferentes. No se descarta la hipotesis nula por el valor P obtenido de 86.4%."
   ]
  },
  {
   "cell_type": "markdown",
   "metadata": {},
   "source": [
    "### Conclusion General"
   ]
  },
  {
   "cell_type": "markdown",
   "metadata": {},
   "source": [
    "Para este proyecto se realizaron los siguientes pasos:\n",
    "1) **Carga del conjunto de datos:**\n",
    "    - *games.csv:* datos generales sobre los juegos, ventas por region, scores de critica y usuarios.\n",
    "2) **Procesamiento de los datos.**\n",
    "    - *Columna Name:* los valores ausentes son los mismos que la columna 'Genre', no se cuentan con valores de Critica, Usuario ni Rating, y son juegos de 1993, fueron eliminados.\n",
    "    - *Columna Platform:* se agrupan las plataformas en funcion de las diferentes compañias de videojuegos.\n",
    "    - *Columna Year of release:* se asigna un 'valor absurdo' en los datos ausentes para cambiar el tipo de dato de flotante a entero. \n",
    "    - *Columna Genre:* no se realiza ningun cambio o ajuste.\n",
    "    - *Columnas Sales:* se genera una nueva columna con la suma de las ventas de las 3 regiones.\n",
    "    - *Columna Critic Score:* se mantienen los valores NaN ya que se infieren como juegos que no se calificaron en su momento.\n",
    "    - *Columna User Score:* se cambian los valores tbd a NaN, ya que se infieren como juegos que no se clasificaron. Se cambia el tipo de dato de objeto a flotante. Se realiza la multiplicacion por 10 de los valores para que tengan la misma base 1/100 que los valores de critic_score.\n",
    "    - *Columna Rating:* se cambian los valores ausentes por 'Rating Pending'. Se decide generar una nueva columna con la descripcion completa del significado de los rating.\n",
    "    - *Revision de duplicados:* no se presentan duplicados de lineas enteras. Se elimina la unica file con valores duplicados en nombre, plataforma y año de release.\n",
    "    - *Se guarda la tabla procesada como:* games_processed.csv.\n",
    "3) **Analisis exploratorio.**\n",
    "    - *Publicacion de juegos por año:* se analiza desde el año 1980, encontrando una tendencia de crecimiento a partir del año 1995. Hubo un crecimiento exponencial a partir del 2005-2006 con una caida significativa en el 2008-2009. En el 2008 hubo una crisis economica mundial que seguramente tambien impacto en el mundo de los videojuegos. \n",
    "    - *Ventas totales por plataforma:* se muestra un grafico lineal con las tendencias de venta por plataforma, identificando que la duracion de vida y ventas de las plataformas es entre 8 y 12 años, con un tiempo de traslape entre consolas de la misma compañia de entre 4 y 6 años.\n",
    "    - *Top 3 ventas por compañia:* Nintendo muestra un crecimiento constante, despues un repunte exponencial en 2005, y cae abruptamente a partir del 2009. XBox inicia en el 2000, con un crecimiento paulatino con un pico en 2010, seguido de caida constante. PlayStation se muestra con mayores ventas y estabilidad, teniendo un crecimiento desde su aparicion, manteniendose en ventas superiores a los 100MUSD desde 1997 hasta el 2015.\n",
    "    - *Analisis de correlacion Ventas-Score PlayStation:* existe una correlacion positiva baja (.296) entre el avg_score y las ventas totales de la plataforma. Hay muy pocos casos de juegos con una critica promedio menor o igual a 60 que hayan alcanzado ventas mayores a 5MUSD (2).\n",
    "    - *Top juegos publicados en diferentes plataformas:* de los dos juegos mas populares, su comportamiento en ventas dista mucho uno del otro. Need for Speed alcanzo ventas mayores a 1MUSD en 5 plataformas diferentes, Ratatouille solo alcanzo ventas mayores a 1MUSD en 1 plataforma.\n",
    "    - *Rentabilidad por genero:* los juegos mas rentables son Platform, Shooter y Role-Playing con ventas por juego por encima de los .6MUSD.\n",
    "    - *Plataformas principales por region:* para NA X360 es la plataforma lider. Para EU la plataforma lider es PS2. Para JP, la plataforma lider es DS de Nintendo.\n",
    "    - *Clasificaciones principales por region:* en NA y EU, las ventas por clasificacion son muy similar, estando a la cabeza Everyone y Rating Pending. Para JP, la clasificacion lider es Rating Pending por un margen casi 3 veces mayor que las otras dos regiones.\n",
    "4) **Hipotesis**\n",
    "    - Se descarta la hipotesis nula por el valor P obtenido de .001%. para el caso de comparar las calificaciones promedio de los usuarios para las plataformas Xbox One y PC. \n",
    "    - No se descarta la hipotesis nula por el valor P obtenido de 86.6% para el caso de comparar las calificaciones promedio de los usuarios para los géneros de Acción y Deportes. "
   ]
  },
  {
   "cell_type": "markdown",
   "metadata": {},
   "source": [
    "\n",
    "<div class=\"alert alert-block alert-warning\">\n",
    "<b>Comentario revisor</b> <a class=\"tocSkip\"></a>\n",
    "\n",
    "Angel, en general creo que hiciste un muy buen trabajo con el proyecto, pudiste limpiar y trabajar las bases de datos de beuna manera. Además, el análisis explorario de datos fue completo al mostrar resultados relevantes que pueden ser de mucha utilidad para la toma de decisiones y desarrollaste las pruebas de hipótesis de una buena manera. No obstante, recuerda que siempre podemos mejorar y te menciono algunos puntos que debes considerar:\n",
    "\n",
    "* Verificar que cuando llenamos variables con valores nulos los estamos comletando con valores que no sesgan nuestros resultados\n",
    "\n",
    "*  Considerar eliminar registros atipicos que puedan sesgar nuestros resultados. \n",
    "    \n",
    "*  Considerar desarrollar un análisis para comprobar los supuestos de la prueba de hipótesis (varianzas iguales)\n",
    "    \n",
    "</div>"
   ]
  }
 ],
 "metadata": {
  "ExecuteTimeLog": [
   {
    "duration": 169,
    "start_time": "2024-10-16T19:58:02.340Z"
   },
   {
    "duration": 2488,
    "start_time": "2024-10-16T19:58:12.629Z"
   },
   {
    "duration": 423,
    "start_time": "2024-10-16T19:58:15.119Z"
   },
   {
    "duration": 0,
    "start_time": "2024-10-16T19:58:15.547Z"
   },
   {
    "duration": 1,
    "start_time": "2024-10-16T19:58:15.548Z"
   },
   {
    "duration": 0,
    "start_time": "2024-10-16T19:58:15.550Z"
   },
   {
    "duration": 0,
    "start_time": "2024-10-16T19:58:15.551Z"
   },
   {
    "duration": 0,
    "start_time": "2024-10-16T19:58:15.553Z"
   },
   {
    "duration": 0,
    "start_time": "2024-10-16T19:58:15.554Z"
   },
   {
    "duration": 0,
    "start_time": "2024-10-16T19:58:15.556Z"
   },
   {
    "duration": 0,
    "start_time": "2024-10-16T19:58:15.557Z"
   },
   {
    "duration": 0,
    "start_time": "2024-10-16T19:58:15.559Z"
   },
   {
    "duration": 0,
    "start_time": "2024-10-16T19:58:15.560Z"
   },
   {
    "duration": 0,
    "start_time": "2024-10-16T19:58:15.562Z"
   },
   {
    "duration": 0,
    "start_time": "2024-10-16T19:58:15.563Z"
   },
   {
    "duration": 0,
    "start_time": "2024-10-16T19:58:15.565Z"
   },
   {
    "duration": 0,
    "start_time": "2024-10-16T19:58:15.566Z"
   },
   {
    "duration": 0,
    "start_time": "2024-10-16T19:58:15.568Z"
   },
   {
    "duration": 0,
    "start_time": "2024-10-16T19:58:15.569Z"
   },
   {
    "duration": 0,
    "start_time": "2024-10-16T19:58:15.605Z"
   },
   {
    "duration": 0,
    "start_time": "2024-10-16T19:58:15.606Z"
   },
   {
    "duration": 0,
    "start_time": "2024-10-16T19:58:15.607Z"
   },
   {
    "duration": 0,
    "start_time": "2024-10-16T19:58:15.608Z"
   },
   {
    "duration": 0,
    "start_time": "2024-10-16T19:58:15.609Z"
   },
   {
    "duration": 0,
    "start_time": "2024-10-16T19:58:15.610Z"
   },
   {
    "duration": 0,
    "start_time": "2024-10-16T19:58:15.611Z"
   },
   {
    "duration": 0,
    "start_time": "2024-10-16T19:58:15.613Z"
   },
   {
    "duration": 0,
    "start_time": "2024-10-16T19:58:15.614Z"
   },
   {
    "duration": 0,
    "start_time": "2024-10-16T19:58:15.615Z"
   },
   {
    "duration": 0,
    "start_time": "2024-10-16T19:58:15.616Z"
   },
   {
    "duration": 0,
    "start_time": "2024-10-16T19:58:15.618Z"
   },
   {
    "duration": 0,
    "start_time": "2024-10-16T19:58:15.619Z"
   },
   {
    "duration": 0,
    "start_time": "2024-10-16T19:58:15.621Z"
   },
   {
    "duration": 0,
    "start_time": "2024-10-16T19:58:15.622Z"
   },
   {
    "duration": 0,
    "start_time": "2024-10-16T19:58:15.623Z"
   },
   {
    "duration": 0,
    "start_time": "2024-10-16T19:58:15.624Z"
   },
   {
    "duration": 0,
    "start_time": "2024-10-16T19:58:15.625Z"
   },
   {
    "duration": 0,
    "start_time": "2024-10-16T19:58:15.626Z"
   },
   {
    "duration": 0,
    "start_time": "2024-10-16T19:58:15.628Z"
   },
   {
    "duration": 0,
    "start_time": "2024-10-16T19:58:15.629Z"
   },
   {
    "duration": 0,
    "start_time": "2024-10-16T19:58:15.630Z"
   },
   {
    "duration": 0,
    "start_time": "2024-10-16T19:58:15.631Z"
   },
   {
    "duration": 0,
    "start_time": "2024-10-16T19:58:15.632Z"
   },
   {
    "duration": 0,
    "start_time": "2024-10-16T19:58:15.633Z"
   },
   {
    "duration": 0,
    "start_time": "2024-10-16T19:58:15.634Z"
   },
   {
    "duration": 0,
    "start_time": "2024-10-16T19:58:15.635Z"
   },
   {
    "duration": 0,
    "start_time": "2024-10-16T19:58:15.636Z"
   },
   {
    "duration": 0,
    "start_time": "2024-10-16T19:58:15.638Z"
   },
   {
    "duration": 0,
    "start_time": "2024-10-16T19:58:15.638Z"
   },
   {
    "duration": 0,
    "start_time": "2024-10-16T19:58:15.640Z"
   },
   {
    "duration": 0,
    "start_time": "2024-10-16T19:58:15.641Z"
   },
   {
    "duration": 0,
    "start_time": "2024-10-16T19:58:15.642Z"
   },
   {
    "duration": 0,
    "start_time": "2024-10-16T19:58:15.643Z"
   },
   {
    "duration": 0,
    "start_time": "2024-10-16T19:58:15.705Z"
   },
   {
    "duration": 0,
    "start_time": "2024-10-16T19:58:15.706Z"
   },
   {
    "duration": 0,
    "start_time": "2024-10-16T19:58:15.707Z"
   },
   {
    "duration": 0,
    "start_time": "2024-10-16T19:58:15.708Z"
   },
   {
    "duration": 0,
    "start_time": "2024-10-16T19:58:15.709Z"
   },
   {
    "duration": 0,
    "start_time": "2024-10-16T19:58:15.711Z"
   },
   {
    "duration": 0,
    "start_time": "2024-10-16T19:58:15.712Z"
   },
   {
    "duration": 0,
    "start_time": "2024-10-16T19:58:15.713Z"
   },
   {
    "duration": 0,
    "start_time": "2024-10-16T19:58:15.718Z"
   },
   {
    "duration": 0,
    "start_time": "2024-10-16T19:58:15.719Z"
   },
   {
    "duration": 0,
    "start_time": "2024-10-16T19:58:15.720Z"
   },
   {
    "duration": 0,
    "start_time": "2024-10-16T19:58:15.722Z"
   },
   {
    "duration": 0,
    "start_time": "2024-10-16T19:58:15.723Z"
   },
   {
    "duration": 0,
    "start_time": "2024-10-16T19:58:15.724Z"
   },
   {
    "duration": 0,
    "start_time": "2024-10-16T19:58:15.725Z"
   },
   {
    "duration": 47,
    "start_time": "2024-10-16T20:00:37.559Z"
   },
   {
    "duration": 3,
    "start_time": "2024-10-16T20:01:07.203Z"
   },
   {
    "duration": 34,
    "start_time": "2024-10-16T20:01:07.208Z"
   },
   {
    "duration": 7,
    "start_time": "2024-10-16T20:01:07.244Z"
   },
   {
    "duration": 11,
    "start_time": "2024-10-16T20:01:07.253Z"
   },
   {
    "duration": 39,
    "start_time": "2024-10-16T20:01:07.267Z"
   },
   {
    "duration": 19,
    "start_time": "2024-10-16T20:01:07.307Z"
   },
   {
    "duration": 12,
    "start_time": "2024-10-16T20:01:07.327Z"
   },
   {
    "duration": 484,
    "start_time": "2024-10-16T20:01:07.340Z"
   },
   {
    "duration": 0,
    "start_time": "2024-10-16T20:01:07.829Z"
   },
   {
    "duration": 0,
    "start_time": "2024-10-16T20:01:07.830Z"
   },
   {
    "duration": 0,
    "start_time": "2024-10-16T20:01:07.832Z"
   },
   {
    "duration": 0,
    "start_time": "2024-10-16T20:01:07.833Z"
   },
   {
    "duration": 0,
    "start_time": "2024-10-16T20:01:07.834Z"
   },
   {
    "duration": 0,
    "start_time": "2024-10-16T20:01:07.835Z"
   },
   {
    "duration": 0,
    "start_time": "2024-10-16T20:01:07.835Z"
   },
   {
    "duration": 0,
    "start_time": "2024-10-16T20:01:07.837Z"
   },
   {
    "duration": 0,
    "start_time": "2024-10-16T20:01:07.838Z"
   },
   {
    "duration": 0,
    "start_time": "2024-10-16T20:01:07.839Z"
   },
   {
    "duration": 0,
    "start_time": "2024-10-16T20:01:07.840Z"
   },
   {
    "duration": 0,
    "start_time": "2024-10-16T20:01:07.841Z"
   },
   {
    "duration": 0,
    "start_time": "2024-10-16T20:01:07.843Z"
   },
   {
    "duration": 0,
    "start_time": "2024-10-16T20:01:07.845Z"
   },
   {
    "duration": 0,
    "start_time": "2024-10-16T20:01:07.846Z"
   },
   {
    "duration": 0,
    "start_time": "2024-10-16T20:01:07.849Z"
   },
   {
    "duration": 0,
    "start_time": "2024-10-16T20:01:07.850Z"
   },
   {
    "duration": 0,
    "start_time": "2024-10-16T20:01:07.852Z"
   },
   {
    "duration": 0,
    "start_time": "2024-10-16T20:01:07.853Z"
   },
   {
    "duration": 0,
    "start_time": "2024-10-16T20:01:07.855Z"
   },
   {
    "duration": 0,
    "start_time": "2024-10-16T20:01:07.856Z"
   },
   {
    "duration": 0,
    "start_time": "2024-10-16T20:01:07.858Z"
   },
   {
    "duration": 0,
    "start_time": "2024-10-16T20:01:07.859Z"
   },
   {
    "duration": 0,
    "start_time": "2024-10-16T20:01:07.860Z"
   },
   {
    "duration": 0,
    "start_time": "2024-10-16T20:01:07.861Z"
   },
   {
    "duration": 0,
    "start_time": "2024-10-16T20:01:07.862Z"
   },
   {
    "duration": 0,
    "start_time": "2024-10-16T20:01:07.863Z"
   },
   {
    "duration": 0,
    "start_time": "2024-10-16T20:01:07.864Z"
   },
   {
    "duration": 0,
    "start_time": "2024-10-16T20:01:07.906Z"
   },
   {
    "duration": 0,
    "start_time": "2024-10-16T20:01:07.908Z"
   },
   {
    "duration": 0,
    "start_time": "2024-10-16T20:01:07.909Z"
   },
   {
    "duration": 0,
    "start_time": "2024-10-16T20:01:07.911Z"
   },
   {
    "duration": 0,
    "start_time": "2024-10-16T20:01:07.912Z"
   },
   {
    "duration": 0,
    "start_time": "2024-10-16T20:01:07.913Z"
   },
   {
    "duration": 0,
    "start_time": "2024-10-16T20:01:07.914Z"
   },
   {
    "duration": 0,
    "start_time": "2024-10-16T20:01:07.915Z"
   },
   {
    "duration": 0,
    "start_time": "2024-10-16T20:01:07.916Z"
   },
   {
    "duration": 0,
    "start_time": "2024-10-16T20:01:07.918Z"
   },
   {
    "duration": 0,
    "start_time": "2024-10-16T20:01:07.918Z"
   },
   {
    "duration": 0,
    "start_time": "2024-10-16T20:01:07.919Z"
   },
   {
    "duration": 0,
    "start_time": "2024-10-16T20:01:07.920Z"
   },
   {
    "duration": 0,
    "start_time": "2024-10-16T20:01:07.921Z"
   },
   {
    "duration": 0,
    "start_time": "2024-10-16T20:01:07.922Z"
   },
   {
    "duration": 0,
    "start_time": "2024-10-16T20:01:07.923Z"
   },
   {
    "duration": 0,
    "start_time": "2024-10-16T20:01:07.925Z"
   },
   {
    "duration": 0,
    "start_time": "2024-10-16T20:01:07.926Z"
   },
   {
    "duration": 0,
    "start_time": "2024-10-16T20:01:07.930Z"
   },
   {
    "duration": 0,
    "start_time": "2024-10-16T20:01:07.932Z"
   },
   {
    "duration": 0,
    "start_time": "2024-10-16T20:01:07.933Z"
   },
   {
    "duration": 0,
    "start_time": "2024-10-16T20:01:07.935Z"
   },
   {
    "duration": 0,
    "start_time": "2024-10-16T20:01:07.937Z"
   },
   {
    "duration": 0,
    "start_time": "2024-10-16T20:01:07.938Z"
   },
   {
    "duration": 0,
    "start_time": "2024-10-16T20:01:07.940Z"
   },
   {
    "duration": 0,
    "start_time": "2024-10-16T20:01:07.941Z"
   },
   {
    "duration": 0,
    "start_time": "2024-10-16T20:01:07.942Z"
   },
   {
    "duration": 0,
    "start_time": "2024-10-16T20:01:07.943Z"
   },
   {
    "duration": 0,
    "start_time": "2024-10-16T20:01:07.944Z"
   },
   {
    "duration": 0,
    "start_time": "2024-10-16T20:01:08.006Z"
   },
   {
    "duration": 0,
    "start_time": "2024-10-16T20:01:08.008Z"
   },
   {
    "duration": 52,
    "start_time": "2024-10-16T20:02:18.168Z"
   },
   {
    "duration": 11,
    "start_time": "2024-10-16T20:05:31.315Z"
   },
   {
    "duration": 49,
    "start_time": "2024-10-16T20:05:35.026Z"
   },
   {
    "duration": 49,
    "start_time": "2024-10-16T20:06:07.324Z"
   },
   {
    "duration": 49,
    "start_time": "2024-10-16T20:06:26.518Z"
   },
   {
    "duration": 47,
    "start_time": "2024-10-16T20:06:43.429Z"
   },
   {
    "duration": 49,
    "start_time": "2024-10-16T20:06:51.122Z"
   },
   {
    "duration": 7,
    "start_time": "2024-10-16T20:07:06.770Z"
   },
   {
    "duration": 12,
    "start_time": "2024-10-16T20:07:06.779Z"
   },
   {
    "duration": 6,
    "start_time": "2024-10-16T20:07:06.793Z"
   },
   {
    "duration": 7,
    "start_time": "2024-10-16T20:07:06.800Z"
   },
   {
    "duration": 16,
    "start_time": "2024-10-16T20:07:06.809Z"
   },
   {
    "duration": 0,
    "start_time": "2024-10-16T20:07:06.827Z"
   },
   {
    "duration": 0,
    "start_time": "2024-10-16T20:07:06.828Z"
   },
   {
    "duration": 0,
    "start_time": "2024-10-16T20:07:06.829Z"
   },
   {
    "duration": 0,
    "start_time": "2024-10-16T20:07:06.830Z"
   },
   {
    "duration": 0,
    "start_time": "2024-10-16T20:07:06.831Z"
   },
   {
    "duration": 0,
    "start_time": "2024-10-16T20:07:06.832Z"
   },
   {
    "duration": 0,
    "start_time": "2024-10-16T20:07:06.833Z"
   },
   {
    "duration": 0,
    "start_time": "2024-10-16T20:07:06.835Z"
   },
   {
    "duration": 0,
    "start_time": "2024-10-16T20:07:06.836Z"
   },
   {
    "duration": 0,
    "start_time": "2024-10-16T20:07:06.837Z"
   },
   {
    "duration": 0,
    "start_time": "2024-10-16T20:07:06.838Z"
   },
   {
    "duration": 0,
    "start_time": "2024-10-16T20:07:06.839Z"
   },
   {
    "duration": 0,
    "start_time": "2024-10-16T20:07:06.840Z"
   },
   {
    "duration": 0,
    "start_time": "2024-10-16T20:07:06.841Z"
   },
   {
    "duration": 0,
    "start_time": "2024-10-16T20:07:06.842Z"
   },
   {
    "duration": 0,
    "start_time": "2024-10-16T20:07:06.843Z"
   },
   {
    "duration": 0,
    "start_time": "2024-10-16T20:07:06.844Z"
   },
   {
    "duration": 0,
    "start_time": "2024-10-16T20:07:06.845Z"
   },
   {
    "duration": 0,
    "start_time": "2024-10-16T20:07:06.847Z"
   },
   {
    "duration": 0,
    "start_time": "2024-10-16T20:07:06.848Z"
   },
   {
    "duration": 0,
    "start_time": "2024-10-16T20:07:06.850Z"
   },
   {
    "duration": 0,
    "start_time": "2024-10-16T20:07:06.851Z"
   },
   {
    "duration": 0,
    "start_time": "2024-10-16T20:07:06.853Z"
   },
   {
    "duration": 0,
    "start_time": "2024-10-16T20:07:06.854Z"
   },
   {
    "duration": 0,
    "start_time": "2024-10-16T20:07:06.904Z"
   },
   {
    "duration": 0,
    "start_time": "2024-10-16T20:07:06.906Z"
   },
   {
    "duration": 0,
    "start_time": "2024-10-16T20:07:06.907Z"
   },
   {
    "duration": 0,
    "start_time": "2024-10-16T20:07:06.908Z"
   },
   {
    "duration": 0,
    "start_time": "2024-10-16T20:07:06.910Z"
   },
   {
    "duration": 0,
    "start_time": "2024-10-16T20:07:06.911Z"
   },
   {
    "duration": 0,
    "start_time": "2024-10-16T20:07:06.913Z"
   },
   {
    "duration": 0,
    "start_time": "2024-10-16T20:07:06.914Z"
   },
   {
    "duration": 0,
    "start_time": "2024-10-16T20:07:06.915Z"
   },
   {
    "duration": 0,
    "start_time": "2024-10-16T20:07:06.917Z"
   },
   {
    "duration": 0,
    "start_time": "2024-10-16T20:07:06.919Z"
   },
   {
    "duration": 0,
    "start_time": "2024-10-16T20:07:06.920Z"
   },
   {
    "duration": 22,
    "start_time": "2024-10-16T20:07:06.927Z"
   },
   {
    "duration": 0,
    "start_time": "2024-10-16T20:07:07.006Z"
   },
   {
    "duration": 0,
    "start_time": "2024-10-16T20:07:07.007Z"
   },
   {
    "duration": 0,
    "start_time": "2024-10-16T20:07:07.008Z"
   },
   {
    "duration": 0,
    "start_time": "2024-10-16T20:07:07.009Z"
   },
   {
    "duration": 0,
    "start_time": "2024-10-16T20:07:07.011Z"
   },
   {
    "duration": 0,
    "start_time": "2024-10-16T20:07:07.012Z"
   },
   {
    "duration": 0,
    "start_time": "2024-10-16T20:07:07.014Z"
   },
   {
    "duration": 0,
    "start_time": "2024-10-16T20:07:07.015Z"
   },
   {
    "duration": 0,
    "start_time": "2024-10-16T20:07:07.016Z"
   },
   {
    "duration": 0,
    "start_time": "2024-10-16T20:07:07.017Z"
   },
   {
    "duration": 0,
    "start_time": "2024-10-16T20:07:07.018Z"
   },
   {
    "duration": 0,
    "start_time": "2024-10-16T20:07:07.021Z"
   },
   {
    "duration": 0,
    "start_time": "2024-10-16T20:07:07.022Z"
   },
   {
    "duration": 0,
    "start_time": "2024-10-16T20:07:07.024Z"
   },
   {
    "duration": 0,
    "start_time": "2024-10-16T20:07:07.025Z"
   },
   {
    "duration": 0,
    "start_time": "2024-10-16T20:07:07.026Z"
   },
   {
    "duration": 0,
    "start_time": "2024-10-16T20:07:07.027Z"
   },
   {
    "duration": 12,
    "start_time": "2024-10-16T20:08:11.740Z"
   },
   {
    "duration": 14,
    "start_time": "2024-10-16T20:08:55.122Z"
   },
   {
    "duration": 13,
    "start_time": "2024-10-16T20:09:06.948Z"
   },
   {
    "duration": 14,
    "start_time": "2024-10-16T20:09:11.635Z"
   },
   {
    "duration": 6,
    "start_time": "2024-10-16T20:09:19.788Z"
   },
   {
    "duration": 17,
    "start_time": "2024-10-16T20:09:19.796Z"
   },
   {
    "duration": 7,
    "start_time": "2024-10-16T20:09:19.815Z"
   },
   {
    "duration": 15,
    "start_time": "2024-10-16T20:09:19.824Z"
   },
   {
    "duration": 0,
    "start_time": "2024-10-16T20:09:19.842Z"
   },
   {
    "duration": 0,
    "start_time": "2024-10-16T20:09:19.843Z"
   },
   {
    "duration": 0,
    "start_time": "2024-10-16T20:09:19.844Z"
   },
   {
    "duration": 0,
    "start_time": "2024-10-16T20:09:19.845Z"
   },
   {
    "duration": 0,
    "start_time": "2024-10-16T20:09:19.846Z"
   },
   {
    "duration": 0,
    "start_time": "2024-10-16T20:09:19.847Z"
   },
   {
    "duration": 0,
    "start_time": "2024-10-16T20:09:19.848Z"
   },
   {
    "duration": 0,
    "start_time": "2024-10-16T20:09:19.849Z"
   },
   {
    "duration": 0,
    "start_time": "2024-10-16T20:09:19.850Z"
   },
   {
    "duration": 0,
    "start_time": "2024-10-16T20:09:19.851Z"
   },
   {
    "duration": 0,
    "start_time": "2024-10-16T20:09:19.852Z"
   },
   {
    "duration": 0,
    "start_time": "2024-10-16T20:09:19.853Z"
   },
   {
    "duration": 0,
    "start_time": "2024-10-16T20:09:19.853Z"
   },
   {
    "duration": 0,
    "start_time": "2024-10-16T20:09:19.854Z"
   },
   {
    "duration": 0,
    "start_time": "2024-10-16T20:09:19.856Z"
   },
   {
    "duration": 0,
    "start_time": "2024-10-16T20:09:19.857Z"
   },
   {
    "duration": 0,
    "start_time": "2024-10-16T20:09:19.858Z"
   },
   {
    "duration": 0,
    "start_time": "2024-10-16T20:09:19.859Z"
   },
   {
    "duration": 0,
    "start_time": "2024-10-16T20:09:19.905Z"
   },
   {
    "duration": 0,
    "start_time": "2024-10-16T20:09:19.906Z"
   },
   {
    "duration": 0,
    "start_time": "2024-10-16T20:09:19.907Z"
   },
   {
    "duration": 0,
    "start_time": "2024-10-16T20:09:19.908Z"
   },
   {
    "duration": 0,
    "start_time": "2024-10-16T20:09:19.909Z"
   },
   {
    "duration": 0,
    "start_time": "2024-10-16T20:09:19.910Z"
   },
   {
    "duration": 0,
    "start_time": "2024-10-16T20:09:19.911Z"
   },
   {
    "duration": 0,
    "start_time": "2024-10-16T20:09:19.912Z"
   },
   {
    "duration": 0,
    "start_time": "2024-10-16T20:09:19.913Z"
   },
   {
    "duration": 0,
    "start_time": "2024-10-16T20:09:19.914Z"
   },
   {
    "duration": 0,
    "start_time": "2024-10-16T20:09:19.915Z"
   },
   {
    "duration": 0,
    "start_time": "2024-10-16T20:09:19.916Z"
   },
   {
    "duration": 0,
    "start_time": "2024-10-16T20:09:19.917Z"
   },
   {
    "duration": 0,
    "start_time": "2024-10-16T20:09:19.918Z"
   },
   {
    "duration": 0,
    "start_time": "2024-10-16T20:09:19.919Z"
   },
   {
    "duration": 19,
    "start_time": "2024-10-16T20:09:19.923Z"
   },
   {
    "duration": 0,
    "start_time": "2024-10-16T20:09:19.943Z"
   },
   {
    "duration": 0,
    "start_time": "2024-10-16T20:09:19.944Z"
   },
   {
    "duration": 0,
    "start_time": "2024-10-16T20:09:19.945Z"
   },
   {
    "duration": 0,
    "start_time": "2024-10-16T20:09:19.947Z"
   },
   {
    "duration": 0,
    "start_time": "2024-10-16T20:09:20.005Z"
   },
   {
    "duration": 0,
    "start_time": "2024-10-16T20:09:20.006Z"
   },
   {
    "duration": 0,
    "start_time": "2024-10-16T20:09:20.008Z"
   },
   {
    "duration": 0,
    "start_time": "2024-10-16T20:09:20.010Z"
   },
   {
    "duration": 0,
    "start_time": "2024-10-16T20:09:20.011Z"
   },
   {
    "duration": 16,
    "start_time": "2024-10-16T20:09:20.014Z"
   },
   {
    "duration": 0,
    "start_time": "2024-10-16T20:09:20.032Z"
   },
   {
    "duration": 0,
    "start_time": "2024-10-16T20:09:20.033Z"
   },
   {
    "duration": 0,
    "start_time": "2024-10-16T20:09:20.034Z"
   },
   {
    "duration": 0,
    "start_time": "2024-10-16T20:09:20.035Z"
   },
   {
    "duration": 0,
    "start_time": "2024-10-16T20:09:20.036Z"
   },
   {
    "duration": 0,
    "start_time": "2024-10-16T20:09:20.037Z"
   },
   {
    "duration": 4,
    "start_time": "2024-10-16T20:10:49.437Z"
   },
   {
    "duration": 5,
    "start_time": "2024-10-16T20:11:30.358Z"
   },
   {
    "duration": 5,
    "start_time": "2024-10-16T20:11:39.315Z"
   },
   {
    "duration": 5,
    "start_time": "2024-10-16T20:12:48.820Z"
   },
   {
    "duration": 4,
    "start_time": "2024-10-16T20:13:05.068Z"
   },
   {
    "duration": 4,
    "start_time": "2024-10-16T20:13:13.386Z"
   },
   {
    "duration": 6,
    "start_time": "2024-10-16T20:13:16.418Z"
   },
   {
    "duration": 8,
    "start_time": "2024-10-16T20:13:38.794Z"
   },
   {
    "duration": 4,
    "start_time": "2024-10-16T20:13:38.804Z"
   },
   {
    "duration": 5,
    "start_time": "2024-10-16T20:13:38.809Z"
   },
   {
    "duration": 6,
    "start_time": "2024-10-16T20:13:38.816Z"
   },
   {
    "duration": 3,
    "start_time": "2024-10-16T20:13:38.825Z"
   },
   {
    "duration": 15,
    "start_time": "2024-10-16T20:13:38.830Z"
   },
   {
    "duration": 9,
    "start_time": "2024-10-16T20:13:38.847Z"
   },
   {
    "duration": 54,
    "start_time": "2024-10-16T20:13:38.857Z"
   },
   {
    "duration": 7,
    "start_time": "2024-10-16T20:13:38.912Z"
   },
   {
    "duration": 6,
    "start_time": "2024-10-16T20:13:38.920Z"
   },
   {
    "duration": 18,
    "start_time": "2024-10-16T20:13:38.927Z"
   },
   {
    "duration": 15,
    "start_time": "2024-10-16T20:13:38.946Z"
   },
   {
    "duration": 50,
    "start_time": "2024-10-16T20:13:38.963Z"
   },
   {
    "duration": 13,
    "start_time": "2024-10-16T20:13:39.016Z"
   },
   {
    "duration": 15,
    "start_time": "2024-10-16T20:13:39.031Z"
   },
   {
    "duration": 16,
    "start_time": "2024-10-16T20:13:39.048Z"
   },
   {
    "duration": 15,
    "start_time": "2024-10-16T20:13:39.066Z"
   },
   {
    "duration": 4,
    "start_time": "2024-10-16T20:13:39.106Z"
   },
   {
    "duration": 114,
    "start_time": "2024-10-16T20:13:39.112Z"
   },
   {
    "duration": 35,
    "start_time": "2024-10-16T20:13:39.227Z"
   },
   {
    "duration": 11,
    "start_time": "2024-10-16T20:13:39.263Z"
   },
   {
    "duration": 133,
    "start_time": "2024-10-16T20:13:39.276Z"
   },
   {
    "duration": 12,
    "start_time": "2024-10-16T20:13:39.411Z"
   },
   {
    "duration": 226,
    "start_time": "2024-10-16T20:13:39.425Z"
   },
   {
    "duration": 15,
    "start_time": "2024-10-16T20:13:39.653Z"
   },
   {
    "duration": 15,
    "start_time": "2024-10-16T20:13:39.670Z"
   },
   {
    "duration": 227,
    "start_time": "2024-10-16T20:13:39.686Z"
   },
   {
    "duration": 14,
    "start_time": "2024-10-16T20:13:39.915Z"
   },
   {
    "duration": 13,
    "start_time": "2024-10-16T20:13:39.930Z"
   },
   {
    "duration": 137,
    "start_time": "2024-10-16T20:13:39.944Z"
   },
   {
    "duration": 125,
    "start_time": "2024-10-16T20:13:40.085Z"
   },
   {
    "duration": 13,
    "start_time": "2024-10-16T20:13:40.212Z"
   },
   {
    "duration": 7,
    "start_time": "2024-10-16T20:13:40.226Z"
   },
   {
    "duration": 14,
    "start_time": "2024-10-16T20:13:40.234Z"
   },
   {
    "duration": 8,
    "start_time": "2024-10-16T20:13:40.250Z"
   },
   {
    "duration": 127,
    "start_time": "2024-10-16T20:13:40.260Z"
   },
   {
    "duration": 23,
    "start_time": "2024-10-16T20:13:40.389Z"
   },
   {
    "duration": 11,
    "start_time": "2024-10-16T20:13:40.413Z"
   },
   {
    "duration": 133,
    "start_time": "2024-10-16T20:13:40.426Z"
   },
   {
    "duration": 10,
    "start_time": "2024-10-16T20:13:40.562Z"
   },
   {
    "duration": 135,
    "start_time": "2024-10-16T20:13:40.577Z"
   },
   {
    "duration": 8,
    "start_time": "2024-10-16T20:13:40.715Z"
   },
   {
    "duration": 159,
    "start_time": "2024-10-16T20:13:40.724Z"
   },
   {
    "duration": 0,
    "start_time": "2024-10-16T20:13:40.885Z"
   },
   {
    "duration": 0,
    "start_time": "2024-10-16T20:13:40.887Z"
   },
   {
    "duration": 0,
    "start_time": "2024-10-16T20:13:40.889Z"
   },
   {
    "duration": 0,
    "start_time": "2024-10-16T20:13:40.905Z"
   },
   {
    "duration": 0,
    "start_time": "2024-10-16T20:13:40.906Z"
   },
   {
    "duration": 0,
    "start_time": "2024-10-16T20:13:40.907Z"
   },
   {
    "duration": 0,
    "start_time": "2024-10-16T20:13:40.908Z"
   },
   {
    "duration": 0,
    "start_time": "2024-10-16T20:13:40.909Z"
   },
   {
    "duration": 0,
    "start_time": "2024-10-16T20:13:40.909Z"
   },
   {
    "duration": 0,
    "start_time": "2024-10-16T20:13:40.911Z"
   },
   {
    "duration": 0,
    "start_time": "2024-10-16T20:13:40.912Z"
   },
   {
    "duration": 0,
    "start_time": "2024-10-16T20:13:40.913Z"
   },
   {
    "duration": 4,
    "start_time": "2024-10-16T20:14:17.144Z"
   },
   {
    "duration": 3,
    "start_time": "2024-10-16T20:14:20.623Z"
   },
   {
    "duration": 5,
    "start_time": "2024-10-16T20:14:22.870Z"
   },
   {
    "duration": 6,
    "start_time": "2024-10-16T20:14:48.355Z"
   },
   {
    "duration": 4,
    "start_time": "2024-10-16T20:16:40.844Z"
   },
   {
    "duration": 5,
    "start_time": "2024-10-16T20:16:45.176Z"
   },
   {
    "duration": 5,
    "start_time": "2024-10-16T20:16:47.569Z"
   },
   {
    "duration": 7,
    "start_time": "2024-10-16T20:16:50.414Z"
   },
   {
    "duration": 5,
    "start_time": "2024-10-16T20:20:04.427Z"
   },
   {
    "duration": 5,
    "start_time": "2024-10-16T20:20:10.567Z"
   },
   {
    "duration": 5,
    "start_time": "2024-10-16T20:20:20.567Z"
   },
   {
    "duration": 6,
    "start_time": "2024-10-16T20:20:43.125Z"
   },
   {
    "duration": 7,
    "start_time": "2024-10-16T20:20:45.151Z"
   },
   {
    "duration": 5,
    "start_time": "2024-10-16T20:27:23.619Z"
   },
   {
    "duration": 8,
    "start_time": "2024-10-16T20:27:46.035Z"
   },
   {
    "duration": 199,
    "start_time": "2024-10-16T20:28:13.488Z"
   },
   {
    "duration": 204,
    "start_time": "2024-10-16T20:28:42.544Z"
   },
   {
    "duration": 8,
    "start_time": "2024-10-16T20:29:03.542Z"
   },
   {
    "duration": 279,
    "start_time": "2024-10-16T20:29:13.777Z"
   },
   {
    "duration": 11,
    "start_time": "2024-10-16T20:29:30.959Z"
   },
   {
    "duration": 204,
    "start_time": "2024-10-16T20:29:35.524Z"
   },
   {
    "duration": 206,
    "start_time": "2024-10-16T20:30:00.643Z"
   },
   {
    "duration": 8,
    "start_time": "2024-10-16T20:31:18.664Z"
   },
   {
    "duration": 211,
    "start_time": "2024-10-16T20:31:22.013Z"
   },
   {
    "duration": 6,
    "start_time": "2024-10-16T20:32:45.781Z"
   },
   {
    "duration": 4,
    "start_time": "2024-10-16T20:32:50.475Z"
   },
   {
    "duration": 3,
    "start_time": "2024-10-16T20:33:20.984Z"
   },
   {
    "duration": 3,
    "start_time": "2024-10-16T20:33:38.962Z"
   },
   {
    "duration": 16,
    "start_time": "2024-10-16T20:36:51.660Z"
   },
   {
    "duration": 9,
    "start_time": "2024-10-16T20:36:51.678Z"
   },
   {
    "duration": 9,
    "start_time": "2024-10-16T20:36:51.690Z"
   },
   {
    "duration": 11,
    "start_time": "2024-10-16T20:36:51.704Z"
   },
   {
    "duration": 8,
    "start_time": "2024-10-16T20:36:51.717Z"
   },
   {
    "duration": 6,
    "start_time": "2024-10-16T20:36:51.727Z"
   },
   {
    "duration": 8,
    "start_time": "2024-10-16T20:36:51.735Z"
   },
   {
    "duration": 7,
    "start_time": "2024-10-16T20:36:51.745Z"
   },
   {
    "duration": 5,
    "start_time": "2024-10-16T20:36:51.753Z"
   },
   {
    "duration": 8,
    "start_time": "2024-10-16T20:36:51.760Z"
   },
   {
    "duration": 39,
    "start_time": "2024-10-16T20:36:51.770Z"
   },
   {
    "duration": 6,
    "start_time": "2024-10-16T20:36:51.811Z"
   },
   {
    "duration": 16,
    "start_time": "2024-10-16T20:43:24.590Z"
   },
   {
    "duration": 102,
    "start_time": "2024-10-16T20:43:32.082Z"
   },
   {
    "duration": 7,
    "start_time": "2024-10-16T20:43:55.402Z"
   },
   {
    "duration": 5,
    "start_time": "2024-10-16T20:45:02.085Z"
   },
   {
    "duration": 7,
    "start_time": "2024-10-16T20:45:14.125Z"
   },
   {
    "duration": 3,
    "start_time": "2024-10-16T20:45:20.603Z"
   },
   {
    "duration": 7,
    "start_time": "2024-10-16T20:45:36.831Z"
   },
   {
    "duration": 6,
    "start_time": "2024-10-16T20:45:54.437Z"
   },
   {
    "duration": 6,
    "start_time": "2024-10-16T20:48:23.728Z"
   },
   {
    "duration": 6,
    "start_time": "2024-10-16T20:48:44.747Z"
   },
   {
    "duration": 6,
    "start_time": "2024-10-16T20:50:52.816Z"
   },
   {
    "duration": 6,
    "start_time": "2024-10-16T20:51:43.255Z"
   },
   {
    "duration": 6,
    "start_time": "2024-10-16T20:52:11.367Z"
   },
   {
    "duration": 7,
    "start_time": "2024-10-16T20:52:51.960Z"
   },
   {
    "duration": 7,
    "start_time": "2024-10-16T20:53:28.595Z"
   },
   {
    "duration": 6,
    "start_time": "2024-10-16T20:53:35.502Z"
   },
   {
    "duration": 6,
    "start_time": "2024-10-16T20:53:48.122Z"
   },
   {
    "duration": 2,
    "start_time": "2024-10-16T21:06:20.815Z"
   },
   {
    "duration": 2619,
    "start_time": "2024-10-17T13:37:09.274Z"
   },
   {
    "duration": 47,
    "start_time": "2024-10-17T13:37:11.896Z"
   },
   {
    "duration": 9,
    "start_time": "2024-10-17T13:37:11.945Z"
   },
   {
    "duration": 10,
    "start_time": "2024-10-17T13:37:11.955Z"
   },
   {
    "duration": 9,
    "start_time": "2024-10-17T13:37:11.967Z"
   },
   {
    "duration": 17,
    "start_time": "2024-10-17T13:37:11.977Z"
   },
   {
    "duration": 35,
    "start_time": "2024-10-17T13:37:11.997Z"
   },
   {
    "duration": 623,
    "start_time": "2024-10-17T13:37:18.614Z"
   },
   {
    "duration": 7,
    "start_time": "2024-10-17T13:38:09.690Z"
   },
   {
    "duration": 158,
    "start_time": "2024-10-17T19:35:21.765Z"
   },
   {
    "duration": 2477,
    "start_time": "2024-10-17T19:35:26.778Z"
   },
   {
    "duration": 48,
    "start_time": "2024-10-17T19:35:29.258Z"
   },
   {
    "duration": 8,
    "start_time": "2024-10-17T19:35:29.309Z"
   },
   {
    "duration": 12,
    "start_time": "2024-10-17T19:35:29.320Z"
   },
   {
    "duration": 10,
    "start_time": "2024-10-17T19:35:29.334Z"
   },
   {
    "duration": 42,
    "start_time": "2024-10-17T19:35:29.346Z"
   },
   {
    "duration": 14,
    "start_time": "2024-10-17T19:35:29.389Z"
   },
   {
    "duration": 11,
    "start_time": "2024-10-17T19:35:29.404Z"
   },
   {
    "duration": 7,
    "start_time": "2024-10-17T19:35:29.417Z"
   },
   {
    "duration": 6,
    "start_time": "2024-10-17T19:35:29.427Z"
   },
   {
    "duration": 11,
    "start_time": "2024-10-17T19:35:29.434Z"
   },
   {
    "duration": 39,
    "start_time": "2024-10-17T19:35:29.447Z"
   },
   {
    "duration": 9,
    "start_time": "2024-10-17T19:35:29.488Z"
   },
   {
    "duration": 73,
    "start_time": "2024-10-17T19:35:29.499Z"
   },
   {
    "duration": 0,
    "start_time": "2024-10-17T19:35:29.588Z"
   },
   {
    "duration": 0,
    "start_time": "2024-10-17T19:35:29.590Z"
   },
   {
    "duration": 0,
    "start_time": "2024-10-17T19:35:29.591Z"
   },
   {
    "duration": 0,
    "start_time": "2024-10-17T19:35:29.592Z"
   },
   {
    "duration": 0,
    "start_time": "2024-10-17T19:35:29.594Z"
   },
   {
    "duration": 0,
    "start_time": "2024-10-17T19:35:29.595Z"
   },
   {
    "duration": 0,
    "start_time": "2024-10-17T19:35:29.597Z"
   },
   {
    "duration": 0,
    "start_time": "2024-10-17T19:35:29.598Z"
   },
   {
    "duration": 0,
    "start_time": "2024-10-17T19:35:29.600Z"
   },
   {
    "duration": 0,
    "start_time": "2024-10-17T19:35:29.602Z"
   },
   {
    "duration": 0,
    "start_time": "2024-10-17T19:35:29.603Z"
   },
   {
    "duration": 0,
    "start_time": "2024-10-17T19:35:29.604Z"
   },
   {
    "duration": 0,
    "start_time": "2024-10-17T19:35:29.605Z"
   },
   {
    "duration": 0,
    "start_time": "2024-10-17T19:35:29.606Z"
   },
   {
    "duration": 0,
    "start_time": "2024-10-17T19:35:29.607Z"
   },
   {
    "duration": 0,
    "start_time": "2024-10-17T19:35:29.608Z"
   },
   {
    "duration": 0,
    "start_time": "2024-10-17T19:35:29.609Z"
   },
   {
    "duration": 0,
    "start_time": "2024-10-17T19:35:29.610Z"
   },
   {
    "duration": 0,
    "start_time": "2024-10-17T19:35:29.611Z"
   },
   {
    "duration": 0,
    "start_time": "2024-10-17T19:35:29.612Z"
   },
   {
    "duration": 0,
    "start_time": "2024-10-17T19:35:29.613Z"
   },
   {
    "duration": 0,
    "start_time": "2024-10-17T19:35:29.614Z"
   },
   {
    "duration": 0,
    "start_time": "2024-10-17T19:35:29.615Z"
   },
   {
    "duration": 0,
    "start_time": "2024-10-17T19:35:29.616Z"
   },
   {
    "duration": 0,
    "start_time": "2024-10-17T19:35:29.617Z"
   },
   {
    "duration": 0,
    "start_time": "2024-10-17T19:35:29.618Z"
   },
   {
    "duration": 0,
    "start_time": "2024-10-17T19:35:29.619Z"
   },
   {
    "duration": 0,
    "start_time": "2024-10-17T19:35:29.620Z"
   },
   {
    "duration": 0,
    "start_time": "2024-10-17T19:35:29.621Z"
   },
   {
    "duration": 0,
    "start_time": "2024-10-17T19:35:29.622Z"
   },
   {
    "duration": 0,
    "start_time": "2024-10-17T19:35:29.623Z"
   },
   {
    "duration": 0,
    "start_time": "2024-10-17T19:35:29.624Z"
   },
   {
    "duration": 0,
    "start_time": "2024-10-17T19:35:29.625Z"
   },
   {
    "duration": 0,
    "start_time": "2024-10-17T19:35:29.626Z"
   },
   {
    "duration": 0,
    "start_time": "2024-10-17T19:35:29.627Z"
   },
   {
    "duration": 0,
    "start_time": "2024-10-17T19:35:29.628Z"
   },
   {
    "duration": 0,
    "start_time": "2024-10-17T19:35:29.687Z"
   },
   {
    "duration": 0,
    "start_time": "2024-10-17T19:35:29.688Z"
   },
   {
    "duration": 0,
    "start_time": "2024-10-17T19:35:29.689Z"
   },
   {
    "duration": 0,
    "start_time": "2024-10-17T19:35:29.690Z"
   },
   {
    "duration": 0,
    "start_time": "2024-10-17T19:35:29.692Z"
   },
   {
    "duration": 0,
    "start_time": "2024-10-17T19:35:29.693Z"
   },
   {
    "duration": 0,
    "start_time": "2024-10-17T19:35:29.699Z"
   },
   {
    "duration": 0,
    "start_time": "2024-10-17T19:35:29.700Z"
   },
   {
    "duration": 0,
    "start_time": "2024-10-17T19:35:29.702Z"
   },
   {
    "duration": 0,
    "start_time": "2024-10-17T19:35:29.703Z"
   },
   {
    "duration": 0,
    "start_time": "2024-10-17T19:35:29.704Z"
   },
   {
    "duration": 0,
    "start_time": "2024-10-17T19:35:29.705Z"
   },
   {
    "duration": 0,
    "start_time": "2024-10-17T19:35:29.707Z"
   },
   {
    "duration": 0,
    "start_time": "2024-10-17T19:35:29.709Z"
   },
   {
    "duration": 0,
    "start_time": "2024-10-17T19:35:29.710Z"
   },
   {
    "duration": 0,
    "start_time": "2024-10-17T19:35:29.712Z"
   },
   {
    "duration": 0,
    "start_time": "2024-10-17T19:35:29.714Z"
   },
   {
    "duration": 0,
    "start_time": "2024-10-17T19:35:29.715Z"
   },
   {
    "duration": 0,
    "start_time": "2024-10-17T19:35:29.717Z"
   },
   {
    "duration": 1,
    "start_time": "2024-10-17T19:35:29.718Z"
   },
   {
    "duration": 0,
    "start_time": "2024-10-17T19:35:29.720Z"
   },
   {
    "duration": 0,
    "start_time": "2024-10-17T19:35:29.721Z"
   },
   {
    "duration": 1,
    "start_time": "2024-10-17T19:35:29.722Z"
   },
   {
    "duration": 0,
    "start_time": "2024-10-17T19:35:29.724Z"
   },
   {
    "duration": 0,
    "start_time": "2024-10-17T19:35:29.725Z"
   },
   {
    "duration": 0,
    "start_time": "2024-10-17T19:35:29.726Z"
   },
   {
    "duration": 0,
    "start_time": "2024-10-17T19:35:29.728Z"
   },
   {
    "duration": 0,
    "start_time": "2024-10-17T19:35:29.729Z"
   },
   {
    "duration": 0,
    "start_time": "2024-10-17T19:35:29.787Z"
   },
   {
    "duration": 0,
    "start_time": "2024-10-17T19:35:29.789Z"
   },
   {
    "duration": 0,
    "start_time": "2024-10-17T19:35:29.790Z"
   },
   {
    "duration": 0,
    "start_time": "2024-10-17T19:35:29.792Z"
   },
   {
    "duration": 0,
    "start_time": "2024-10-17T19:35:29.793Z"
   },
   {
    "duration": 0,
    "start_time": "2024-10-17T19:35:29.795Z"
   },
   {
    "duration": 0,
    "start_time": "2024-10-17T19:35:29.797Z"
   },
   {
    "duration": 12,
    "start_time": "2024-10-17T19:35:46.788Z"
   },
   {
    "duration": 13,
    "start_time": "2024-10-17T19:38:32.519Z"
   },
   {
    "duration": 15,
    "start_time": "2024-10-17T19:38:50.054Z"
   },
   {
    "duration": 15,
    "start_time": "2024-10-17T19:39:31.295Z"
   },
   {
    "duration": 12,
    "start_time": "2024-10-17T19:40:24.993Z"
   },
   {
    "duration": 13,
    "start_time": "2024-10-17T19:40:43.008Z"
   },
   {
    "duration": 12,
    "start_time": "2024-10-17T19:41:12.544Z"
   },
   {
    "duration": 15,
    "start_time": "2024-10-17T19:41:34.768Z"
   },
   {
    "duration": 13,
    "start_time": "2024-10-17T19:41:41.049Z"
   },
   {
    "duration": 6,
    "start_time": "2024-10-17T19:41:53.416Z"
   },
   {
    "duration": 16,
    "start_time": "2024-10-17T19:41:57.108Z"
   },
   {
    "duration": 3,
    "start_time": "2024-10-17T19:42:11.455Z"
   },
   {
    "duration": 39,
    "start_time": "2024-10-17T19:42:11.462Z"
   },
   {
    "duration": 9,
    "start_time": "2024-10-17T19:42:11.503Z"
   },
   {
    "duration": 13,
    "start_time": "2024-10-17T19:42:11.513Z"
   },
   {
    "duration": 10,
    "start_time": "2024-10-17T19:42:11.528Z"
   },
   {
    "duration": 56,
    "start_time": "2024-10-17T19:42:11.540Z"
   },
   {
    "duration": 12,
    "start_time": "2024-10-17T19:42:11.598Z"
   },
   {
    "duration": 10,
    "start_time": "2024-10-17T19:42:11.612Z"
   },
   {
    "duration": 6,
    "start_time": "2024-10-17T19:42:11.624Z"
   },
   {
    "duration": 11,
    "start_time": "2024-10-17T19:42:11.632Z"
   },
   {
    "duration": 47,
    "start_time": "2024-10-17T19:42:11.645Z"
   },
   {
    "duration": 7,
    "start_time": "2024-10-17T19:42:11.694Z"
   },
   {
    "duration": 12,
    "start_time": "2024-10-17T19:42:11.702Z"
   },
   {
    "duration": 5,
    "start_time": "2024-10-17T19:42:11.718Z"
   },
   {
    "duration": 16,
    "start_time": "2024-10-17T19:42:11.725Z"
   },
   {
    "duration": 46,
    "start_time": "2024-10-17T19:42:11.743Z"
   },
   {
    "duration": 4,
    "start_time": "2024-10-17T19:42:11.791Z"
   },
   {
    "duration": 4,
    "start_time": "2024-10-17T19:42:11.797Z"
   },
   {
    "duration": 5,
    "start_time": "2024-10-17T19:42:11.803Z"
   },
   {
    "duration": 5,
    "start_time": "2024-10-17T19:42:11.810Z"
   },
   {
    "duration": 9,
    "start_time": "2024-10-17T19:42:11.817Z"
   },
   {
    "duration": 7,
    "start_time": "2024-10-17T19:42:11.827Z"
   },
   {
    "duration": 8,
    "start_time": "2024-10-17T19:42:11.837Z"
   },
   {
    "duration": 8,
    "start_time": "2024-10-17T19:42:11.887Z"
   },
   {
    "duration": 4,
    "start_time": "2024-10-17T19:42:11.897Z"
   },
   {
    "duration": 4,
    "start_time": "2024-10-17T19:42:11.902Z"
   },
   {
    "duration": 5,
    "start_time": "2024-10-17T19:42:11.908Z"
   },
   {
    "duration": 6,
    "start_time": "2024-10-17T19:42:11.915Z"
   },
   {
    "duration": 6,
    "start_time": "2024-10-17T19:42:11.922Z"
   },
   {
    "duration": 58,
    "start_time": "2024-10-17T19:42:11.930Z"
   },
   {
    "duration": 18,
    "start_time": "2024-10-17T19:42:11.990Z"
   },
   {
    "duration": 21,
    "start_time": "2024-10-17T19:42:12.010Z"
   },
   {
    "duration": 16,
    "start_time": "2024-10-17T19:42:12.034Z"
   },
   {
    "duration": 48,
    "start_time": "2024-10-17T19:42:12.052Z"
   },
   {
    "duration": 14,
    "start_time": "2024-10-17T19:42:12.102Z"
   },
   {
    "duration": 15,
    "start_time": "2024-10-17T19:42:12.117Z"
   },
   {
    "duration": 5,
    "start_time": "2024-10-17T19:42:12.134Z"
   },
   {
    "duration": 134,
    "start_time": "2024-10-17T19:42:12.140Z"
   },
   {
    "duration": 46,
    "start_time": "2024-10-17T19:42:12.276Z"
   },
   {
    "duration": 10,
    "start_time": "2024-10-17T19:42:12.324Z"
   },
   {
    "duration": 138,
    "start_time": "2024-10-17T19:42:12.339Z"
   },
   {
    "duration": 17,
    "start_time": "2024-10-17T19:42:12.479Z"
   },
   {
    "duration": 237,
    "start_time": "2024-10-17T19:42:12.498Z"
   },
   {
    "duration": 15,
    "start_time": "2024-10-17T19:42:12.737Z"
   },
   {
    "duration": 17,
    "start_time": "2024-10-17T19:42:12.754Z"
   },
   {
    "duration": 292,
    "start_time": "2024-10-17T19:42:12.787Z"
   },
   {
    "duration": 11,
    "start_time": "2024-10-17T19:42:13.081Z"
   },
   {
    "duration": 243,
    "start_time": "2024-10-17T19:42:13.094Z"
   },
   {
    "duration": 15,
    "start_time": "2024-10-17T19:42:13.339Z"
   },
   {
    "duration": 13,
    "start_time": "2024-10-17T19:42:13.356Z"
   },
   {
    "duration": 147,
    "start_time": "2024-10-17T19:42:13.387Z"
   },
   {
    "duration": 120,
    "start_time": "2024-10-17T19:42:13.536Z"
   },
   {
    "duration": 13,
    "start_time": "2024-10-17T19:42:13.657Z"
   },
   {
    "duration": 21,
    "start_time": "2024-10-17T19:42:13.672Z"
   },
   {
    "duration": 15,
    "start_time": "2024-10-17T19:42:13.695Z"
   },
   {
    "duration": 9,
    "start_time": "2024-10-17T19:42:13.712Z"
   },
   {
    "duration": 126,
    "start_time": "2024-10-17T19:42:13.723Z"
   },
   {
    "duration": 13,
    "start_time": "2024-10-17T19:42:13.852Z"
   },
   {
    "duration": 26,
    "start_time": "2024-10-17T19:42:13.867Z"
   },
   {
    "duration": 133,
    "start_time": "2024-10-17T19:42:13.895Z"
   },
   {
    "duration": 14,
    "start_time": "2024-10-17T19:42:14.030Z"
   },
   {
    "duration": 147,
    "start_time": "2024-10-17T19:42:14.046Z"
   },
   {
    "duration": 9,
    "start_time": "2024-10-17T19:42:14.195Z"
   },
   {
    "duration": 397,
    "start_time": "2024-10-17T19:42:14.206Z"
   },
   {
    "duration": 0,
    "start_time": "2024-10-17T19:42:14.605Z"
   },
   {
    "duration": 0,
    "start_time": "2024-10-17T19:42:14.606Z"
   },
   {
    "duration": 0,
    "start_time": "2024-10-17T19:42:14.607Z"
   },
   {
    "duration": 0,
    "start_time": "2024-10-17T19:42:14.609Z"
   },
   {
    "duration": 0,
    "start_time": "2024-10-17T19:42:14.610Z"
   },
   {
    "duration": 0,
    "start_time": "2024-10-17T19:42:14.611Z"
   },
   {
    "duration": 0,
    "start_time": "2024-10-17T19:42:14.612Z"
   },
   {
    "duration": 0,
    "start_time": "2024-10-17T19:42:14.613Z"
   },
   {
    "duration": 0,
    "start_time": "2024-10-17T19:42:14.615Z"
   },
   {
    "duration": 0,
    "start_time": "2024-10-17T19:42:14.616Z"
   },
   {
    "duration": 0,
    "start_time": "2024-10-17T19:42:14.617Z"
   },
   {
    "duration": 0,
    "start_time": "2024-10-17T19:42:14.618Z"
   },
   {
    "duration": 0,
    "start_time": "2024-10-17T19:42:14.620Z"
   },
   {
    "duration": 0,
    "start_time": "2024-10-17T19:42:14.621Z"
   },
   {
    "duration": 0,
    "start_time": "2024-10-17T19:42:14.622Z"
   },
   {
    "duration": 0,
    "start_time": "2024-10-17T19:42:14.624Z"
   },
   {
    "duration": 0,
    "start_time": "2024-10-17T19:42:14.625Z"
   },
   {
    "duration": 0,
    "start_time": "2024-10-17T19:42:14.627Z"
   },
   {
    "duration": 0,
    "start_time": "2024-10-17T19:42:14.630Z"
   },
   {
    "duration": 0,
    "start_time": "2024-10-17T19:42:14.632Z"
   },
   {
    "duration": 8,
    "start_time": "2024-10-17T19:44:32.275Z"
   },
   {
    "duration": 12,
    "start_time": "2024-10-17T19:44:46.792Z"
   },
   {
    "duration": 52,
    "start_time": "2024-10-17T19:45:17.384Z"
   },
   {
    "duration": 21,
    "start_time": "2024-10-17T19:48:19.914Z"
   },
   {
    "duration": 20,
    "start_time": "2024-10-17T19:48:41.691Z"
   },
   {
    "duration": 12,
    "start_time": "2024-10-17T19:48:56.154Z"
   },
   {
    "duration": 15,
    "start_time": "2024-10-17T19:51:04.115Z"
   },
   {
    "duration": 222,
    "start_time": "2024-10-17T19:53:16.133Z"
   },
   {
    "duration": 11,
    "start_time": "2024-10-17T19:53:27.949Z"
   },
   {
    "duration": 14,
    "start_time": "2024-10-17T19:53:36.882Z"
   },
   {
    "duration": 836,
    "start_time": "2024-10-22T02:06:00.322Z"
   },
   {
    "duration": 54,
    "start_time": "2024-10-22T02:06:01.160Z"
   },
   {
    "duration": 9,
    "start_time": "2024-10-22T02:06:01.216Z"
   },
   {
    "duration": 11,
    "start_time": "2024-10-22T02:06:01.229Z"
   },
   {
    "duration": 10,
    "start_time": "2024-10-22T02:06:01.242Z"
   },
   {
    "duration": 23,
    "start_time": "2024-10-22T02:06:01.254Z"
   },
   {
    "duration": 47,
    "start_time": "2024-10-22T02:06:01.278Z"
   },
   {
    "duration": 13,
    "start_time": "2024-10-22T02:06:01.327Z"
   },
   {
    "duration": 6,
    "start_time": "2024-10-22T02:06:01.343Z"
   },
   {
    "duration": 14,
    "start_time": "2024-10-22T02:06:01.353Z"
   },
   {
    "duration": 6,
    "start_time": "2024-10-22T02:06:01.369Z"
   },
   {
    "duration": 37,
    "start_time": "2024-10-22T02:06:01.377Z"
   },
   {
    "duration": 13,
    "start_time": "2024-10-22T02:06:01.416Z"
   },
   {
    "duration": 6,
    "start_time": "2024-10-22T02:06:01.431Z"
   },
   {
    "duration": 19,
    "start_time": "2024-10-22T02:06:01.439Z"
   },
   {
    "duration": 7,
    "start_time": "2024-10-22T02:06:01.460Z"
   },
   {
    "duration": 44,
    "start_time": "2024-10-22T02:06:01.469Z"
   },
   {
    "duration": 5,
    "start_time": "2024-10-22T02:06:01.515Z"
   },
   {
    "duration": 6,
    "start_time": "2024-10-22T02:06:01.522Z"
   },
   {
    "duration": 7,
    "start_time": "2024-10-22T02:06:01.530Z"
   },
   {
    "duration": 10,
    "start_time": "2024-10-22T02:06:01.539Z"
   },
   {
    "duration": 9,
    "start_time": "2024-10-22T02:06:01.551Z"
   },
   {
    "duration": 11,
    "start_time": "2024-10-22T02:06:01.561Z"
   },
   {
    "duration": 44,
    "start_time": "2024-10-22T02:06:01.575Z"
   },
   {
    "duration": 4,
    "start_time": "2024-10-22T02:06:01.621Z"
   },
   {
    "duration": 5,
    "start_time": "2024-10-22T02:06:01.627Z"
   },
   {
    "duration": 5,
    "start_time": "2024-10-22T02:06:01.635Z"
   },
   {
    "duration": 7,
    "start_time": "2024-10-22T02:06:01.646Z"
   },
   {
    "duration": 7,
    "start_time": "2024-10-22T02:06:01.655Z"
   },
   {
    "duration": 55,
    "start_time": "2024-10-22T02:06:01.664Z"
   },
   {
    "duration": 20,
    "start_time": "2024-10-22T02:06:01.722Z"
   },
   {
    "duration": 18,
    "start_time": "2024-10-22T02:06:01.744Z"
   },
   {
    "duration": 16,
    "start_time": "2024-10-22T02:06:01.764Z"
   },
   {
    "duration": 41,
    "start_time": "2024-10-22T02:06:01.783Z"
   },
   {
    "duration": 13,
    "start_time": "2024-10-22T02:06:01.826Z"
   },
   {
    "duration": 16,
    "start_time": "2024-10-22T02:06:01.840Z"
   },
   {
    "duration": 5,
    "start_time": "2024-10-22T02:06:01.858Z"
   },
   {
    "duration": 148,
    "start_time": "2024-10-22T02:06:01.865Z"
   },
   {
    "duration": 52,
    "start_time": "2024-10-22T02:06:02.015Z"
   },
   {
    "duration": 11,
    "start_time": "2024-10-22T02:06:02.070Z"
   },
   {
    "duration": 142,
    "start_time": "2024-10-22T02:06:02.083Z"
   },
   {
    "duration": 13,
    "start_time": "2024-10-22T02:06:02.227Z"
   },
   {
    "duration": 255,
    "start_time": "2024-10-22T02:06:02.242Z"
   },
   {
    "duration": 27,
    "start_time": "2024-10-22T02:06:02.499Z"
   },
   {
    "duration": 19,
    "start_time": "2024-10-22T02:06:02.528Z"
   },
   {
    "duration": 239,
    "start_time": "2024-10-22T02:06:02.549Z"
   },
   {
    "duration": 10,
    "start_time": "2024-10-22T02:06:02.790Z"
   },
   {
    "duration": 277,
    "start_time": "2024-10-22T02:06:02.802Z"
   },
   {
    "duration": 16,
    "start_time": "2024-10-22T02:06:03.081Z"
   },
   {
    "duration": 23,
    "start_time": "2024-10-22T02:06:03.100Z"
   },
   {
    "duration": 157,
    "start_time": "2024-10-22T02:06:03.125Z"
   },
   {
    "duration": 143,
    "start_time": "2024-10-22T02:06:03.284Z"
   },
   {
    "duration": 13,
    "start_time": "2024-10-22T02:06:03.430Z"
   },
   {
    "duration": 8,
    "start_time": "2024-10-22T02:06:03.445Z"
   },
   {
    "duration": 15,
    "start_time": "2024-10-22T02:06:03.455Z"
   },
   {
    "duration": 9,
    "start_time": "2024-10-22T02:06:03.472Z"
   },
   {
    "duration": 121,
    "start_time": "2024-10-22T02:06:03.512Z"
   },
   {
    "duration": 18,
    "start_time": "2024-10-22T02:06:03.635Z"
   },
   {
    "duration": 13,
    "start_time": "2024-10-22T02:06:03.655Z"
   },
   {
    "duration": 182,
    "start_time": "2024-10-22T02:06:03.670Z"
   },
   {
    "duration": 12,
    "start_time": "2024-10-22T02:06:03.855Z"
   },
   {
    "duration": 152,
    "start_time": "2024-10-22T02:06:03.869Z"
   },
   {
    "duration": 11,
    "start_time": "2024-10-22T02:06:04.023Z"
   },
   {
    "duration": 13,
    "start_time": "2024-10-22T02:06:04.038Z"
   },
   {
    "duration": 20,
    "start_time": "2024-10-22T02:06:04.053Z"
   },
   {
    "duration": 38,
    "start_time": "2024-10-22T02:06:04.075Z"
   },
   {
    "duration": 8,
    "start_time": "2024-10-22T02:06:04.115Z"
   },
   {
    "duration": 12,
    "start_time": "2024-10-22T02:06:04.126Z"
   },
   {
    "duration": 8,
    "start_time": "2024-10-22T02:06:04.140Z"
   },
   {
    "duration": 6,
    "start_time": "2024-10-22T02:06:04.150Z"
   },
   {
    "duration": 11,
    "start_time": "2024-10-22T02:06:04.158Z"
   },
   {
    "duration": 42,
    "start_time": "2024-10-22T02:06:04.171Z"
   },
   {
    "duration": 7,
    "start_time": "2024-10-22T02:06:04.215Z"
   },
   {
    "duration": 11,
    "start_time": "2024-10-22T02:06:04.224Z"
   },
   {
    "duration": 6,
    "start_time": "2024-10-22T02:06:04.237Z"
   },
   {
    "duration": 7,
    "start_time": "2024-10-22T02:06:04.245Z"
   },
   {
    "duration": 9,
    "start_time": "2024-10-22T02:06:04.254Z"
   },
   {
    "duration": 8,
    "start_time": "2024-10-22T02:06:04.265Z"
   },
   {
    "duration": 9,
    "start_time": "2024-10-22T02:06:04.313Z"
   },
   {
    "duration": 7,
    "start_time": "2024-10-22T02:06:04.326Z"
   },
   {
    "duration": 6,
    "start_time": "2024-10-22T02:06:04.334Z"
   },
   {
    "duration": 13,
    "start_time": "2024-10-22T02:06:04.350Z"
   },
   {
    "duration": 10,
    "start_time": "2024-10-22T02:06:04.366Z"
   },
   {
    "duration": 11,
    "start_time": "2024-10-22T02:06:04.378Z"
   },
   {
    "duration": 11,
    "start_time": "2024-10-22T02:06:24.696Z"
   },
   {
    "duration": 10,
    "start_time": "2024-10-22T02:06:28.388Z"
   }
  ],
  "kernelspec": {
   "display_name": "Python 3 (ipykernel)",
   "language": "python",
   "name": "python3"
  },
  "language_info": {
   "codemirror_mode": {
    "name": "ipython",
    "version": 3
   },
   "file_extension": ".py",
   "mimetype": "text/x-python",
   "name": "python",
   "nbconvert_exporter": "python",
   "pygments_lexer": "ipython3",
   "version": "3.9.19"
  },
  "toc": {
   "base_numbering": 1,
   "nav_menu": {},
   "number_sections": true,
   "sideBar": true,
   "skip_h1_title": true,
   "title_cell": "Table of Contents",
   "title_sidebar": "Contents",
   "toc_cell": false,
   "toc_position": {
    "height": "calc(100% - 180px)",
    "left": "10px",
    "top": "150px",
    "width": "255.837px"
   },
   "toc_section_display": true,
   "toc_window_display": true
  }
 },
 "nbformat": 4,
 "nbformat_minor": 2
}
